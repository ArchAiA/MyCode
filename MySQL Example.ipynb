{
 "cells": [
  {
   "cell_type": "markdown",
   "metadata": {},
   "source": [
    "<h1> Installing MySQL on OS X </h1>"
   ]
  },
  {
   "cell_type": "markdown",
   "metadata": {},
   "source": [
    "Following this guide http://wpguru.co.uk/2015/11/how-to-install-mysql-on-mac-os-x-el-capitan/\n",
    "\n",
    "<b><u>To install MySQL </b></u>: \n",
    "\n",
    "1) Download the DMG archive from http://dev.mysql.com/downloads/mysql/ <br />\n",
    "2) Run the DMG file to install it on your computer <br />\n",
    "3) Start MySQL by clicking apple -> system preferences -> MySQL -> Start MySQL Server\n",
    "<br />\n",
    "4) Altenatively run \"sudo launchctl start com.mysql.mysql\" from terminal\n",
    "\n",
    "<b><u>To configure MySQL</b></u>: \n",
    " \n",
    "1) Open a terminal <br />\n",
    "2) Add the following aliases: <br />\n",
    "\n",
    "alias mysql=/usr/local/mysql/bin/mysql <br />\n",
    "alias mysqladmin=/usr/local/mysql/bin/mysqladmin <br />\n",
    "\n",
    "3) Alterntively, add 'export PATH=\"/usr/local/mysql/bin:$PATH\"' to ./bash_profile <br />\n",
    "4) Run the secure installation by typing mysql_secure_installation in terminal <br />\n",
    "\n",
    "<b><u>To install the MySQL python module</b></u>: \n",
    "\n",
    "1) conda install pymysql"
   ]
  },
  {
   "cell_type": "markdown",
   "metadata": {
    "collapsed": false
   },
   "source": [
    "<h1> Import Python Modules </h1>"
   ]
  },
  {
   "cell_type": "markdown",
   "metadata": {},
   "source": [
    "<h> Using the tutorial from http://zetcode.com/db/mysqlpython/ </h>"
   ]
  },
  {
   "cell_type": "code",
   "execution_count": 1,
   "metadata": {
    "collapsed": true
   },
   "outputs": [],
   "source": [
    "import pymysql as mdb\n",
    "import sys"
   ]
  },
  {
   "cell_type": "markdown",
   "metadata": {},
   "source": [
    "<h1> Connect to DB and get DB version</h1>"
   ]
  },
  {
   "cell_type": "code",
   "execution_count": 2,
   "metadata": {
    "collapsed": false
   },
   "outputs": [
    {
     "name": "stdout",
     "output_type": "stream",
     "text": [
      "Database version : 5.7.13 \n"
     ]
    }
   ],
   "source": [
    "try:\n",
    "    \n",
    "    #Inputs to connect are MySQLServer, UserName, Password, Database\n",
    "    con = mdb.connect('localhost', 'testuser', 'test623', 'testdb');\n",
    "\n",
    "    #Execute commands by making a cursor, and sending .excute statements\n",
    "    cur = con.cursor()\n",
    "    cur.execute(\"SELECT VERSION()\")\n",
    "\n",
    "    #Fetch one line of the MySQL return using .fetchone()\n",
    "    ver = cur.fetchone()\n",
    "\n",
    "    print (\"Database version : %s \" % ver)\n",
    "    \n",
    "#Check for errors with .Error    \n",
    "except mdb.Error as e:\n",
    "    print(\"Error %d: %s\" % (e.args[0],e.args[1]))\n",
    "    sys.exit(1)\n",
    "    \n",
    "#Remeber to close the connection when finished    \n",
    "finally:    \n",
    "    if con:    \n",
    "        con.close()"
   ]
  },
  {
   "cell_type": "markdown",
   "metadata": {},
   "source": [
    "<h1> Create a new table called Writers and insert some data </h1>"
   ]
  },
  {
   "cell_type": "markdown",
   "metadata": {},
   "source": [
    "Note, if you do not use with to clean up the connection you will need to use con.commit() and con.rollback() to deal with committing changes.  See the last section of http://zetcode.com/db/mysqlpython/ for details"
   ]
  },
  {
   "cell_type": "code",
   "execution_count": 3,
   "metadata": {
    "collapsed": false
   },
   "outputs": [],
   "source": [
    "con = mdb.connect('localhost', 'testuser', 'test623', 'testdb');\n",
    "\n",
    "#With will close the connection after the code is done, \n",
    "#regardless of how the code exists. Use as an alternative to 'finally' statement\n",
    "with con:\n",
    "    \n",
    "    cur = con.cursor()\n",
    "    \n",
    "    #Remove the table if it already exists\n",
    "    cur.execute(\"DROP TABLE IF EXISTS Writers\")\n",
    "    \n",
    "    #Create a table called Writers, with an Id column and a Name column\n",
    "    cur.execute(\"CREATE TABLE Writers(Id INT PRIMARY KEY AUTO_INCREMENT, \\\n",
    "                 Name VARCHAR(25))\")\n",
    "    \n",
    "    #Insert five entries to the Writers table.\n",
    "    #Note that Id is auto-incremented from the previous line of code\n",
    "    cur.execute(\"INSERT INTO Writers(Name) VALUES('Jack London')\")\n",
    "    cur.execute(\"INSERT INTO Writers(Name) VALUES('Honore de Balzac')\")\n",
    "    cur.execute(\"INSERT INTO Writers(Name) VALUES('Lion Feuchtwanger')\")\n",
    "    cur.execute(\"INSERT INTO Writers(Name) VALUES('Emile Zola')\")\n",
    "    cur.execute(\"INSERT INTO Writers(Name) VALUES('Truman Capote')\")"
   ]
  },
  {
   "cell_type": "markdown",
   "metadata": {},
   "source": [
    "<h1> Fetch data from the database (all at once, with default cursor) </h1>"
   ]
  },
  {
   "cell_type": "code",
   "execution_count": 4,
   "metadata": {
    "collapsed": false
   },
   "outputs": [
    {
     "name": "stdout",
     "output_type": "stream",
     "text": [
      "(1, 'Jack London')\n",
      "(2, 'Honore de Balzac')\n",
      "(3, 'Lion Feuchtwanger')\n",
      "(4, 'Emile Zola')\n",
      "(5, 'Truman Capote')\n"
     ]
    }
   ],
   "source": [
    "con = mdb.connect('localhost', 'testuser', 'test623', 'testdb');\n",
    "\n",
    "with con: \n",
    "\n",
    "    cur = con.cursor()\n",
    "    \n",
    "    #Send select statement\n",
    "    cur.execute(\"SELECT * FROM Writers\")\n",
    "\n",
    "    #Get all of the MySQL return at once\n",
    "    #Returns a tuple of tuples, with each inner tupple being one row\n",
    "    rows = cur.fetchall()\n",
    "\n",
    "    #Loop through the tuple of rows, and print the contents of each row\n",
    "    for row in rows:\n",
    "        print(row)"
   ]
  },
  {
   "cell_type": "markdown",
   "metadata": {},
   "source": [
    "<h1> Fetch data from the database (one row at a time, with default cursor) </h1>"
   ]
  },
  {
   "cell_type": "code",
   "execution_count": 5,
   "metadata": {
    "collapsed": false
   },
   "outputs": [
    {
     "name": "stdout",
     "output_type": "stream",
     "text": [
      "[1, 'Jack London']\n",
      "[2, 'Honore de Balzac']\n",
      "[3, 'Lion Feuchtwanger']\n",
      "[4, 'Emile Zola']\n",
      "[5, 'Truman Capote']\n"
     ]
    }
   ],
   "source": [
    "con = mdb.connect('localhost', 'testuser', 'test623', 'testdb');\n",
    "\n",
    "with con:\n",
    "\n",
    "    cur = con.cursor()\n",
    "    cur.execute(\"SELECT * FROM Writers\")\n",
    "\n",
    "    #The .rowcount attribute keeps track of the number of rows \n",
    "    #returned by the execute statement\n",
    "    for i in range(cur.rowcount):\n",
    "        \n",
    "        #Use .fetchone to read the rows one by one\n",
    "        row = cur.fetchone()\n",
    "        \n",
    "        #Individual rows are returned as a list\n",
    "        #Each list entry contains individual column entires for that row\n",
    "        print ([column for column in row])"
   ]
  },
  {
   "cell_type": "markdown",
   "metadata": {},
   "source": [
    "<h1> Fetch data from the database (all at once, with dict cursor) </h1>"
   ]
  },
  {
   "cell_type": "code",
   "execution_count": 6,
   "metadata": {
    "collapsed": false
   },
   "outputs": [
    {
     "name": "stdout",
     "output_type": "stream",
     "text": [
      "1 Jack London\n",
      "2 Honore de Balzac\n",
      "3 Lion Feuchtwanger\n",
      "4 Emile Zola\n"
     ]
    }
   ],
   "source": [
    "con = mdb.connect('localhost', 'testuser', 'test623', 'testdb')\n",
    "\n",
    "with con:\n",
    "    \n",
    "    #Specify the type of cursor with cursors.TYPE\n",
    "    #The SQL return will now be a dict with column keys instead of a tuple\n",
    "    cur = con.cursor(mdb.cursors.DictCursor)\n",
    "    cur.execute(\"SELECT * FROM Writers LIMIT 4\")\n",
    "\n",
    "    rows = cur.fetchall()\n",
    "\n",
    "    #Each row is a dict, with keys equal to the column names\n",
    "    for row in rows:\n",
    "        print (row[\"Id\"], row[\"Name\"])"
   ]
  },
  {
   "cell_type": "markdown",
   "metadata": {},
   "source": [
    "<h1> Get column names </h1>"
   ]
  },
  {
   "cell_type": "code",
   "execution_count": 7,
   "metadata": {
    "collapsed": false
   },
   "outputs": [
    {
     "name": "stdout",
     "output_type": "stream",
     "text": [
      "Id Name\n",
      " 1 Jack London\n",
      " 2 Honore de Balzac\n",
      " 3 Lion Feuchtwanger\n",
      " 4 Emile Zola\n",
      " 5 Truman Capote\n"
     ]
    }
   ],
   "source": [
    "con = mdb.connect('localhost', 'testuser', 'test623', 'testdb')\n",
    "\n",
    "with con:\n",
    "\n",
    "    cur = con.cursor()\n",
    "    cur.execute(\"SELECT * FROM Writers LIMIT 5\")\n",
    "\n",
    "    rows = cur.fetchall()\n",
    "\n",
    "    #Fetches the table description\n",
    "    desc = cur.description\n",
    "\n",
    "    #Desc is a list of lists, and the [:][0] entries are the column names\n",
    "    print (\"%s %3s\" % (desc[0][0], desc[1][0]))\n",
    "\n",
    "    for row in rows:    \n",
    "        print (\"%2s %3s\" % row)"
   ]
  },
  {
   "cell_type": "markdown",
   "metadata": {},
   "source": [
    "<h1> Querying the DB with a prepared statement </h1>"
   ]
  },
  {
   "cell_type": "code",
   "execution_count": 8,
   "metadata": {
    "collapsed": false
   },
   "outputs": [
    {
     "name": "stdout",
     "output_type": "stream",
     "text": [
      "Number of rows updated: 1\n"
     ]
    }
   ],
   "source": [
    "con = mdb.connect('localhost', 'testuser', 'test623', 'testdb')\n",
    "    \n",
    "with con:    \n",
    "\n",
    "    cur = con.cursor()\n",
    "        \n",
    "    #This query updates the name of an author where the row Id =4\n",
    "    #The statement uses ANSI printf format to replace %s placeholders\n",
    "    cur.execute(\"UPDATE Writers SET Name = %s WHERE Id = %s\", \n",
    "        (\"Guy de Maupasant\", \"4\"))        \n",
    "    \n",
    "    print (\"Number of rows updated:\",  cur.rowcount)"
   ]
  },
  {
   "cell_type": "markdown",
   "metadata": {},
   "source": [
    "<h1> Inserting images to the database </h1>"
   ]
  },
  {
   "cell_type": "markdown",
   "metadata": {},
   "source": [
    "<h> Creating a new table to hold the images </h>"
   ]
  },
  {
   "cell_type": "code",
   "execution_count": 9,
   "metadata": {
    "collapsed": false
   },
   "outputs": [],
   "source": [
    "#Creating a new table named \"Images\" to hold the images\n",
    "\n",
    "con = mdb.connect('localhost', 'testuser', 'test623', 'testdb');\n",
    "\n",
    "with con:\n",
    "    \n",
    "    cur = con.cursor()\n",
    "    \n",
    "    #Remove the table if it already exists\n",
    "    cur.execute(\"DROP TABLE IF EXISTS Images\")\n",
    "\n",
    "    #Create a table called Images, with an Id column and a Data column\n",
    "    #The data colum is a \"medium blob\" type -- what SQL calls binary types\n",
    "    cur.execute(\"CREATE TABLE Images(Id INT PRIMARY KEY,DATA MEDIUMBLOB);\")\n",
    "    "
   ]
  },
  {
   "cell_type": "markdown",
   "metadata": {},
   "source": [
    "<h> Inserting the image </h>"
   ]
  },
  {
   "cell_type": "code",
   "execution_count": 10,
   "metadata": {
    "collapsed": false
   },
   "outputs": [],
   "source": [
    "con = mdb.connect('localhost', 'testuser', 'test623', 'testdb')\n",
    " \n",
    "with con:\n",
    "    #Get the binary data from the image\n",
    "    #We use \"blob_value\" for the name because MySQL calls binary types blobs\n",
    "    image_dir = '/Users/richardknoche/Downloads/PythonImg.jpg'\n",
    "    blob_value = open(image_dir, 'rb').read()\n",
    "    \n",
    "    #Create cursor\n",
    "    cursor=con.cursor()\n",
    "\n",
    "    #Insert the image\n",
    "    sql = 'INSERT INTO Images VALUES(1,%s)'  #the first VALUES(N,%s) is the row index\n",
    "    args = (blob_value, )\n",
    "    cursor.execute(sql,args)"
   ]
  },
  {
   "cell_type": "markdown",
   "metadata": {},
   "source": [
    "<h1> Retrieving images from the database </h1>"
   ]
  },
  {
   "cell_type": "code",
   "execution_count": 11,
   "metadata": {
    "collapsed": false
   },
   "outputs": [],
   "source": [
    "con = mdb.connect('localhost', 'testuser', 'test623', 'testdb')\n",
    "\n",
    "with con:\n",
    "\n",
    "    #Create the cursor\n",
    "    cur = con.cursor()\n",
    "    \n",
    "    #Query the DB for the image\n",
    "    cur.execute(\"SELECT Data FROM Images WHERE Id=1\")\n",
    "    data = cur.fetchone()[0]\n",
    "    \n",
    "    #Write the image data to an output file\n",
    "    out_path = '/Users/richardknoche/Downloads/PythonImg_FromDB.jpg'\n",
    "    fout = open(out_path,'wb')\n",
    "    with fout:\n",
    "        fout.write(data)"
   ]
  }
 ],
 "metadata": {
  "kernelspec": {
   "display_name": "Python 3",
   "language": "python",
   "name": "python3"
  },
  "language_info": {
   "codemirror_mode": {
    "name": "ipython",
    "version": 3
   },
   "file_extension": ".py",
   "mimetype": "text/x-python",
   "name": "python",
   "nbconvert_exporter": "python",
   "pygments_lexer": "ipython3",
   "version": "3.5.1"
  }
 },
 "nbformat": 4,
 "nbformat_minor": 0
}
