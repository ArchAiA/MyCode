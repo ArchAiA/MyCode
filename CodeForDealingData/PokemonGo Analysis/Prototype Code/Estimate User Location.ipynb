{
 "cells": [
  {
   "cell_type": "markdown",
   "metadata": {},
   "source": [
    "<h2> Populating Data Frame </h2>\n"
   ]
  },
  {
   "cell_type": "markdown",
   "metadata": {},
   "source": [
    "Resources:\n",
    "\n",
    "https://arxiv.org/abs/1403.2345\n",
    "\n",
    "https://gab41.lab41.org/2-highly-effective-ways-to-estimate-user-location-in-social-media-65eb1e2d8482#.hjsu1opws"
   ]
  },
  {
   "cell_type": "code",
   "execution_count": 1,
   "metadata": {
    "collapsed": false
   },
   "outputs": [
    {
     "data": {
      "text/html": [
       "\n",
       "    <div class=\"bk-root\">\n",
       "        <a href=\"http://bokeh.pydata.org\" target=\"_blank\" class=\"bk-logo bk-logo-small bk-logo-notebook\"></a>\n",
       "        <span id=\"b6a3c602-3a04-412a-8c05-2d971c8d8095\">Loading BokehJS ...</span>\n",
       "    </div>"
      ]
     },
     "metadata": {},
     "output_type": "display_data"
    },
    {
     "data": {
      "application/javascript": [
       "\n",
       "(function(global) {\n",
       "  function now() {\n",
       "    return new Date();\n",
       "  }\n",
       "\n",
       "  if (typeof (window._bokeh_onload_callbacks) === \"undefined\") {\n",
       "    window._bokeh_onload_callbacks = [];\n",
       "  }\n",
       "\n",
       "  function run_callbacks() {\n",
       "    window._bokeh_onload_callbacks.forEach(function(callback) { callback() });\n",
       "    delete window._bokeh_onload_callbacks\n",
       "    console.info(\"Bokeh: all callbacks have finished\");\n",
       "  }\n",
       "\n",
       "  function load_libs(js_urls, callback) {\n",
       "    window._bokeh_onload_callbacks.push(callback);\n",
       "    if (window._bokeh_is_loading > 0) {\n",
       "      console.log(\"Bokeh: BokehJS is being loaded, scheduling callback at\", now());\n",
       "      return null;\n",
       "    }\n",
       "    if (js_urls == null || js_urls.length === 0) {\n",
       "      run_callbacks();\n",
       "      return null;\n",
       "    }\n",
       "    console.log(\"Bokeh: BokehJS not loaded, scheduling load and callback at\", now());\n",
       "    window._bokeh_is_loading = js_urls.length;\n",
       "    for (var i = 0; i < js_urls.length; i++) {\n",
       "      var url = js_urls[i];\n",
       "      var s = document.createElement('script');\n",
       "      s.src = url;\n",
       "      s.async = false;\n",
       "      s.onreadystatechange = s.onload = function() {\n",
       "        window._bokeh_is_loading--;\n",
       "        if (window._bokeh_is_loading === 0) {\n",
       "          console.log(\"Bokeh: all BokehJS libraries loaded\");\n",
       "          run_callbacks()\n",
       "        }\n",
       "      };\n",
       "      s.onerror = function() {\n",
       "        console.warn(\"failed to load library \" + url);\n",
       "      };\n",
       "      console.log(\"Bokeh: injecting script tag for BokehJS library: \", url);\n",
       "      document.getElementsByTagName(\"head\")[0].appendChild(s);\n",
       "    }\n",
       "  };\n",
       "\n",
       "  var js_urls = ['https://cdn.pydata.org/bokeh/release/bokeh-0.12.0.min.js', 'https://cdn.pydata.org/bokeh/release/bokeh-widgets-0.12.0.min.js', 'https://cdn.pydata.org/bokeh/release/bokeh-compiler-0.12.0.min.js'];\n",
       "\n",
       "  var inline_js = [\n",
       "    function(Bokeh) {\n",
       "      Bokeh.set_log_level(\"info\");\n",
       "    },\n",
       "    \n",
       "    function(Bokeh) {\n",
       "      Bokeh.$(\"#b6a3c602-3a04-412a-8c05-2d971c8d8095\").text(\"BokehJS successfully loaded\");\n",
       "    },\n",
       "    function(Bokeh) {\n",
       "      console.log(\"Bokeh: injecting CSS: https://cdn.pydata.org/bokeh/release/bokeh-0.12.0.min.css\");\n",
       "      Bokeh.embed.inject_css(\"https://cdn.pydata.org/bokeh/release/bokeh-0.12.0.min.css\");\n",
       "      console.log(\"Bokeh: injecting CSS: https://cdn.pydata.org/bokeh/release/bokeh-widgets-0.12.0.min.css\");\n",
       "      Bokeh.embed.inject_css(\"https://cdn.pydata.org/bokeh/release/bokeh-widgets-0.12.0.min.css\");\n",
       "    }\n",
       "  ];\n",
       "\n",
       "  function run_inline_js() {\n",
       "    for (var i = 0; i < inline_js.length; i++) {\n",
       "      inline_js[i](window.Bokeh);\n",
       "    }\n",
       "  }\n",
       "\n",
       "  if (window._bokeh_is_loading === 0) {\n",
       "    console.log(\"Bokeh: BokehJS loaded, going straight to plotting\");\n",
       "    run_inline_js();\n",
       "  } else {\n",
       "    load_libs(js_urls, function() {\n",
       "      console.log(\"Bokeh: BokehJS plotting callback run at\", now());\n",
       "      run_inline_js();\n",
       "    });\n",
       "  }\n",
       "}(this));"
      ]
     },
     "metadata": {},
     "output_type": "display_data"
    }
   ],
   "source": [
    "import json\n",
    "import pandas as pd\n",
    "import bokeh\n",
    "from bokeh.plotting import figure, output_notebook, show\n",
    "\n",
    "#Inline Plotting\n",
    "output_notebook()"
   ]
  },
  {
   "cell_type": "code",
   "execution_count": 2,
   "metadata": {
    "collapsed": true
   },
   "outputs": [],
   "source": [
    "def load_twitter_data(tweets_data_path):\n",
    "    tweets_data = []\n",
    "    tweets_file = open(tweets_data_path, \"r\")\n",
    "    for line in tweets_file:\n",
    "        try:\n",
    "            tweet = json.loads(line)\n",
    "            tweets_data.append(tweet)\n",
    "        except:\n",
    "            continue\n",
    "    return tweets_data\n",
    "\n",
    "def pop_tweets(path):\n",
    "    tweets_data = load_twitter_data(path)\n",
    "    tweets = pd.DataFrame(columns=['screenName','userId','text','latt','long','location'])\n",
    "\n",
    "    for tweet in tweets_data:\n",
    "        if ('text' in tweet): \n",
    "            if tweet['coordinates'] != None:\n",
    "                tweets.loc[len(tweets)]=[tweet['user']['screen_name'],tweet['user']['id'],tweet['text'], \\\n",
    "                                         tweet['coordinates']['coordinates'][0],\\\n",
    "                                         tweet['coordinates']['coordinates'][1],tweet['place']['full_name']]    \n",
    "            else:\n",
    "                tweets.loc[len(tweets)]=[tweet['user']['screen_name'],tweet['user']['id'],tweet['text'], \\\n",
    "                                         float('nan'),float('nan'),tweet['place']['full_name']]    \n",
    "        \n",
    "    return tweets"
   ]
  },
  {
   "cell_type": "code",
   "execution_count": 3,
   "metadata": {
    "collapsed": true
   },
   "outputs": [],
   "source": [
    "PoGo_tweets = pop_tweets('PoGo_USA.json')"
   ]
  },
  {
   "cell_type": "code",
   "execution_count": 4,
   "metadata": {
    "collapsed": false
   },
   "outputs": [
    {
     "data": {
      "text/html": [
       "<div>\n",
       "<table border=\"1\" class=\"dataframe\">\n",
       "  <thead>\n",
       "    <tr style=\"text-align: right;\">\n",
       "      <th></th>\n",
       "      <th>screenName</th>\n",
       "      <th>userId</th>\n",
       "      <th>text</th>\n",
       "      <th>latt</th>\n",
       "      <th>long</th>\n",
       "      <th>location</th>\n",
       "    </tr>\n",
       "  </thead>\n",
       "  <tbody>\n",
       "    <tr>\n",
       "      <th>0</th>\n",
       "      <td>desmond_ayala</td>\n",
       "      <td>2.953472e+09</td>\n",
       "      <td>Which pokemon go team did y'all chose? #valor</td>\n",
       "      <td>NaN</td>\n",
       "      <td>NaN</td>\n",
       "      <td>Caldwell, ID</td>\n",
       "    </tr>\n",
       "    <tr>\n",
       "      <th>1</th>\n",
       "      <td>aphrospice</td>\n",
       "      <td>1.629086e+07</td>\n",
       "      <td>#Magikarp practicing his struggle skills in th...</td>\n",
       "      <td>-73.9187</td>\n",
       "      <td>40.6943</td>\n",
       "      <td>Brooklyn, NY</td>\n",
       "    </tr>\n",
       "    <tr>\n",
       "      <th>2</th>\n",
       "      <td>ABellgowan</td>\n",
       "      <td>1.681036e+09</td>\n",
       "      <td>Pokemon Go is taking over my life #TeamInstinct</td>\n",
       "      <td>NaN</td>\n",
       "      <td>NaN</td>\n",
       "      <td>Bixby, OK</td>\n",
       "    </tr>\n",
       "    <tr>\n",
       "      <th>3</th>\n",
       "      <td>JangoSnow</td>\n",
       "      <td>1.057434e+07</td>\n",
       "      <td>Go Team Instinct! I like underdogs. :)  https:...</td>\n",
       "      <td>NaN</td>\n",
       "      <td>NaN</td>\n",
       "      <td>Los Angeles, CA</td>\n",
       "    </tr>\n",
       "    <tr>\n",
       "      <th>4</th>\n",
       "      <td>MetalMushin</td>\n",
       "      <td>6.033327e+08</td>\n",
       "      <td>Gonna go fuck up some #TeamMystic and #TeamIns...</td>\n",
       "      <td>NaN</td>\n",
       "      <td>NaN</td>\n",
       "      <td>Orange, CT</td>\n",
       "    </tr>\n",
       "  </tbody>\n",
       "</table>\n",
       "</div>"
      ],
      "text/plain": [
       "      screenName        userId  \\\n",
       "0  desmond_ayala  2.953472e+09   \n",
       "1     aphrospice  1.629086e+07   \n",
       "2     ABellgowan  1.681036e+09   \n",
       "3      JangoSnow  1.057434e+07   \n",
       "4    MetalMushin  6.033327e+08   \n",
       "\n",
       "                                                text     latt     long  \\\n",
       "0      Which pokemon go team did y'all chose? #valor      NaN      NaN   \n",
       "1  #Magikarp practicing his struggle skills in th... -73.9187  40.6943   \n",
       "2    Pokemon Go is taking over my life #TeamInstinct      NaN      NaN   \n",
       "3  Go Team Instinct! I like underdogs. :)  https:...      NaN      NaN   \n",
       "4  Gonna go fuck up some #TeamMystic and #TeamIns...      NaN      NaN   \n",
       "\n",
       "          location  \n",
       "0     Caldwell, ID  \n",
       "1     Brooklyn, NY  \n",
       "2        Bixby, OK  \n",
       "3  Los Angeles, CA  \n",
       "4       Orange, CT  "
      ]
     },
     "execution_count": 4,
     "metadata": {},
     "output_type": "execute_result"
    }
   ],
   "source": [
    "PoGo_tweets.head(n=5)"
   ]
  },
  {
   "cell_type": "markdown",
   "metadata": {},
   "source": [
    "<h1> If we need more data: Estimating state from social network for all tweets </h1>\n",
    "ways to improve this: <br />\n",
    "Machine learning -  <br />\n",
    "Include information about the location of state - <br />"
   ]
  },
  {
   "cell_type": "code",
   "execution_count": null,
   "metadata": {
    "collapsed": true
   },
   "outputs": [],
   "source": [
    "import time\n",
    "import tweepy\n",
    "from tweepy import OAuthHandler\n",
    "\n",
    "consumer_key = 'XxMbTu6bFIU7v4agH3OqRDDYi'\n",
    "consumer_secret = 'wpF7eKmVDlH3zJzvORWD0Pr6j8dqAhczrIFq4c3ZAH0g3kDw5Q'\n",
    "access_token = '722589135987478528-SxCJ6LxQaM6A1pa3ZTUj5CYWVZkW48m'\n",
    "access_secret = 'ChZ6oU0B6ALmrI1bE9GaW9nXD7c8w3nSdtGArwnHAe6Ho'\n",
    " \n",
    "#auth = OAuthHandler(consumer_key, consumer_secret)\n",
    "#auth.set_access_token(access_token, access_secret)\n",
    "#api = tweepy.API(auth)\n",
    "\n",
    "# Replace the API_KEY and API_SECRET with your application's key and secret.\n",
    "auth = tweepy.AppAuthHandler('XxMbTu6bFIU7v4agH3OqRDDYi', 'wpF7eKmVDlH3zJzvORWD0Pr6j8dqAhczrIFq4c3ZAH0g3kDw5Q')\n",
    " \n",
    "api = tweepy.API(auth, wait_on_rate_limit=True,\n",
    "\t\t\t\t   wait_on_rate_limit_notify=True)\n",
    " \n",
    "if (not api):\n",
    "    print (\"Can't Authenticate\")\n",
    "    sys.exit(-1)"
   ]
  },
  {
   "cell_type": "markdown",
   "metadata": {},
   "source": [
    "Find the most likely user state based on most common friend's state (normalized to the population of each state)"
   ]
  },
  {
   "cell_type": "code",
   "execution_count": null,
   "metadata": {
    "collapsed": true
   },
   "outputs": [],
   "source": [
    "#Dictionary of state populations (in millions) - from google and US census\n",
    "state_pops = {\n",
    "        'Alaska' : 0.736,\n",
    "        'Alabama': 4.849,\n",
    "        'Arkansas' : 2.966,\n",
    "        'Arizona': 6.731,\n",
    "        'California' : 38.8,\n",
    "        'Colorado' : 5.356,\n",
    "        'Connecticut' : 3.597,\n",
    "        'District of Columbia' : 0.659,\n",
    "        'Delaware' : 0.936,\n",
    "        'Florida': 19.89,\n",
    "        'Georgia': 10.1,\n",
    "        'Hawaii': 1.42,\n",
    "        'Iowa': 3.107,\n",
    "        'Idaho' : 1.634,\n",
    "        'Illinois' : 12.88,\n",
    "        'Indiana' : 6.597,\n",
    "        'Kansas' : 2.904,\n",
    "        'Kentucky' : 4.413,\n",
    "        'Louisiana' : 4.65,\n",
    "        'Massachusetts' : 6.745,\n",
    "        'Maryland' : 5.976,\n",
    "        'Maine' : 1.33,\n",
    "        'Michigan' : 9.91,\n",
    "        'Minnesota' : 5.457,\n",
    "        'Missouri' : 6.064,\n",
    "        'Mississippi' : 2.994,\n",
    "        'Montana' : 1.024,\n",
    "        'North Carolina' : 9.944,\n",
    "        'North Dakota' : 0.739,\n",
    "        'Nebraska' : 1.882,\n",
    "        'New Hampshire' : 1.327,\n",
    "        'New Jersey' : 8.938,\n",
    "        'New Mexico' : 2.086,\n",
    "        'Nevada' : 2.839,\n",
    "        'New York' : 19.75,\n",
    "        'Ohio' : 11.59,\n",
    "        'Oklahoma' : 3.878,\n",
    "        'Oregon' : 3.97,\n",
    "        'Pennsylvania' : 12.79,\n",
    "        'Puerto Rico' : 3.548,\n",
    "        'Rhode Island' : 1.055,\n",
    "        'South Carolina' : 4.832,\n",
    "        'South Dakota' : 0.853,\n",
    "        'Tennessee' : 6.549,\n",
    "        'Texas' : 26.96,\n",
    "        'Utah' : 2.943,\n",
    "        'Virginia' : 8.326,\n",
    "        'Vermont' : 0.627,\n",
    "        'Washington' : 7.062,\n",
    "        'Wisconsin' : 5.758,\n",
    "        'West Virginia' : 1.85,\n",
    "        'Wyoming' : 0.584\n",
    "}"
   ]
  },
  {
   "cell_type": "code",
   "execution_count": null,
   "metadata": {
    "collapsed": true
   },
   "outputs": [],
   "source": [
    "from collections import Counter\n",
    "\n",
    "def estimateState(userId):\n",
    "#userId should be in the form int(PoGo_tweets.ix[3,'userId'])\n",
    "    #Find the user's friends' locations\n",
    "    friend_locs = []\n",
    "\n",
    "    #follower_query_remaining = api.rate_limit_status()['resources']['followers']['/followers/list']['remaining']\n",
    "    #friend_query_remaining = api.rate_limit_status()['resources']['friends']['/friends/list']['remaining']\n",
    "    \n",
    "    #switch off between query methods to double our rate limit (now we get 2 queries per min)\n",
    "    '''\n",
    "    if follower_query_remaining > friend_query_remaining:\n",
    "        for user in tweepy.Cursor(api.following, screen_name=PoGo_tweets.ix[idx,'screenName']).items(50):\n",
    "            if user.location:\n",
    "                friend_locs.append(user.location)  \n",
    "    else:\n",
    "    '''\n",
    "    for friend in tweepy.Cursor(api.friends, id=userId, count=40).items():\n",
    "        if friend.location:\n",
    "            friend_locs.append(friend.location)    \n",
    "        \n",
    "    #Parse the list of friend locations\n",
    "    friend_state_list=[]\n",
    "    for info in friend_locs:\n",
    "        new_state = [state for state in state_names if state in info] + \\\n",
    "                    [states[state] for state in states if state in info]\n",
    "\n",
    "        #Handle cases like \"District of Columbia, Washington\" and \"New York, NY\"\n",
    "        if len(new_state) > 1:\n",
    "            new_state = new_state[1].split('junk_sadas')\n",
    "\n",
    "        #Handle cases where no state is mentioned    \n",
    "        if not new_state:\n",
    "            new_state = ['None']\n",
    "\n",
    "        friend_state_list+=new_state\n",
    "\n",
    "    friend_state_list=[i for i in friend_state_list if i != 'None']\n",
    "    state_counts=Counter(friend_state_list)\n",
    "    norm_state_counts={}\n",
    "    com_state = state_counts.most_common(1)\n",
    "    \n",
    "    for state in state_counts:\n",
    "        norm_state_counts[state] = state_counts[state] / state_pops[state]\n",
    "\n",
    "    if state_counts:\n",
    "        return (max(norm_state_counts, key=norm_state_counts.get), str(com_state).split(\"'\")[1])\n",
    "    else:\n",
    "        return (None,None)"
   ]
  },
  {
   "cell_type": "code",
   "execution_count": null,
   "metadata": {
    "collapsed": true
   },
   "outputs": [],
   "source": [
    "api.rate_limit_status()['resources']['friends']['/friends/list']['remaining']"
   ]
  },
  {
   "cell_type": "markdown",
   "metadata": {},
   "source": [
    "Add estimated state column to dataframe and determine accuracy of estimate.  \n",
    "NOTE: we can use the accuracy of the state estimate to determine true fraction of each team in a state\n",
    "using bayesian statistics (see phone pics)\n"
   ]
  },
  {
   "cell_type": "code",
   "execution_count": null,
   "metadata": {
    "collapsed": true
   },
   "outputs": [],
   "source": [
    "for idx in range(len(PoGo_tweets)):\n",
    "    PoGo_tweets.ix[idx,'est_state_norm'], PoGo_tweets.ix[idx,'est_state']=estimateState(int(PoGo_tweets.ix[idx,'userId']))"
   ]
  },
  {
   "cell_type": "code",
   "execution_count": null,
   "metadata": {
    "collapsed": true
   },
   "outputs": [],
   "source": [
    "PoGo_tweets.head(n=10)"
   ]
  },
  {
   "cell_type": "markdown",
   "metadata": {},
   "source": [
    "<h1> Trying api.search to get friends instead due to rate limit issues</h1>\n",
    "Usually not enough @user tweets in the past week to do this"
   ]
  },
  {
   "cell_type": "code",
   "execution_count": null,
   "metadata": {
    "collapsed": true
   },
   "outputs": [],
   "source": [
    "idx=1"
   ]
  },
  {
   "cell_type": "code",
   "execution_count": null,
   "metadata": {
    "collapsed": true
   },
   "outputs": [],
   "source": [
    "#Checking if cursor method gives same result\n",
    "max_tweets = 200\n",
    "searchQuery = '@%s' % PoGo_tweets.ix[idx,'screenName']\n",
    "friend_loc = []\n",
    "for tweet in tweepy.Cursor(api.search,q=searchQuery).items(max_tweets):\n",
    "    if tweet.place:\n",
    "        friend_loc.append(tweet.place.full_name)"
   ]
  },
  {
   "cell_type": "code",
   "execution_count": null,
   "metadata": {
    "collapsed": true
   },
   "outputs": [],
   "source": [
    "len(friend_loc)"
   ]
  }
 ],
 "metadata": {
  "kernelspec": {
   "display_name": "Python 3",
   "language": "python",
   "name": "python3"
  },
  "language_info": {
   "codemirror_mode": {
    "name": "ipython",
    "version": 3
   },
   "file_extension": ".py",
   "mimetype": "text/x-python",
   "name": "python",
   "nbconvert_exporter": "python",
   "pygments_lexer": "ipython3",
   "version": "3.5.1"
  }
 },
 "nbformat": 4,
 "nbformat_minor": 0
}
