{
 "cells": [
  {
   "cell_type": "markdown",
   "metadata": {},
   "source": [
    "# First load the data"
   ]
  },
  {
   "cell_type": "code",
   "execution_count": 1,
   "metadata": {
    "collapsed": false
   },
   "outputs": [
    {
     "name": "stderr",
     "output_type": "stream",
     "text": [
      "/Users/richardknoche/anaconda/envs/py27/lib/python2.7/site-packages/matplotlib/__init__.py:1035: UserWarning: Duplicate key in file \"/Users/richardknoche/.matplotlib/matplotlibrc\", line #2\n",
      "  (fname, cnt))\n"
     ]
    }
   ],
   "source": [
    "import numpy as np\n",
    "import pandas as pd\n",
    "import collections\n",
    "import matplotlib.pyplot as plt\n",
    "import matplotlib\n",
    "%matplotlib inline\n",
    "import numpy as np\n",
    "from scipy.stats.stats import pearsonr \n",
    "import math\n",
    "\n",
    "\n",
    "gameStats = pd.read_csv('gameStats_v2.csv')\n",
    "gameStats.drop('Unnamed: 0', axis=1, inplace=True)\n",
    "\n",
    "aggregate_stats=['defense_int_tds','defense_misc_tds','defense_sk','defense_frec_tds',\\\n",
    "               'defense_frec_tds','defense_puntblk','defense_fgblk',\\\n",
    "               'defense_xpblk','defense_int','defense_frec','defense_safe',\\\n",
    "               'defense_ffum','defense_pass_def','defense_int_yds',\\\n",
    "               'defense_tkl_loss','defense_tkl_loss_yds']"
   ]
  },
  {
   "cell_type": "markdown",
   "metadata": {},
   "source": [
    "# Calculate the Fantasy Points for each row in our data frame"
   ]
  },
  {
   "cell_type": "code",
   "execution_count": 3,
   "metadata": {
    "collapsed": true
   },
   "outputs": [],
   "source": [
    "#Add fantasy points column\n",
    "point_dict={\n",
    "    'passing_yds': 0.04,\n",
    "    'passing_tds': 6,\n",
    "    'passing_int': -2,\n",
    "    'passing_twoptm': 2,\n",
    "    'rushing_yds': 0.1,\n",
    "    'rushing_tds': 6,\n",
    "    'rushing_twoptm': 2,\n",
    "    'receiving_yds': 0.1,\n",
    "    'receiving_rec': 1,\n",
    "    'receiving_tds': 6,\n",
    "    'receiving_twoptm': 2,\n",
    "    'kickret_tds': 6,\n",
    "    'puntret_tds': 6,\n",
    "    'fumbles_rec_tds': 6,\n",
    "    'fumbles_lost': -2,\n",
    "    'defense_int_tds': 6,\n",
    "    'defense_frec_tds': 6,\n",
    "    'defense_misc_tds': 6,\n",
    "    'defense_sk': 1,\n",
    "    'defense_puntblk': 2,\n",
    "    'defense_fgblk': 2,\n",
    "    'defense_xpblk': 2,\n",
    "    'defense_int': 2,\n",
    "    'defense_frec': 2,\n",
    "    'defense_safe': 2,\n",
    "    #No 2 pnt return data\n",
    "    #No 1 pnt safety data\n",
    "    #Need to figure out how to deal with defense points allowed and yds allowed\n",
    "    'kicking_xpmade': 1,\n",
    "    'kicking_fgmissed': -1,\n",
    "    #Need to handle kicking yardage \n",
    "}\n",
    "\n",
    "def CalcFantasyPoints(row):\n",
    "    points = 0\n",
    "    for stat in point_dict:\n",
    "        points += row[stat] * point_dict[stat]\n",
    "    return points\n",
    "\n",
    "gameStats['FantasyPoints']=gameStats.apply(CalcFantasyPoints,axis=1)"
   ]
  },
  {
   "cell_type": "markdown",
   "metadata": {},
   "source": [
    "# Find the Season each game was played in"
   ]
  },
  {
   "cell_type": "code",
   "execution_count": 4,
   "metadata": {
    "collapsed": true
   },
   "outputs": [],
   "source": [
    "gameStats['Season']=gameStats.apply(lambda row: np.floor( (row['Week']-1)/17 ) + 1 ,axis=1)"
   ]
  },
  {
   "cell_type": "markdown",
   "metadata": {},
   "source": [
    "# Calculate a player's Fantasy Points in the last season, and two seasons ago"
   ]
  },
  {
   "cell_type": "code",
   "execution_count": 6,
   "metadata": {
    "collapsed": false
   },
   "outputs": [],
   "source": [
    "#Note: PriorSeasonPoints will be nonsense for 2009 \n",
    "#Note: TwoPriorSeasonPoints will be nonsense for 2009 and 2010\n",
    "\n",
    "def FindSeasonScore(row,seasons_prior):\n",
    "\n",
    "    player=row['Player']\n",
    "    player_id=row['PlayerID']\n",
    "    season = row['Season']-seasons_prior\n",
    "    tot_points = gameStats[(gameStats['Player']==player) & (gameStats['PlayerID']==player_id) & \\\n",
    "              (gameStats['Season']==season)]['FantasyPoints'].sum()\n",
    "        \n",
    "    return tot_points\n",
    "\n",
    "gameStats['PriorSeasonPoints']=gameStats.apply(FindSeasonScore,args=[1] ,axis=1)\n",
    "gameStats['TwoPriorSeasonPoints']=gameStats.apply(FindSeasonScore,args=[2] ,axis=1)"
   ]
  },
  {
   "cell_type": "code",
   "execution_count": 7,
   "metadata": {
    "collapsed": true
   },
   "outputs": [],
   "source": [
    "gameStats.to_csv('gameStats_withFeats.csv')"
   ]
  },
  {
   "cell_type": "markdown",
   "metadata": {},
   "source": [
    "# Calculate the player's average stats over the last N weeks (including fantasy points)"
   ]
  },
  {
   "cell_type": "code",
   "execution_count": 8,
   "metadata": {
    "collapsed": false
   },
   "outputs": [],
   "source": [
    "from scipy.stats import norm\n",
    "import matplotlib.mlab as mlab\n",
    "import matplotlib.pyplot as plt"
   ]
  },
  {
   "cell_type": "code",
   "execution_count": 9,
   "metadata": {
    "collapsed": false
   },
   "outputs": [
    {
     "data": {
      "image/png": "[encoded data removed]",
      "text/plain": [
       "<matplotlib.figure.Figure at 0x117e9d910>"
      ]
     },
     "metadata": {},
     "output_type": "display_data"
    }
   ],
   "source": [
    "#Find outlier games where players were injured before or during the game\n",
    "#Turns out even players like Tom Brady can have legitmate -3sigma games\n",
    "#Will have to just use a cut on all stats != 0 instead of trying to identify outlier games\n",
    "\n",
    "test=gameStats[gameStats['Player']=='Tom Brady']\n",
    "tarHist=np.hstack(test['passing_yds'].tolist())\n",
    "\n",
    "# best fit of data\n",
    "(mu, sigma) = norm.fit(tarHist)\n",
    "\n",
    "# determine cutoff for \"outlier\"\n",
    "outlier_min = mu-2*sigma\n",
    "\n",
    "# the histogram of the data\n",
    "n, bins, patches = plt.hist(tarHist, 60, normed=1, facecolor='green', alpha=0.75)\n",
    "\n",
    "# add a 'best fit' line\n",
    "y = mlab.normpdf( bins, mu, sigma)\n",
    "l = plt.plot(bins, y, 'r--', linewidth=2)\n",
    "plt.axvline(linewidth=2, color='b',x=outlier_min)\n",
    "\n",
    "#plot\n",
    "plt.xlabel('Stat')\n",
    "plt.ylabel('Probability')\n",
    "plt.title(r'$\\mathrm{Histogram\\ of\\ Stats:}\\ \\mu=%.3f,\\ \\sigma=%.3f$' %(mu, sigma))\n",
    "plt.grid(True)\n",
    "\n",
    "plt.show()"
   ]
  },
  {
   "cell_type": "code",
   "execution_count": 10,
   "metadata": {
    "collapsed": false
   },
   "outputs": [
    {
     "data": {
      "text/plain": [
       "Index([u'Player', u'PlayerID', u'Position', u'Inferred Position', u'Week',\n",
       "       u'Team', u'At Home', u'Opponent', u'Outcome', u'Team Players',\n",
       "       u'Opponent Players', u'Player Benched', u'passing_yds', u'passing_tds',\n",
       "       u'passing_twoptm', u'passing_int', u'rushing_yds', u'rushing_tds',\n",
       "       u'rushing_twoptm', u'receiving_yds', u'receiving_rec', u'receiving_tds',\n",
       "       u'receiving_twoptm', u'kickret_tds', u'puntret_tds', u'fumbles_rec_tds',\n",
       "       u'fumbles_lost', u'passing_att', u'passing_cmp', u'passing_incmp',\n",
       "       u'passing_cmp_air_yds', u'passing_sk', u'passing_sk_yds',\n",
       "       u'passing_twopta', u'receiving_tar', u'receiving_twopta',\n",
       "       u'receiving_yac_yds', u'rushing_att', u'rushing_twopta', u'kicking_xpa',\n",
       "       u'kicking_xpmade', u'kicking_xpmissed', u'kicking_fga', u'kicking_fgm',\n",
       "       u'kicking_fgmissed', u'kicking_fgm_yds', u'kicking_fgmissed_yds',\n",
       "       u'kicking_all_yds', u'defense_int_tds', u'defense_misc_tds',\n",
       "       u'defense_sk', u'defense_frec_tds', u'defense_puntblk',\n",
       "       u'defense_fgblk', u'defense_xpblk', u'defense_int', u'defense_frec',\n",
       "       u'defense_safe', u'defense_ffum', u'defense_pass_def',\n",
       "       u'defense_int_yds', u'defense_tkl_loss', u'defense_tkl_loss_yds',\n",
       "       u'defense_kickret_tds', u'defense_puntret_tds',\n",
       "       u'defense_rushing_yds_allowed', u'defense_passing_yds_allowed',\n",
       "       u'defense_total_yds_allowed', u'defense_rushing_tds_allowed',\n",
       "       u'defense_passing_tds_allowed', u'defense_fga_allowed',\n",
       "       u'defense_points_allowed', u'FantasyPoints', u'Season',\n",
       "       u'PriorSeasonPoints', u'TwoPriorSeasonPoints'],\n",
       "      dtype='object')"
      ]
     },
     "execution_count": 10,
     "metadata": {},
     "output_type": "execute_result"
    }
   ],
   "source": [
    "gameStats.columns"
   ]
  },
  {
   "cell_type": "code",
   "execution_count": 11,
   "metadata": {
    "collapsed": false
   },
   "outputs": [],
   "source": [
    "#First mark games where the player had no stats, since this isn't a good example of their \"average\"\n",
    "gameStats['NoStats'] = gameStats.ix[:,'passing_yds':'defense_points_allowed'].sum(axis=1) == 0"
   ]
  },
  {
   "cell_type": "code",
   "execution_count": 21,
   "metadata": {
    "collapsed": false
   },
   "outputs": [],
   "source": [
    "def FindPlayerAverage(row,num_weeks,opp=None):\n",
    "    #Finds average stats of a player over the last num_weeks\n",
    "    #Can specify and opponent to determine average against a specific opponent\n",
    "    #Ignored weeks where the player had zero stats (assuming they didn't play)\n",
    "    player=row['Player']\n",
    "    player_id=row['PlayerID']\n",
    "    current_week=row['Week']\n",
    "    \n",
    "    start_week = current_week - num_weeks\n",
    "\n",
    "    #Only use games against the opponent\n",
    "    if opp:\n",
    "        means = gameStats[(gameStats['Player']==player) & \\\n",
    "                  (gameStats['PlayerID']==player_id) & \\\n",
    "                  (gameStats['Week']>=start_week) & \\\n",
    "                  (gameStats['NoStats']==False) & \\\n",
    "                  (gameStats['Opponent']==opp) & \\\n",
    "                  (gameStats['Week']<current_week)].ix[:,'passing_yds':'FantasyPoints'].mean()\n",
    "\n",
    "    else:\n",
    "        means = gameStats[(gameStats['Player']==player) & \\\n",
    "                  (gameStats['PlayerID']==player_id) & \\\n",
    "                  (gameStats['Week']>=start_week) & \\\n",
    "                  (gameStats['NoStats']==False) & \\\n",
    "                  (gameStats['Week']<current_week)].ix[:,'passing_yds':'FantasyPoints'].mean()\n",
    "        \n",
    "    return means"
   ]
  },
  {
   "cell_type": "code",
   "execution_count": null,
   "metadata": {
    "collapsed": false
   },
   "outputs": [],
   "source": [
    "#8 week average (0.5 season) - this will be nonsense for first half of 2009\n",
    "import time\n",
    "t0=time.time()\n",
    "num_weeks=8\n",
    "avgStats = gameStats.apply(FindPlayerAverage,args=[num_weeks],axis=1)\n",
    "avgStats.columns = [('%s_%dweekAvg' % (column,num_weeks)) for column in avgStats.columns]\n",
    "gameStats = pd.concat([gameStats,avgStats],axis=1)\n",
    "t1=time.time()\n",
    "print t1-t0"
   ]
  },
  {
   "cell_type": "code",
   "execution_count": null,
   "metadata": {
    "collapsed": false
   },
   "outputs": [],
   "source": [
    "#17 week average (1 season) - this will be nonsense for 2009\n",
    "num_weeks=17\n",
    "avgStats = gameStats.apply(FindPlayerAverage,args=[num_weeks],axis=1)\n",
    "avgStats.columns = [('%s_%dweekAvg' % (column,num_weeks)) for column in avgStats.columns]\n",
    "gameStats = pd.concat([gameStats,avgStats],axis=1)"
   ]
  },
  {
   "cell_type": "code",
   "execution_count": null,
   "metadata": {
    "collapsed": true
   },
   "outputs": [],
   "source": [
    "#34 week average (2 season) - this will be nonsense for 2009 and 2010\n",
    "num_weeks=34\n",
    "avgStats = gameStats.apply(FindPlayerAverage,args=[num_weeks],axis=1)\n",
    "avgStats.columns = [('%s_%dweekAvg' % (column,num_weeks)) for column in avgStats.columns]\n",
    "gameStats = pd.concat([gameStats,avgStats],axis=1)"
   ]
  },
  {
   "cell_type": "markdown",
   "metadata": {},
   "source": [
    "# Calculate the Team and Opponent averages"
   ]
  },
  {
   "cell_type": "code",
   "execution_count": null,
   "metadata": {
    "collapsed": false
   },
   "outputs": [],
   "source": [
    "#No need to flag no stats... there is just no entry for the team on by-weeks\n",
    "\n",
    "def FindTeamAverage(row,num_weeks,opp=None):\n",
    "    team=row['Team']\n",
    "    current_week=row['Week']\n",
    "    \n",
    "    start_week = current_week - num_weeks\n",
    "\n",
    "    #Only use games against the opponent\n",
    "    if opp:\n",
    "        means = gameStats[(gameStats['Team']==team) & \\\n",
    "                  (gameStats['Week']>=start_week) & \\\n",
    "                  (gameStats['Opponent']==opp) & \\\n",
    "                  (gameStats['Week']<current_week)].groupby(['Week']).sum().ix[:,'passing_yds':'FantasyPoints'].mean()\n",
    "\n",
    "    else:\n",
    "        means = gameStats[(gameStats['Team']==team) & \\\n",
    "                  (gameStats['Week']>=start_week) & \\\n",
    "                  (gameStats['Week']<current_week)].groupby(['Week']).sum().ix[:,'passing_yds':'FantasyPoints'].mean()\n",
    "    \n",
    "    for key in aggregate_stats:\n",
    "        means[key]=means[key]/2 #get rid of double counting\n",
    "    \n",
    "    return means"
   ]
  },
  {
   "cell_type": "code",
   "execution_count": null,
   "metadata": {
    "collapsed": true
   },
   "outputs": [],
   "source": [
    "#8 week average (0.5 season)\n",
    "num_weeks=8\n",
    "avgStats = gameStats.apply(FindTeamAverage,args=[num_weeks],axis=1)\n",
    "avgStats.columns = [('team_%s_%dweekAvg' % (column,num_weeks)) for column in avgStats.columns]\n",
    "gameStats = pd.concat([gameStats,avgStats],axis=1)"
   ]
  },
  {
   "cell_type": "code",
   "execution_count": null,
   "metadata": {
    "collapsed": true
   },
   "outputs": [],
   "source": [
    "#17 week average (0.5 season)\n",
    "num_weeks=17\n",
    "avgStats = gameStats.apply(FindTeamAverage,args=[num_weeks],axis=1)\n",
    "avgStats.columns = [('team_%s_%dweekAvg' % (column,num_weeks)) for column in avgStats.columns]\n",
    "gameStats = pd.concat([gameStats,avgStats],axis=1)"
   ]
  },
  {
   "cell_type": "code",
   "execution_count": null,
   "metadata": {
    "collapsed": true
   },
   "outputs": [],
   "source": [
    "#34 week average (0.5 season)\n",
    "num_weeks=34\n",
    "avgStats = gameStats.apply(FindTeamAverage,args=[num_weeks],axis=1)\n",
    "avgStats.columns = [('team_%s_%dweekAvg' % (column,num_weeks)) for column in avgStats.columns]\n",
    "gameStats = pd.concat([gameStats,avgStats],axis=1)"
   ]
  },
  {
   "cell_type": "code",
   "execution_count": null,
   "metadata": {
    "collapsed": true
   },
   "outputs": [],
   "source": []
  },
  {
   "cell_type": "code",
   "execution_count": null,
   "metadata": {
    "collapsed": true
   },
   "outputs": [],
   "source": []
  },
  {
   "cell_type": "code",
   "execution_count": null,
   "metadata": {
    "collapsed": true
   },
   "outputs": [],
   "source": []
  },
  {
   "cell_type": "code",
   "execution_count": null,
   "metadata": {
    "collapsed": false
   },
   "outputs": [],
   "source": [
    "POSsamples=gameStats[(gameStats['Week']>17) & (gameStats['Position']==\"WR\") & (gameStats['NoStats']==False)].reset_index(drop=True)"
   ]
  },
  {
   "cell_type": "code",
   "execution_count": null,
   "metadata": {
    "collapsed": false
   },
   "outputs": [],
   "source": [
    "tarHist=np.hstack(POSsamples['FantasyPoints'].tolist())\n",
    "plt.hist(tarHist, bins=range(-10,51,1))\n",
    "plt.show()"
   ]
  },
  {
   "cell_type": "markdown",
   "metadata": {},
   "source": [
    "Now we need to find the team's average stats against the opposing team, and the player's average stats against the opposing team.  Then, we'll create a list of samples and features."
   ]
  },
  {
   "cell_type": "code",
   "execution_count": null,
   "metadata": {
    "collapsed": true
   },
   "outputs": [],
   "source": [
    "test = POSsamples.apply(FillStatAverage,args=[30,'receiving_yds'],axis=1)"
   ]
  },
  {
   "cell_type": "code",
   "execution_count": null,
   "metadata": {
    "collapsed": false
   },
   "outputs": [],
   "source": [
    "nan_entries=[math.isnan(idx) for idx in test.tolist()]\n",
    "test_nonans = [idx for idx in test.tolist() if not math.isnan(idx)]"
   ]
  },
  {
   "cell_type": "code",
   "execution_count": null,
   "metadata": {
    "collapsed": false
   },
   "outputs": [],
   "source": [
    "pearsonr(test_nonans, POSsamples[ [entry==False for entry in nan_entries]]['FantasyPoints'] )"
   ]
  },
  {
   "cell_type": "code",
   "execution_count": null,
   "metadata": {
    "collapsed": true
   },
   "outputs": [],
   "source": [
    "def CalcCorrPoints(x_stat_type):\n",
    "    for stat in POSsamples.columns[10:]:\n",
    "        x_dfColumn = '%s Avg Stats' % x_stat_type\n",
    "\n",
    "        all_x_stats =  POSsamples[x_dfColumn] \n",
    "        y_stats =  POSsamples['FantasyPoints'] \n",
    "\n",
    "        x_stats = all_x_stats.apply(lambda x: x[stat_order.index(x_stat)])\n",
    "\n",
    "        if abs(pearsonr(x_stats, y_stats)[0]) > 0.2:\n",
    "            print x_stat_type, x_stat, \"Correlation:\", pearsonr(x_stats, y_stats)[0]\n"
   ]
  }
 ],
 "metadata": {
  "kernelspec": {
   "display_name": "Python [py27]",
   "language": "python",
   "name": "Python [py27]"
  },
  "language_info": {
   "codemirror_mode": {
    "name": "ipython",
    "version": 2
   },
   "file_extension": ".py",
   "mimetype": "text/x-python",
   "name": "python",
   "nbconvert_exporter": "python",
   "pygments_lexer": "ipython2",
   "version": "2.7.12"
  }
 },
 "nbformat": 4,
 "nbformat_minor": 0
}
