{
 "cells": [
  {
   "cell_type": "code",
   "execution_count": 25,
   "metadata": {
    "collapsed": false
   },
   "outputs": [],
   "source": [
    "#connect to nfldb and load gameStats dataframe\n",
    "import nfldb\n",
    "import pandas as pd\n",
    "import pickle\n",
    "import math\n",
    "import urllib2\n",
    "from lxml import etree\n",
    "from bs4 import BeautifulSoup\n",
    "from urllib import urlopen\n",
    "import numpy as np\n",
    "import pandas as pd\n",
    "import collections\n",
    "import matplotlib.pyplot as plt\n",
    "import matplotlib\n",
    "%matplotlib inline\n",
    "import numpy as np\n",
    "from scipy.stats.stats import pearsonr \n",
    "\n",
    "plt.rcParams['figure.figsize'] = (20.0, 16.0)\n",
    "\n",
    "\n",
    "db = nfldb.connect()\n",
    "gameStats = pd.read_csv('gameStats_withFeats_v2.csv')"
   ]
  },
  {
   "cell_type": "code",
   "execution_count": 26,
   "metadata": {
    "collapsed": false
   },
   "outputs": [],
   "source": [
    "#Get list of all teams\n",
    "team_list = gameStats['Team'].unique()\n",
    "\n",
    "#Fix JAC->JAX issue, and add LA, remove St. Louis\n",
    "team_list = [team.replace('JAC', 'JAX') for team in team_list]\n",
    "team_list.append(\"LA\")\n",
    "team_list.remove(\"STL\")"
   ]
  },
  {
   "cell_type": "code",
   "execution_count": null,
   "metadata": {
    "collapsed": false
   },
   "outputs": [],
   "source": [
    "df_2016 = pd.DataFrame(columns=['PlayerID','Player','Position','Team','Season','Week'])\n",
    "\n",
    "current_row=0\n",
    "\n",
    "for team in team_list:\n",
    "    \n",
    "    #Go to the nfl page for that team\n",
    "    web_add = 'http://www.nfl.com/teams/roster?team=%s' % team\n",
    "    web_html = urlopen(web_add).read()\n",
    "    soup = BeautifulSoup(web_html)\n",
    "    \n",
    "    #Get all of html\n",
    "    table= soup.find(\"table\", { \"id\" : \"result\"} )\n",
    "    rows=table.findAll('tr',{\"class\" : ['odd', 'even']})\n",
    "\n",
    "    #For each player, get relevant info and search for player_id in nfldb\n",
    "    for row in rows:\n",
    "        \n",
    "        #Get name\n",
    "        names=row.text.split('\\n')[2].split(' ')\n",
    "        first_name=str(names[-1])\n",
    "        last_name=str(names[-2].split(',')[0])\n",
    "        full_name = first_name + ' ' + last_name\n",
    "        \n",
    "        #Get position\n",
    "        position = row.text.split('\\n')[3]\n",
    "\n",
    "        #Get bday (for verifying duplicate names)\n",
    "        bday = row.text.split('\\n')[7]\n",
    "        \n",
    "        #Get player_id from nfldb\n",
    "        #By default, assume we have no previous data on the player\n",
    "        player_id=None\n",
    "        \n",
    "        #Query the db for a player id\n",
    "        q = nfldb.Query(db)\n",
    "        q.player(full_name=full_name)\n",
    "        for info in q.as_players():\n",
    "            if info.birthdate == bday:\n",
    "                player_id=info.player_id\n",
    "          \n",
    "        #Convert back from JAX -> JAC\n",
    "        if team=='JAX':\n",
    "            team_name='JAC'\n",
    "        else:\n",
    "            team_name=team\n",
    "        \n",
    "        df_2016.loc[current_row]=[player_id,full_name,position,team_name,8,120]\n",
    "        current_row+=1"
   ]
  },
  {
   "cell_type": "markdown",
   "metadata": {},
   "source": [
    "# Fill in stat information from DB\n",
    "\n",
    "Should really put the 'gameStats_withFeats_v2.csv' file into a MySQL or PostGRE database.  Then update these functions to query the database.  Then each week, run the code above to add each team's current players to the database in a new row (with empty stats), and fill in the previous' weeks data using nfldb."
   ]
  },
  {
   "cell_type": "code",
   "execution_count": null,
   "metadata": {
    "collapsed": false
   },
   "outputs": [],
   "source": [
    "#Fill in previous season's fantasy points\n",
    "def FindSeasonScore(row,seasons_prior):\n",
    "    player=row['Player']\n",
    "    player_id=row['PlayerID']\n",
    "    season = row['Season']-seasons_prior\n",
    "    tot_points = gameStats[(gameStats['Player']==player) & (gameStats['PlayerID']==player_id) & \\\n",
    "              (gameStats['Season']==season)]['FantasyPoints'].sum()\n",
    "        \n",
    "    return tot_points\n",
    "\n",
    "df_2016['PriorSeasonPoints']=df_2016.apply(FindSeasonScore,args=[1] ,axis=1)\n",
    "df_2016['TwoPriorSeasonPoints']=df_2016.apply(FindSeasonScore,args=[2] ,axis=1)\n",
    "\n",
    "#Fill in the player's average fantasy stats\n",
    "def FindPlayerAverage(row,num_weeks,opp=None):\n",
    "    #Finds average stats of a player over the last num_weeks\n",
    "    #Can specify and opponent to determine average against a specific opponent\n",
    "    #Ignored weeks where the player had zero stats (assuming they didn't play)\n",
    "    player=row['Player']\n",
    "    player_id=row['PlayerID']\n",
    "    current_week=row['Week']\n",
    "    \n",
    "    start_week = current_week - num_weeks\n",
    "\n",
    "    #Only use games against the opponent\n",
    "    if opp:\n",
    "        means = gameStats[(gameStats['Player']==player) & \\\n",
    "                  (gameStats['PlayerID']==player_id) & \\\n",
    "                  (gameStats['Week']>=start_week) & \\\n",
    "                  (gameStats['NoStats']==False) & \\\n",
    "                  (gameStats['Opponent']==opp) & \\\n",
    "                  (gameStats['Week']<current_week)].ix[:,'passing_yds':'FantasyPoints'].mean()\n",
    "\n",
    "    else:\n",
    "        means = gameStats[(gameStats['Player']==player) & \\\n",
    "                  (gameStats['PlayerID']==player_id) & \\\n",
    "                  (gameStats['Week']>=start_week) & \\\n",
    "                  (gameStats['NoStats']==False) & \\\n",
    "                  (gameStats['Week']<current_week)].ix[:,'passing_yds':'FantasyPoints'].mean()\n",
    "        \n",
    "    return means\n",
    "\n",
    "\n",
    "num_weeks=8\n",
    "avgStats = df_2016.apply(FindPlayerAverage,args=[num_weeks],axis=1)\n",
    "avgStats.columns = [('%s_%dweekAvg' % (column,num_weeks)) for column in avgStats.columns]\n",
    "df_2016 = pd.concat([df_2016,avgStats],axis=1)\n",
    "\n",
    "num_weeks=17\n",
    "avgStats = df_2016.apply(FindPlayerAverage,args=[num_weeks],axis=1)\n",
    "avgStats.columns = [('%s_%dweekAvg' % (column,num_weeks)) for column in avgStats.columns]\n",
    "df_2016 = pd.concat([df_2016,avgStats],axis=1)\n",
    "\n",
    "num_weeks=34\n",
    "avgStats = df_2016.apply(FindPlayerAverage,args=[num_weeks],axis=1)\n",
    "avgStats.columns = [('%s_%dweekAvg' % (column,num_weeks)) for column in avgStats.columns]\n",
    "df_2016 = pd.concat([df_2016,avgStats],axis=1)\n",
    "\n",
    "#Not filling in team average or opponent average since they aren't useful"
   ]
  },
  {
   "cell_type": "markdown",
   "metadata": {},
   "source": [
    "# Load our prediction models (only have WR atm)"
   ]
  },
  {
   "cell_type": "code",
   "execution_count": null,
   "metadata": {
    "collapsed": true
   },
   "outputs": [],
   "source": [
    "modeled_positions=['WR','QB','RB','TE']"
   ]
  },
  {
   "cell_type": "code",
   "execution_count": null,
   "metadata": {
    "collapsed": false
   },
   "outputs": [],
   "source": [
    "from sklearn.externals import joblib\n",
    "import cPickle\n",
    "\n",
    "\n",
    "for pos in modeled_positions:\n",
    "\n",
    "    #Load the models\n",
    "    exec (\"%s_predictor = joblib.load('%s_predictor.pickle')\" % (pos,pos))\n",
    "\n",
    "    #Load the feature lists\n",
    "    exec (\"%s_feature_list = cPickle.load(open('%s_feature_list.pickle', 'rb'))\" % (pos,pos))\n",
    "\n",
    "    #Load the feature scaling info\n",
    "    exec (\"%s_featMinMax = cPickle.load(open('%s_feature_minmax.pickle', 'rb'))\" % (pos,pos))\n"
   ]
  },
  {
   "cell_type": "code",
   "execution_count": null,
   "metadata": {
    "collapsed": false
   },
   "outputs": [],
   "source": [
    "#Feature Scaling\n",
    "def scaleFeat(featFrame,feat_list,pos):\n",
    "    \n",
    "    #player feats\n",
    "    for feat in feat_list:\n",
    "        min_feat, max_feat = eval('%s_featMinMax[feat]' % pos)\n",
    "        featFrame[feat]= (featFrame[feat] - min_feat)/(max_feat-min_feat)\n",
    "        \n",
    "    return featFrame\n",
    "\n",
    "def FillPredictions(row):\n",
    "    position=row['Position']\n",
    "    \n",
    "    if position in modeled_positions:\n",
    "        features = row[eval('%s_feature_list' % position)]\n",
    "        if True in [math.isnan(entry) for entry in features]:\n",
    "            return None\n",
    "        else:\n",
    "            scaleFeat(features,eval('%s_feature_list' % position),position)   \n",
    "            exec(\"prediction = %s_predictor.predict(features.reshape(1,-1))[0]\" % position)\n",
    "            return prediction\n",
    "    \n",
    "    #Don't have predictors for other classes at the moment\n",
    "    else:\n",
    "        return None\n",
    "\n",
    "df_2016['PredictedPoints']=df_2016.apply(FillPredictions,axis=1)\n",
    "\n",
    "#for week-by-week, will need to make this sum over games in the season\n",
    "#then add current_predictions*remaining weeks\n",
    "#For now... just add current_prediction*16\n",
    "\n",
    "df_2016['PredictedSeasonPoints']=df_2016['PredictedPoints']*16"
   ]
  },
  {
   "cell_type": "markdown",
   "metadata": {},
   "source": [
    "# Plot the results\n"
   ]
  },
  {
   "cell_type": "code",
   "execution_count": null,
   "metadata": {
    "collapsed": false
   },
   "outputs": [],
   "source": [
    "def PlotSeasonPrediction(pos,num_players):\n",
    "    \n",
    "    has_pred = df_2016['PredictedSeasonPoints'].apply(lambda x: not math.isnan(x))\n",
    "\n",
    "    season_ranking = df_2016[(has_pred) & (df_2016['Position']==pos)].sort(['PredictedSeasonPoints'],ascending=[False]).reset_index()\n",
    "\n",
    "    predicted_points = season_ranking['PredictedSeasonPoints'].tolist()\n",
    "    predicted_points = [points for points in predicted_points if not math.isnan(points)]\n",
    "    ranks = range(len(predicted_points))\n",
    "    players = season_ranking['Player'].tolist()\n",
    "    players = players[:len(predicted_points)]\n",
    "\n",
    "    from sklearn.cluster import KMeans\n",
    "    reduced_data= np.array(zip(predicted_points,ranks))\n",
    "    kmeans = KMeans(n_clusters=10,random_state=10)\n",
    "    kmeans.fit(reduced_data)\n",
    "\n",
    "\n",
    "    current_color=kmeans.labels_[0]\n",
    "    new_color=max(kmeans.labels_)+1\n",
    "    final_colors=[]\n",
    "    for color in kmeans.labels_:\n",
    "        if color==current_color:\n",
    "            final_colors.append(new_color)\n",
    "        else:\n",
    "            current_color = color\n",
    "            new_color=new_color+1\n",
    "            final_colors.append(new_color)\n",
    "\n",
    "    norm = matplotlib.colors.Normalize(vmin=min(final_colors), vmax=max(final_colors), clip=True)\n",
    "    colors=matplotlib.cm.ScalarMappable(norm=norm, cmap=matplotlib.cm.spectral).to_rgba(final_colors)\n",
    "\n",
    "    plt.scatter(predicted_points[:num_players],ranks[:num_players],c=colors[:num_players])\n",
    "    plt.xlabel(\"Predicted Fantasy Points\",size=40)\n",
    "    plt.ylabel(\"Rank\",size=40)\n",
    "    plt.title(\"2016 %s Predictions (PPR)\" % pos,size=40)\n",
    "    plt.ylim([-5,num_players+1])\n",
    "    plt.xlim([predicted_points[num_players]*0.9,predicted_points[0]*1.1])\n",
    "\n",
    "    ax = plt.subplot() # Defines ax variable by creating an empty plot\n",
    "\n",
    "    # Set the tick labels font\n",
    "    for label in (ax.get_xticklabels() + ax.get_yticklabels()):\n",
    "        label.set_fontname('Arial')\n",
    "        label.set_fontsize(25)\n",
    "    \n",
    "    for idx, player in enumerate(players[:num_players]):\n",
    "        plt.annotate(player, (predicted_points[idx]+2,ranks[idx]), va='center', size=14, color=colors[idx])\n",
    "\n",
    "    plt.gca().invert_yaxis()\n",
    "    plt.grid()\n",
    "    plt.show()"
   ]
  },
  {
   "cell_type": "code",
   "execution_count": null,
   "metadata": {
    "collapsed": false
   },
   "outputs": [],
   "source": [
    "PlotSeasonPrediction('WR',60)"
   ]
  },
  {
   "cell_type": "code",
   "execution_count": null,
   "metadata": {
    "collapsed": false
   },
   "outputs": [],
   "source": [
    "PlotSeasonPrediction('RB',60)"
   ]
  },
  {
   "cell_type": "code",
   "execution_count": null,
   "metadata": {
    "collapsed": false
   },
   "outputs": [],
   "source": [
    "PlotSeasonPrediction('QB',40)"
   ]
  },
  {
   "cell_type": "code",
   "execution_count": null,
   "metadata": {
    "collapsed": false
   },
   "outputs": [],
   "source": [
    "PlotSeasonPrediction('TE',40)"
   ]
  },
  {
   "cell_type": "markdown",
   "metadata": {
    "collapsed": true
   },
   "source": [
    "# Show all flex players at once"
   ]
  },
  {
   "cell_type": "code",
   "execution_count": null,
   "metadata": {
    "collapsed": true
   },
   "outputs": [],
   "source": [
    "plt.rcParams['figure.figsize'] = (20.0, 30.0)\n",
    "\n",
    "\n",
    "def PlotAllSeasonPrediction(num_players):\n",
    "    \n",
    "    has_pred = df_2016['PredictedSeasonPoints'].apply(lambda x: not math.isnan(x))\n",
    "\n",
    "    season_ranking = df_2016[(has_pred) & (df_2016['Position']!=\"QB\")].sort(['PredictedSeasonPoints'],ascending=[False]).reset_index()\n",
    "\n",
    "    predicted_points = season_ranking['PredictedSeasonPoints'].tolist()\n",
    "    predicted_points = [points for points in predicted_points if not math.isnan(points)] #drop nan at end\n",
    "    ranks = range(len(predicted_points))\n",
    "    players = season_ranking['Player'].tolist()\n",
    "    positions = season_ranking['Position'].tolist()\n",
    "    players = players[:len(predicted_points)] #nan was at end of predicted points, so can just use len to drop nan here\n",
    "    positions = positions[:len(predicted_points)]\n",
    "\n",
    "    \n",
    "    predicted_points=predicted_points[:num_players]\n",
    "    ranks=ranks[:num_players]\n",
    "    players=players[:num_players]\n",
    "    positions=positions[:num_players]\n",
    "    \n",
    "    from sklearn.cluster import KMeans\n",
    "    reduced_data= np.array(zip(predicted_points,ranks))\n",
    "    kmeans = KMeans(n_clusters=10,random_state=10)\n",
    "    kmeans.fit(reduced_data)\n",
    "\n",
    "\n",
    "    current_color=kmeans.labels_[0]\n",
    "    new_color=max(kmeans.labels_)+1\n",
    "    final_colors=[]\n",
    "    for color in kmeans.labels_:\n",
    "        if color==current_color:\n",
    "            final_colors.append(new_color)\n",
    "        else:\n",
    "            current_color = color\n",
    "            new_color=new_color+1\n",
    "            final_colors.append(new_color)\n",
    "\n",
    "    norm = matplotlib.colors.Normalize(vmin=min(final_colors), vmax=max(final_colors), clip=True)\n",
    "    colors=matplotlib.cm.ScalarMappable(norm=norm, cmap=matplotlib.cm.spectral).to_rgba(final_colors)\n",
    "\n",
    "    plt.scatter(predicted_points,ranks,c=colors)\n",
    "    plt.xlabel(\"Predicted Fantasy Points\",size=40)\n",
    "    plt.ylabel(\"Rank\",size=40)\n",
    "    plt.title(\"2016 All Predictions (Standard)\",size=40)\n",
    "    plt.ylim([-5,num_players+1])\n",
    "    plt.xlim([predicted_points[-1]*0.9,predicted_points[0]*1.1])\n",
    "\n",
    "    ax = plt.subplot() # Defines ax variable by creating an empty plot\n",
    "\n",
    "    # Set the tick labels font\n",
    "    for label in (ax.get_xticklabels() + ax.get_yticklabels()):\n",
    "        label.set_fontname('Arial')\n",
    "        label.set_fontsize(25)\n",
    "    \n",
    "    for idx, player in enumerate(players):\n",
    "        plt.annotate('%s (%s)' % (player,positions[idx]), (predicted_points[idx]+2,ranks[idx]), va='center', size=14, color=colors[idx])\n",
    "\n",
    "    plt.gca().invert_yaxis()\n",
    "    plt.grid()\n",
    "    plt.show()\n",
    "    \n",
    "PlotAllSeasonPrediction(60)"
   ]
  },
  {
   "cell_type": "code",
   "execution_count": null,
   "metadata": {
    "collapsed": true
   },
   "outputs": [],
   "source": []
  }
 ],
 "metadata": {
  "anaconda-cloud": {},
  "kernelspec": {
   "display_name": "Python [py27]",
   "language": "python",
   "name": "Python [py27]"
  },
  "language_info": {
   "codemirror_mode": {
    "name": "ipython",
    "version": 2
   },
   "file_extension": ".py",
   "mimetype": "text/x-python",
   "name": "python",
   "nbconvert_exporter": "python",
   "pygments_lexer": "ipython2",
   "version": "2.7.12"
  }
 },
 "nbformat": 4,
 "nbformat_minor": 0
}
