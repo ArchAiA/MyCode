{
 "cells": [
  {
   "cell_type": "markdown",
   "metadata": {},
   "source": [
    "I'll try to build a QB stat predictor in this notebook. First lets load our full database"
   ]
  },
  {
   "cell_type": "code",
   "execution_count": 1,
   "metadata": {
    "collapsed": false
   },
   "outputs": [
    {
     "name": "stderr",
     "output_type": "stream",
     "text": [
      "/Users/richardknoche/anaconda/envs/py27/lib/python2.7/site-packages/matplotlib/__init__.py:1035: UserWarning: Duplicate key in file \"/Users/richardknoche/.matplotlib/matplotlibrc\", line #2\n",
      "  (fname, cnt))\n"
     ]
    }
   ],
   "source": [
    "import matplotlib.pyplot as plt\n",
    "import matplotlib\n",
    "%matplotlib inline\n",
    "import numpy as np\n",
    "from scipy.stats.stats import pearsonr \n",
    "import math"
   ]
  },
  {
   "cell_type": "code",
   "execution_count": 2,
   "metadata": {
    "collapsed": false
   },
   "outputs": [],
   "source": [
    "import pandas as pd\n",
    "import pickle\n",
    "\n",
    "samples=pd.read_csv('TrainingSamples.csv')\n",
    "samples.drop('Unnamed: 0', axis=1, inplace=True)\n",
    "\n",
    "with open(\"stat_order.pickle\",'rb') as f:\n",
    "    stat_order=pickle.load(f)"
   ]
  },
  {
   "cell_type": "markdown",
   "metadata": {},
   "source": [
    "Next, lets remove the first year of football data (since the averages will be bad) and extract all of the QB players"
   ]
  },
  {
   "cell_type": "code",
   "execution_count": 3,
   "metadata": {
    "collapsed": true
   },
   "outputs": [],
   "source": [
    "POSsamples=samples[(samples['Inferred Position']==\"QB\") & (samples['Week']>17)].reset_index(drop=True)"
   ]
  },
  {
   "cell_type": "code",
   "execution_count": 4,
   "metadata": {
    "collapsed": false
   },
   "outputs": [
    {
     "data": {
      "text/plain": [
       "3513"
      ]
     },
     "execution_count": 4,
     "metadata": {},
     "output_type": "execute_result"
    }
   ],
   "source": [
    "len(POSsamples)"
   ]
  },
  {
   "cell_type": "markdown",
   "metadata": {},
   "source": [
    "All of our lists got saved as strings in csv format, so lets convert them back to lists"
   ]
  },
  {
   "cell_type": "code",
   "execution_count": 5,
   "metadata": {
    "collapsed": false
   },
   "outputs": [],
   "source": [
    "all_lists = ['Opp Avg Stats','Opp Stat Std','Opp Avg Stats v Team','Opp Stat Std v Team',\\\n",
    "             'Opp Players','Player Avg Stats','Player Stat Std','Player Avg Stats v Opp',\\\n",
    "             'Player Stat Std v Opp','Team Avg Stats','Team Stat Std','Team Avg v Opp',\\\n",
    "             'Team Stat Std v Opp','Stat Outcome']\n",
    "\n",
    "for list in all_lists:\n",
    "    POSsamples[list] = POSsamples[list].apply(eval)"
   ]
  },
  {
   "cell_type": "markdown",
   "metadata": {},
   "source": [
    "Next, lets remove any players that have \"nan\" stats"
   ]
  },
  {
   "cell_type": "code",
   "execution_count": 6,
   "metadata": {
    "collapsed": false
   },
   "outputs": [],
   "source": [
    "POSsamples['No Player Stats'] = POSsamples.apply(lambda x: math.isnan(x['Player Avg Stats'][0]), axis = 1)"
   ]
  },
  {
   "cell_type": "code",
   "execution_count": 7,
   "metadata": {
    "collapsed": false
   },
   "outputs": [],
   "source": [
    "POSsamples=POSsamples[POSsamples['No Player Stats']==False].reset_index(drop=True)"
   ]
  },
  {
   "cell_type": "code",
   "execution_count": 8,
   "metadata": {
    "collapsed": false
   },
   "outputs": [
    {
     "data": {
      "text/plain": [
       "3414"
      ]
     },
     "execution_count": 8,
     "metadata": {},
     "output_type": "execute_result"
    }
   ],
   "source": [
    "len(POSsamples)"
   ]
  },
  {
   "cell_type": "markdown",
   "metadata": {},
   "source": [
    "Now, let's calculate the fantasy points each player got in each sample incase we need to fall back to predicting points instead of stats."
   ]
  },
  {
   "cell_type": "code",
   "execution_count": 9,
   "metadata": {
    "collapsed": true
   },
   "outputs": [],
   "source": [
    "point_dict={\n",
    "    'passing_yds': 0.04,\n",
    "    'passing_tds': 6,\n",
    "    'passing_int': -2,\n",
    "    'passing_twoptm': 2,\n",
    "    'rushing_yds': 0.1,\n",
    "    'rushing_tds': 6,\n",
    "    'rushing_twoptm': 2,\n",
    "    'receiving_yds': 0.1,\n",
    "    'receiving_rec': 1,\n",
    "    'receiving_tds': 6,\n",
    "    'receiving_twoptm': 2,\n",
    "    'kickret_tds': 6,\n",
    "    'puntret_tds': 6,\n",
    "    'fumbles_rec_tds': 6,\n",
    "    'fumbles_lost': -2,\n",
    "    'defense_int_tds': 6,\n",
    "    'defense_frec_tds': 6,\n",
    "    'defense_misc_tds': 6,\n",
    "    'defense_sk': 1,\n",
    "    'defense_puntblk': 2,\n",
    "    'defense_fgblk': 2,\n",
    "    'defense_xpblk': 2,\n",
    "    'defense_int': 2,\n",
    "    'defense_frec': 2,\n",
    "    'defense_safe': 2,\n",
    "    #No 2 pnt return data\n",
    "    #No 1 pnt safety data\n",
    "    #Need to figure out how to deal with defense points allowed and yds allowed\n",
    "    'kicking_xpmade': 1,\n",
    "    'kicking_fgmissed': -1,\n",
    "    #Need to handle kicking yardage \n",
    "}"
   ]
  },
  {
   "cell_type": "code",
   "execution_count": 10,
   "metadata": {
    "collapsed": true
   },
   "outputs": [],
   "source": [
    "def CalcFantasyPoints(row):\n",
    "    all_stats =  row['Stat Outcome']\n",
    "\n",
    "    points = 0\n",
    "    for stat in point_dict:\n",
    "        points += all_stats[stat_order.index(stat)] * point_dict[stat]\n",
    "\n",
    "    return points"
   ]
  },
  {
   "cell_type": "code",
   "execution_count": 11,
   "metadata": {
    "collapsed": false
   },
   "outputs": [],
   "source": [
    "POSsamples['FantasyPoints']=POSsamples.apply(CalcFantasyPoints,axis=1)"
   ]
  },
  {
   "cell_type": "code",
   "execution_count": 12,
   "metadata": {
    "collapsed": false
   },
   "outputs": [
    {
     "data": {
      "image/png": "[encoded data removed]",
      "text/plain": [
       "<matplotlib.figure.Figure at 0x10e533610>"
      ]
     },
     "metadata": {},
     "output_type": "display_data"
    }
   ],
   "source": [
    "tarHist=np.hstack(POSsamples['FantasyPoints'].tolist())\n",
    "plt.hist(tarHist, bins=range(-10,51,1))\n",
    "plt.show()"
   ]
  },
  {
   "cell_type": "code",
   "execution_count": 13,
   "metadata": {
    "collapsed": true
   },
   "outputs": [],
   "source": [
    "def CalcAvgFantasyPoints(row):\n",
    "    all_stats =  row['Player Avg Stats']\n",
    "\n",
    "    points = 0\n",
    "    for stat in point_dict:\n",
    "        points += all_stats[stat_order.index(stat)] * point_dict[stat]\n",
    "\n",
    "    return points"
   ]
  },
  {
   "cell_type": "code",
   "execution_count": 14,
   "metadata": {
    "collapsed": true
   },
   "outputs": [],
   "source": [
    "POSsamples['AvgFantasyPoints']=POSsamples.apply(CalcAvgFantasyPoints,axis=1)"
   ]
  },
  {
   "cell_type": "code",
   "execution_count": 15,
   "metadata": {
    "collapsed": false
   },
   "outputs": [
    {
     "data": {
      "image/png": "[encoded data removed]",
      "text/plain": [
       "<matplotlib.figure.Figure at 0x120c62150>"
      ]
     },
     "metadata": {},
     "output_type": "display_data"
    }
   ],
   "source": [
    "tarHist=np.hstack(POSsamples['AvgFantasyPoints'].tolist())\n",
    "plt.hist(tarHist, bins=range(-10,51,1))\n",
    "plt.show()"
   ]
  },
  {
   "cell_type": "code",
   "execution_count": 16,
   "metadata": {
    "collapsed": true
   },
   "outputs": [],
   "source": [
    "def CalcAvgVOppFantasyPoints(row):\n",
    "    all_stats =  row['Player Avg Stats v Opp']\n",
    "\n",
    "    points = 0\n",
    "    for stat in point_dict:\n",
    "        points += all_stats[stat_order.index(stat)] * point_dict[stat]\n",
    "\n",
    "    return points"
   ]
  },
  {
   "cell_type": "code",
   "execution_count": 17,
   "metadata": {
    "collapsed": false
   },
   "outputs": [],
   "source": [
    "POSsamples['AvgVOppFantasyPoints']=POSsamples.apply(CalcAvgVOppFantasyPoints,axis=1)"
   ]
  },
  {
   "cell_type": "markdown",
   "metadata": {},
   "source": [
    "# Examining feature correlations for fantasy points\n",
    "\n",
    "Let's loop over each player's, team's, and opponents stats and see which are coorelated with the final outcome"
   ]
  },
  {
   "cell_type": "code",
   "execution_count": 29,
   "metadata": {
    "collapsed": true
   },
   "outputs": [],
   "source": [
    "def CalcCorrPoints(x_stat_type):\n",
    "    #x_stat is a stat in stat_order, such as \"receiving_yds\"\n",
    "    #x_stat_type is \"Player\" or \"Team\" or \"Opp\"\n",
    "    for x_stat in stat_order:\n",
    "        x_dfColumn = '%s Avg Stats' % x_stat_type\n",
    "\n",
    "        all_x_stats =  POSsamples[x_dfColumn] \n",
    "        y_stats =  POSsamples['FantasyPoints'] \n",
    "\n",
    "        x_stats = all_x_stats.apply(lambda x: x[stat_order.index(x_stat)])\n",
    "\n",
    "        if abs(pearsonr(x_stats, y_stats)[0]) > 0.2:\n",
    "            print x_stat_type, x_stat, \"Correlation:\", pearsonr(x_stats, y_stats)[0]\n"
   ]
  },
  {
   "cell_type": "code",
   "execution_count": 30,
   "metadata": {
    "collapsed": false
   },
   "outputs": [
    {
     "name": "stdout",
     "output_type": "stream",
     "text": [
      "Player passing_yds Correlation: 0.424779163249\n",
      "Player passing_tds Correlation: 0.439152098759\n",
      "Player passing_att Correlation: 0.379892501055\n",
      "Player passing_cmp Correlation: 0.409469023852\n",
      "Player passing_incmp Correlation: 0.28882593105\n",
      "Player passing_cmp_air_yds Correlation: 0.41123622011\n",
      "Team passing_tds Correlation: 0.209474584804\n",
      "Team receiving_tds Correlation: 0.205038967676\n"
     ]
    }
   ],
   "source": [
    "CalcCorrPoints('Player')\n",
    "CalcCorrPoints('Team')    \n",
    "CalcCorrPoints('Opp')"
   ]
  },
  {
   "cell_type": "code",
   "execution_count": 22,
   "metadata": {
    "collapsed": false
   },
   "outputs": [
    {
     "name": "stdout",
     "output_type": "stream",
     "text": [
      "Avg Points Correlation: 0.472411019743\n"
     ]
    }
   ],
   "source": [
    "y_stats =  POSsamples['FantasyPoints'] \n",
    "x_stats = POSsamples['AvgFantasyPoints'] \n",
    "print \"Avg Points Correlation:\", pearsonr(x_stats, y_stats)[0]"
   ]
  },
  {
   "cell_type": "code",
   "execution_count": 23,
   "metadata": {
    "collapsed": false
   },
   "outputs": [
    {
     "name": "stdout",
     "output_type": "stream",
     "text": [
      "Avg Points Correlation: 0.240370173239\n"
     ]
    }
   ],
   "source": [
    "v_opp_data = POSsamples[POSsamples['AvgVOppFantasyPoints'].apply(lambda x: not math.isnan(x))]\n",
    "y_stats =  v_opp_data['FantasyPoints'] \n",
    "x_stats = v_opp_data['AvgVOppFantasyPoints'] \n",
    "print \"Avg Points Correlation:\", pearsonr(x_stats, y_stats)[0]"
   ]
  },
  {
   "cell_type": "markdown",
   "metadata": {},
   "source": [
    "# Training a predictor\n",
    "\n",
    "Okay, for now lets use the seven features that have abs(correlation) > 0.1 to training our predictor.  We might add more features based on our CV results later.\n",
    "\n",
    "First, we need to split our sample into training, CV, and testing sets.  Let's randomly order our dataframe, using the same seed so that we get the same order every time we run this code."
   ]
  },
  {
   "cell_type": "code",
   "execution_count": 24,
   "metadata": {
    "collapsed": false
   },
   "outputs": [],
   "source": [
    "np.random.seed(42)\n",
    "POSsamples=POSsamples.reindex(np.random.permutation(POSsamples.index))\n",
    "POSsamples.reset_index(inplace=True)"
   ]
  },
  {
   "cell_type": "markdown",
   "metadata": {},
   "source": [
    "Now lets put half of the samples in training, a quarter in CV, and a quarter in test."
   ]
  },
  {
   "cell_type": "code",
   "execution_count": 85,
   "metadata": {
    "collapsed": false
   },
   "outputs": [],
   "source": [
    "POS_training = POSsamples.ix[:round(len(POSsamples)/2)]\n",
    "POS_cv = POSsamples.ix[round(len(POSsamples)/2): round(len(POSsamples)/2) + round(len(POSsamples)/4)]\n",
    "POS_test = POSsamples.ix[round(len(POSsamples)/2) + round(len(POSsamples)/4):]"
   ]
  },
  {
   "cell_type": "markdown",
   "metadata": {},
   "source": [
    "Now lets train a simple prediction model before trying anything fancy. First we'll try a linear regression model, then we'll try a nonlinear regression model, then we'll try a neural network.  As a reminder, here's the features that have a correlation with a player's receiving yard outcome"
   ]
  },
  {
   "cell_type": "markdown",
   "metadata": {},
   "source": [
    "# Figure out how to add average fantasy points to this lsit"
   ]
  },
  {
   "cell_type": "code",
   "execution_count": 86,
   "metadata": {
    "collapsed": true
   },
   "outputs": [],
   "source": [
    "\n",
    "#Specify the stat of each player,team, or opponent column\n",
    "player_feats=['passing_yds','passing_tds','passing_att','passing_cmp','passing_incmp','passing_cmp_air_yds']\n",
    "team_feats=[]\n",
    "opp_feats=[]\n",
    "\n",
    "#Specify the column that holds fantasy point totals\n",
    "point_feats=['AvgFantasyPoints']\n",
    "\n",
    "all_feats=[player_feats,team_feats,opp_feats,point_feats]"
   ]
  },
  {
   "cell_type": "code",
   "execution_count": 87,
   "metadata": {
    "collapsed": true
   },
   "outputs": [],
   "source": [
    "#Extract the features we want\n",
    "def getFeats(row,feats):\n",
    "    feat_df=pd.DataFrame()\n",
    "    feat_list=[]\n",
    "    \n",
    "    #Player feats\n",
    "    feat_list= [row['Player Avg Stats'][stat_order.index(feat)] for feat in feats[0]]\n",
    "\n",
    "    #Team feats\n",
    "    feat_list = feat_list + [row['Team Avg Stats'][stat_order.index(feat)] for feat in feats[1]]\n",
    "\n",
    "    #Opponent feats\n",
    "    feat_list = feat_list + [row['Opp Avg Stats'][stat_order.index(feat)] for feat in feats[2]]\n",
    "\n",
    "    #Fantasy Point feats\n",
    "    feat_list = feat_list + [row[feat] for feat in feats[3]]\n",
    "    \n",
    "    return feat_list"
   ]
  },
  {
   "cell_type": "code",
   "execution_count": 88,
   "metadata": {
    "collapsed": false
   },
   "outputs": [],
   "source": [
    "X_train=pd.DataFrame(POS_training.apply(getFeats,args=[all_feats],axis=1).tolist())\n",
    "X_cv=pd.DataFrame(POS_cv.apply(getFeats,args=[all_feats],axis=1).tolist())"
   ]
  },
  {
   "cell_type": "code",
   "execution_count": 89,
   "metadata": {
    "collapsed": false
   },
   "outputs": [
    {
     "data": {
      "text/html": [
       "<div>\n",
       "<table border=\"1\" class=\"dataframe\">\n",
       "  <thead>\n",
       "    <tr style=\"text-align: right;\">\n",
       "      <th></th>\n",
       "      <th>0</th>\n",
       "      <th>1</th>\n",
       "      <th>2</th>\n",
       "      <th>3</th>\n",
       "      <th>4</th>\n",
       "      <th>5</th>\n",
       "      <th>6</th>\n",
       "    </tr>\n",
       "  </thead>\n",
       "  <tbody>\n",
       "    <tr>\n",
       "      <th>0</th>\n",
       "      <td>315.521739</td>\n",
       "      <td>1.608696</td>\n",
       "      <td>44.565217</td>\n",
       "      <td>27.000000</td>\n",
       "      <td>17.565217</td>\n",
       "      <td>176.434783</td>\n",
       "      <td>21.916522</td>\n",
       "    </tr>\n",
       "    <tr>\n",
       "      <th>1</th>\n",
       "      <td>285.869565</td>\n",
       "      <td>2.086957</td>\n",
       "      <td>37.347826</td>\n",
       "      <td>25.000000</td>\n",
       "      <td>12.347826</td>\n",
       "      <td>161.565217</td>\n",
       "      <td>23.295652</td>\n",
       "    </tr>\n",
       "    <tr>\n",
       "      <th>2</th>\n",
       "      <td>73.764706</td>\n",
       "      <td>0.352941</td>\n",
       "      <td>12.058824</td>\n",
       "      <td>7.647059</td>\n",
       "      <td>4.411765</td>\n",
       "      <td>36.235294</td>\n",
       "      <td>5.180000</td>\n",
       "    </tr>\n",
       "    <tr>\n",
       "      <th>3</th>\n",
       "      <td>219.318182</td>\n",
       "      <td>1.681818</td>\n",
       "      <td>30.000000</td>\n",
       "      <td>17.500000</td>\n",
       "      <td>12.500000</td>\n",
       "      <td>121.954545</td>\n",
       "      <td>17.768182</td>\n",
       "    </tr>\n",
       "    <tr>\n",
       "      <th>4</th>\n",
       "      <td>250.272727</td>\n",
       "      <td>1.454545</td>\n",
       "      <td>36.272727</td>\n",
       "      <td>23.454545</td>\n",
       "      <td>12.818182</td>\n",
       "      <td>121.636364</td>\n",
       "      <td>17.729091</td>\n",
       "    </tr>\n",
       "    <tr>\n",
       "      <th>5</th>\n",
       "      <td>43.333333</td>\n",
       "      <td>0.000000</td>\n",
       "      <td>4.000000</td>\n",
       "      <td>2.333333</td>\n",
       "      <td>1.666667</td>\n",
       "      <td>13.333333</td>\n",
       "      <td>1.000000</td>\n",
       "    </tr>\n",
       "    <tr>\n",
       "      <th>6</th>\n",
       "      <td>220.500000</td>\n",
       "      <td>1.500000</td>\n",
       "      <td>29.454545</td>\n",
       "      <td>19.090909</td>\n",
       "      <td>10.363636</td>\n",
       "      <td>118.818182</td>\n",
       "      <td>18.760909</td>\n",
       "    </tr>\n",
       "    <tr>\n",
       "      <th>7</th>\n",
       "      <td>296.000000</td>\n",
       "      <td>1.869565</td>\n",
       "      <td>39.739130</td>\n",
       "      <td>26.000000</td>\n",
       "      <td>13.739130</td>\n",
       "      <td>168.956522</td>\n",
       "      <td>21.570435</td>\n",
       "    </tr>\n",
       "    <tr>\n",
       "      <th>8</th>\n",
       "      <td>0.000000</td>\n",
       "      <td>0.000000</td>\n",
       "      <td>0.000000</td>\n",
       "      <td>0.000000</td>\n",
       "      <td>0.000000</td>\n",
       "      <td>0.000000</td>\n",
       "      <td>-0.150000</td>\n",
       "    </tr>\n",
       "    <tr>\n",
       "      <th>9</th>\n",
       "      <td>229.954545</td>\n",
       "      <td>1.590909</td>\n",
       "      <td>34.636364</td>\n",
       "      <td>21.318182</td>\n",
       "      <td>13.318182</td>\n",
       "      <td>112.136364</td>\n",
       "      <td>16.925455</td>\n",
       "    </tr>\n",
       "    <tr>\n",
       "      <th>10</th>\n",
       "      <td>324.954545</td>\n",
       "      <td>3.181818</td>\n",
       "      <td>39.500000</td>\n",
       "      <td>27.136364</td>\n",
       "      <td>12.363636</td>\n",
       "      <td>179.545455</td>\n",
       "      <td>30.557273</td>\n",
       "    </tr>\n",
       "    <tr>\n",
       "      <th>11</th>\n",
       "      <td>285.043478</td>\n",
       "      <td>1.826087</td>\n",
       "      <td>36.000000</td>\n",
       "      <td>22.043478</td>\n",
       "      <td>13.956522</td>\n",
       "      <td>167.565217</td>\n",
       "      <td>19.927826</td>\n",
       "    </tr>\n",
       "    <tr>\n",
       "      <th>12</th>\n",
       "      <td>263.571429</td>\n",
       "      <td>1.380952</td>\n",
       "      <td>35.904762</td>\n",
       "      <td>22.714286</td>\n",
       "      <td>13.190476</td>\n",
       "      <td>136.904762</td>\n",
       "      <td>17.685714</td>\n",
       "    </tr>\n",
       "    <tr>\n",
       "      <th>13</th>\n",
       "      <td>214.952381</td>\n",
       "      <td>1.000000</td>\n",
       "      <td>31.000000</td>\n",
       "      <td>19.238095</td>\n",
       "      <td>11.761905</td>\n",
       "      <td>113.238095</td>\n",
       "      <td>12.740952</td>\n",
       "    </tr>\n",
       "    <tr>\n",
       "      <th>14</th>\n",
       "      <td>289.062500</td>\n",
       "      <td>2.187500</td>\n",
       "      <td>34.375000</td>\n",
       "      <td>24.375000</td>\n",
       "      <td>10.000000</td>\n",
       "      <td>157.875000</td>\n",
       "      <td>23.518750</td>\n",
       "    </tr>\n",
       "    <tr>\n",
       "      <th>15</th>\n",
       "      <td>79.428571</td>\n",
       "      <td>0.428571</td>\n",
       "      <td>11.285714</td>\n",
       "      <td>6.142857</td>\n",
       "      <td>5.142857</td>\n",
       "      <td>45.285714</td>\n",
       "      <td>6.177143</td>\n",
       "    </tr>\n",
       "    <tr>\n",
       "      <th>16</th>\n",
       "      <td>295.818182</td>\n",
       "      <td>1.500000</td>\n",
       "      <td>37.636364</td>\n",
       "      <td>22.818182</td>\n",
       "      <td>14.818182</td>\n",
       "      <td>179.727273</td>\n",
       "      <td>18.373636</td>\n",
       "    </tr>\n",
       "    <tr>\n",
       "      <th>17</th>\n",
       "      <td>261.217391</td>\n",
       "      <td>1.826087</td>\n",
       "      <td>37.391304</td>\n",
       "      <td>23.086957</td>\n",
       "      <td>14.304348</td>\n",
       "      <td>136.608696</td>\n",
       "      <td>23.670435</td>\n",
       "    </tr>\n",
       "    <tr>\n",
       "      <th>18</th>\n",
       "      <td>143.142857</td>\n",
       "      <td>1.142857</td>\n",
       "      <td>17.428571</td>\n",
       "      <td>9.857143</td>\n",
       "      <td>7.571429</td>\n",
       "      <td>96.285714</td>\n",
       "      <td>11.525714</td>\n",
       "    </tr>\n",
       "    <tr>\n",
       "      <th>19</th>\n",
       "      <td>215.000000</td>\n",
       "      <td>1.000000</td>\n",
       "      <td>32.411765</td>\n",
       "      <td>19.058824</td>\n",
       "      <td>13.352941</td>\n",
       "      <td>128.529412</td>\n",
       "      <td>13.688235</td>\n",
       "    </tr>\n",
       "    <tr>\n",
       "      <th>20</th>\n",
       "      <td>165.000000</td>\n",
       "      <td>1.000000</td>\n",
       "      <td>24.333333</td>\n",
       "      <td>15.000000</td>\n",
       "      <td>9.333333</td>\n",
       "      <td>91.333333</td>\n",
       "      <td>9.900000</td>\n",
       "    </tr>\n",
       "    <tr>\n",
       "      <th>21</th>\n",
       "      <td>212.000000</td>\n",
       "      <td>1.272727</td>\n",
       "      <td>29.409091</td>\n",
       "      <td>17.681818</td>\n",
       "      <td>11.727273</td>\n",
       "      <td>127.454545</td>\n",
       "      <td>17.816364</td>\n",
       "    </tr>\n",
       "    <tr>\n",
       "      <th>22</th>\n",
       "      <td>207.454545</td>\n",
       "      <td>1.590909</td>\n",
       "      <td>27.136364</td>\n",
       "      <td>17.090909</td>\n",
       "      <td>10.045455</td>\n",
       "      <td>108.636364</td>\n",
       "      <td>21.839091</td>\n",
       "    </tr>\n",
       "    <tr>\n",
       "      <th>23</th>\n",
       "      <td>0.000000</td>\n",
       "      <td>0.000000</td>\n",
       "      <td>0.000000</td>\n",
       "      <td>0.000000</td>\n",
       "      <td>0.000000</td>\n",
       "      <td>0.000000</td>\n",
       "      <td>-0.100000</td>\n",
       "    </tr>\n",
       "    <tr>\n",
       "      <th>24</th>\n",
       "      <td>194.933333</td>\n",
       "      <td>1.066667</td>\n",
       "      <td>33.000000</td>\n",
       "      <td>18.133333</td>\n",
       "      <td>14.866667</td>\n",
       "      <td>117.600000</td>\n",
       "      <td>13.104000</td>\n",
       "    </tr>\n",
       "    <tr>\n",
       "      <th>25</th>\n",
       "      <td>116.250000</td>\n",
       "      <td>0.750000</td>\n",
       "      <td>17.500000</td>\n",
       "      <td>12.000000</td>\n",
       "      <td>5.500000</td>\n",
       "      <td>54.250000</td>\n",
       "      <td>8.775000</td>\n",
       "    </tr>\n",
       "    <tr>\n",
       "      <th>26</th>\n",
       "      <td>214.850000</td>\n",
       "      <td>1.100000</td>\n",
       "      <td>32.050000</td>\n",
       "      <td>19.650000</td>\n",
       "      <td>12.400000</td>\n",
       "      <td>117.250000</td>\n",
       "      <td>13.529000</td>\n",
       "    </tr>\n",
       "    <tr>\n",
       "      <th>27</th>\n",
       "      <td>277.136364</td>\n",
       "      <td>2.318182</td>\n",
       "      <td>33.727273</td>\n",
       "      <td>22.318182</td>\n",
       "      <td>11.409091</td>\n",
       "      <td>151.272727</td>\n",
       "      <td>24.380909</td>\n",
       "    </tr>\n",
       "    <tr>\n",
       "      <th>28</th>\n",
       "      <td>39.600000</td>\n",
       "      <td>0.400000</td>\n",
       "      <td>6.800000</td>\n",
       "      <td>3.600000</td>\n",
       "      <td>3.200000</td>\n",
       "      <td>23.000000</td>\n",
       "      <td>3.944000</td>\n",
       "    </tr>\n",
       "    <tr>\n",
       "      <th>29</th>\n",
       "      <td>231.909091</td>\n",
       "      <td>1.727273</td>\n",
       "      <td>36.681818</td>\n",
       "      <td>21.818182</td>\n",
       "      <td>14.863636</td>\n",
       "      <td>125.181818</td>\n",
       "      <td>18.290000</td>\n",
       "    </tr>\n",
       "    <tr>\n",
       "      <th>...</th>\n",
       "      <td>...</td>\n",
       "      <td>...</td>\n",
       "      <td>...</td>\n",
       "      <td>...</td>\n",
       "      <td>...</td>\n",
       "      <td>...</td>\n",
       "      <td>...</td>\n",
       "    </tr>\n",
       "    <tr>\n",
       "      <th>1487</th>\n",
       "      <td>217.272727</td>\n",
       "      <td>1.454545</td>\n",
       "      <td>33.136364</td>\n",
       "      <td>19.863636</td>\n",
       "      <td>13.272727</td>\n",
       "      <td>132.090909</td>\n",
       "      <td>16.790909</td>\n",
       "    </tr>\n",
       "    <tr>\n",
       "      <th>1488</th>\n",
       "      <td>96.333333</td>\n",
       "      <td>0.666667</td>\n",
       "      <td>14.666667</td>\n",
       "      <td>8.333333</td>\n",
       "      <td>6.333333</td>\n",
       "      <td>45.333333</td>\n",
       "      <td>4.853333</td>\n",
       "    </tr>\n",
       "    <tr>\n",
       "      <th>1489</th>\n",
       "      <td>239.909091</td>\n",
       "      <td>1.772727</td>\n",
       "      <td>35.000000</td>\n",
       "      <td>21.363636</td>\n",
       "      <td>13.636364</td>\n",
       "      <td>130.636364</td>\n",
       "      <td>19.019091</td>\n",
       "    </tr>\n",
       "    <tr>\n",
       "      <th>1490</th>\n",
       "      <td>129.000000</td>\n",
       "      <td>0.666667</td>\n",
       "      <td>23.000000</td>\n",
       "      <td>11.000000</td>\n",
       "      <td>12.000000</td>\n",
       "      <td>50.666667</td>\n",
       "      <td>8.393333</td>\n",
       "    </tr>\n",
       "    <tr>\n",
       "      <th>1491</th>\n",
       "      <td>219.750000</td>\n",
       "      <td>1.400000</td>\n",
       "      <td>32.900000</td>\n",
       "      <td>19.700000</td>\n",
       "      <td>13.200000</td>\n",
       "      <td>105.250000</td>\n",
       "      <td>15.850000</td>\n",
       "    </tr>\n",
       "    <tr>\n",
       "      <th>1492</th>\n",
       "      <td>231.277778</td>\n",
       "      <td>1.777778</td>\n",
       "      <td>32.722222</td>\n",
       "      <td>20.500000</td>\n",
       "      <td>12.222222</td>\n",
       "      <td>140.444444</td>\n",
       "      <td>19.384444</td>\n",
       "    </tr>\n",
       "    <tr>\n",
       "      <th>1493</th>\n",
       "      <td>193.133333</td>\n",
       "      <td>1.066667</td>\n",
       "      <td>28.333333</td>\n",
       "      <td>16.400000</td>\n",
       "      <td>11.933333</td>\n",
       "      <td>121.066667</td>\n",
       "      <td>15.518667</td>\n",
       "    </tr>\n",
       "    <tr>\n",
       "      <th>1494</th>\n",
       "      <td>258.363636</td>\n",
       "      <td>1.818182</td>\n",
       "      <td>36.772727</td>\n",
       "      <td>24.045455</td>\n",
       "      <td>12.727273</td>\n",
       "      <td>142.909091</td>\n",
       "      <td>21.275455</td>\n",
       "    </tr>\n",
       "    <tr>\n",
       "      <th>1495</th>\n",
       "      <td>53.666667</td>\n",
       "      <td>0.500000</td>\n",
       "      <td>6.833333</td>\n",
       "      <td>5.000000</td>\n",
       "      <td>1.833333</td>\n",
       "      <td>36.166667</td>\n",
       "      <td>5.313333</td>\n",
       "    </tr>\n",
       "    <tr>\n",
       "      <th>1496</th>\n",
       "      <td>290.095238</td>\n",
       "      <td>2.285714</td>\n",
       "      <td>32.333333</td>\n",
       "      <td>22.142857</td>\n",
       "      <td>10.190476</td>\n",
       "      <td>161.095238</td>\n",
       "      <td>27.670476</td>\n",
       "    </tr>\n",
       "    <tr>\n",
       "      <th>1497</th>\n",
       "      <td>257.772727</td>\n",
       "      <td>1.772727</td>\n",
       "      <td>35.272727</td>\n",
       "      <td>22.045455</td>\n",
       "      <td>13.227273</td>\n",
       "      <td>128.272727</td>\n",
       "      <td>20.692727</td>\n",
       "    </tr>\n",
       "    <tr>\n",
       "      <th>1498</th>\n",
       "      <td>298.555556</td>\n",
       "      <td>1.833333</td>\n",
       "      <td>36.222222</td>\n",
       "      <td>24.611111</td>\n",
       "      <td>11.611111</td>\n",
       "      <td>164.611111</td>\n",
       "      <td>21.275556</td>\n",
       "    </tr>\n",
       "    <tr>\n",
       "      <th>1499</th>\n",
       "      <td>60.363636</td>\n",
       "      <td>0.272727</td>\n",
       "      <td>11.363636</td>\n",
       "      <td>6.272727</td>\n",
       "      <td>5.090909</td>\n",
       "      <td>34.636364</td>\n",
       "      <td>5.387273</td>\n",
       "    </tr>\n",
       "    <tr>\n",
       "      <th>1500</th>\n",
       "      <td>196.461538</td>\n",
       "      <td>1.076923</td>\n",
       "      <td>27.923077</td>\n",
       "      <td>15.461538</td>\n",
       "      <td>12.461538</td>\n",
       "      <td>116.153846</td>\n",
       "      <td>15.581538</td>\n",
       "    </tr>\n",
       "    <tr>\n",
       "      <th>1501</th>\n",
       "      <td>288.347826</td>\n",
       "      <td>2.130435</td>\n",
       "      <td>37.173913</td>\n",
       "      <td>24.478261</td>\n",
       "      <td>12.695652</td>\n",
       "      <td>151.782609</td>\n",
       "      <td>23.286087</td>\n",
       "    </tr>\n",
       "    <tr>\n",
       "      <th>1502</th>\n",
       "      <td>150.428571</td>\n",
       "      <td>1.142857</td>\n",
       "      <td>19.714286</td>\n",
       "      <td>12.142857</td>\n",
       "      <td>7.571429</td>\n",
       "      <td>88.000000</td>\n",
       "      <td>12.260000</td>\n",
       "    </tr>\n",
       "    <tr>\n",
       "      <th>1503</th>\n",
       "      <td>245.062500</td>\n",
       "      <td>1.687500</td>\n",
       "      <td>34.875000</td>\n",
       "      <td>21.250000</td>\n",
       "      <td>13.625000</td>\n",
       "      <td>144.375000</td>\n",
       "      <td>16.833750</td>\n",
       "    </tr>\n",
       "    <tr>\n",
       "      <th>1504</th>\n",
       "      <td>291.416667</td>\n",
       "      <td>1.750000</td>\n",
       "      <td>36.750000</td>\n",
       "      <td>24.916667</td>\n",
       "      <td>11.833333</td>\n",
       "      <td>138.916667</td>\n",
       "      <td>20.248333</td>\n",
       "    </tr>\n",
       "    <tr>\n",
       "      <th>1505</th>\n",
       "      <td>218.263158</td>\n",
       "      <td>1.421053</td>\n",
       "      <td>29.000000</td>\n",
       "      <td>18.473684</td>\n",
       "      <td>10.526316</td>\n",
       "      <td>123.210526</td>\n",
       "      <td>17.988421</td>\n",
       "    </tr>\n",
       "    <tr>\n",
       "      <th>1506</th>\n",
       "      <td>191.571429</td>\n",
       "      <td>0.952381</td>\n",
       "      <td>29.571429</td>\n",
       "      <td>16.000000</td>\n",
       "      <td>13.571429</td>\n",
       "      <td>112.285714</td>\n",
       "      <td>12.858095</td>\n",
       "    </tr>\n",
       "    <tr>\n",
       "      <th>1507</th>\n",
       "      <td>225.500000</td>\n",
       "      <td>1.277778</td>\n",
       "      <td>30.833333</td>\n",
       "      <td>19.444444</td>\n",
       "      <td>11.388889</td>\n",
       "      <td>129.000000</td>\n",
       "      <td>17.131111</td>\n",
       "    </tr>\n",
       "    <tr>\n",
       "      <th>1508</th>\n",
       "      <td>230.727273</td>\n",
       "      <td>1.590909</td>\n",
       "      <td>32.636364</td>\n",
       "      <td>19.681818</td>\n",
       "      <td>12.954545</td>\n",
       "      <td>127.545455</td>\n",
       "      <td>17.320000</td>\n",
       "    </tr>\n",
       "    <tr>\n",
       "      <th>1509</th>\n",
       "      <td>254.117647</td>\n",
       "      <td>1.529412</td>\n",
       "      <td>30.882353</td>\n",
       "      <td>19.823529</td>\n",
       "      <td>11.058824</td>\n",
       "      <td>123.529412</td>\n",
       "      <td>18.888235</td>\n",
       "    </tr>\n",
       "    <tr>\n",
       "      <th>1510</th>\n",
       "      <td>240.863636</td>\n",
       "      <td>1.500000</td>\n",
       "      <td>36.272727</td>\n",
       "      <td>22.181818</td>\n",
       "      <td>14.090909</td>\n",
       "      <td>139.500000</td>\n",
       "      <td>18.216364</td>\n",
       "    </tr>\n",
       "    <tr>\n",
       "      <th>1511</th>\n",
       "      <td>225.764706</td>\n",
       "      <td>1.529412</td>\n",
       "      <td>31.470588</td>\n",
       "      <td>19.352941</td>\n",
       "      <td>12.117647</td>\n",
       "      <td>144.176471</td>\n",
       "      <td>17.783529</td>\n",
       "    </tr>\n",
       "    <tr>\n",
       "      <th>1512</th>\n",
       "      <td>226.000000</td>\n",
       "      <td>1.333333</td>\n",
       "      <td>30.000000</td>\n",
       "      <td>15.666667</td>\n",
       "      <td>14.333333</td>\n",
       "      <td>150.333333</td>\n",
       "      <td>17.740000</td>\n",
       "    </tr>\n",
       "    <tr>\n",
       "      <th>1513</th>\n",
       "      <td>16.000000</td>\n",
       "      <td>0.000000</td>\n",
       "      <td>4.000000</td>\n",
       "      <td>2.000000</td>\n",
       "      <td>2.000000</td>\n",
       "      <td>13.000000</td>\n",
       "      <td>-1.360000</td>\n",
       "    </tr>\n",
       "    <tr>\n",
       "      <th>1514</th>\n",
       "      <td>206.090909</td>\n",
       "      <td>1.409091</td>\n",
       "      <td>26.954545</td>\n",
       "      <td>16.909091</td>\n",
       "      <td>10.045455</td>\n",
       "      <td>105.681818</td>\n",
       "      <td>21.389091</td>\n",
       "    </tr>\n",
       "    <tr>\n",
       "      <th>1515</th>\n",
       "      <td>105.833333</td>\n",
       "      <td>0.333333</td>\n",
       "      <td>17.833333</td>\n",
       "      <td>11.333333</td>\n",
       "      <td>6.500000</td>\n",
       "      <td>60.333333</td>\n",
       "      <td>5.683333</td>\n",
       "    </tr>\n",
       "    <tr>\n",
       "      <th>1516</th>\n",
       "      <td>0.000000</td>\n",
       "      <td>0.000000</td>\n",
       "      <td>0.000000</td>\n",
       "      <td>0.000000</td>\n",
       "      <td>0.000000</td>\n",
       "      <td>0.000000</td>\n",
       "      <td>1.060000</td>\n",
       "    </tr>\n",
       "  </tbody>\n",
       "</table>\n",
       "<p>1517 rows × 7 columns</p>\n",
       "</div>"
      ],
      "text/plain": [
       "               0         1          2          3          4           5  \\\n",
       "0     315.521739  1.608696  44.565217  27.000000  17.565217  176.434783   \n",
       "1     285.869565  2.086957  37.347826  25.000000  12.347826  161.565217   \n",
       "2      73.764706  0.352941  12.058824   7.647059   4.411765   36.235294   \n",
       "3     219.318182  1.681818  30.000000  17.500000  12.500000  121.954545   \n",
       "4     250.272727  1.454545  36.272727  23.454545  12.818182  121.636364   \n",
       "5      43.333333  0.000000   4.000000   2.333333   1.666667   13.333333   \n",
       "6     220.500000  1.500000  29.454545  19.090909  10.363636  118.818182   \n",
       "7     296.000000  1.869565  39.739130  26.000000  13.739130  168.956522   \n",
       "8       0.000000  0.000000   0.000000   0.000000   0.000000    0.000000   \n",
       "9     229.954545  1.590909  34.636364  21.318182  13.318182  112.136364   \n",
       "10    324.954545  3.181818  39.500000  27.136364  12.363636  179.545455   \n",
       "11    285.043478  1.826087  36.000000  22.043478  13.956522  167.565217   \n",
       "12    263.571429  1.380952  35.904762  22.714286  13.190476  136.904762   \n",
       "13    214.952381  1.000000  31.000000  19.238095  11.761905  113.238095   \n",
       "14    289.062500  2.187500  34.375000  24.375000  10.000000  157.875000   \n",
       "15     79.428571  0.428571  11.285714   6.142857   5.142857   45.285714   \n",
       "16    295.818182  1.500000  37.636364  22.818182  14.818182  179.727273   \n",
       "17    261.217391  1.826087  37.391304  23.086957  14.304348  136.608696   \n",
       "18    143.142857  1.142857  17.428571   9.857143   7.571429   96.285714   \n",
       "19    215.000000  1.000000  32.411765  19.058824  13.352941  128.529412   \n",
       "20    165.000000  1.000000  24.333333  15.000000   9.333333   91.333333   \n",
       "21    212.000000  1.272727  29.409091  17.681818  11.727273  127.454545   \n",
       "22    207.454545  1.590909  27.136364  17.090909  10.045455  108.636364   \n",
       "23      0.000000  0.000000   0.000000   0.000000   0.000000    0.000000   \n",
       "24    194.933333  1.066667  33.000000  18.133333  14.866667  117.600000   \n",
       "25    116.250000  0.750000  17.500000  12.000000   5.500000   54.250000   \n",
       "26    214.850000  1.100000  32.050000  19.650000  12.400000  117.250000   \n",
       "27    277.136364  2.318182  33.727273  22.318182  11.409091  151.272727   \n",
       "28     39.600000  0.400000   6.800000   3.600000   3.200000   23.000000   \n",
       "29    231.909091  1.727273  36.681818  21.818182  14.863636  125.181818   \n",
       "...          ...       ...        ...        ...        ...         ...   \n",
       "1487  217.272727  1.454545  33.136364  19.863636  13.272727  132.090909   \n",
       "1488   96.333333  0.666667  14.666667   8.333333   6.333333   45.333333   \n",
       "1489  239.909091  1.772727  35.000000  21.363636  13.636364  130.636364   \n",
       "1490  129.000000  0.666667  23.000000  11.000000  12.000000   50.666667   \n",
       "1491  219.750000  1.400000  32.900000  19.700000  13.200000  105.250000   \n",
       "1492  231.277778  1.777778  32.722222  20.500000  12.222222  140.444444   \n",
       "1493  193.133333  1.066667  28.333333  16.400000  11.933333  121.066667   \n",
       "1494  258.363636  1.818182  36.772727  24.045455  12.727273  142.909091   \n",
       "1495   53.666667  0.500000   6.833333   5.000000   1.833333   36.166667   \n",
       "1496  290.095238  2.285714  32.333333  22.142857  10.190476  161.095238   \n",
       "1497  257.772727  1.772727  35.272727  22.045455  13.227273  128.272727   \n",
       "1498  298.555556  1.833333  36.222222  24.611111  11.611111  164.611111   \n",
       "1499   60.363636  0.272727  11.363636   6.272727   5.090909   34.636364   \n",
       "1500  196.461538  1.076923  27.923077  15.461538  12.461538  116.153846   \n",
       "1501  288.347826  2.130435  37.173913  24.478261  12.695652  151.782609   \n",
       "1502  150.428571  1.142857  19.714286  12.142857   7.571429   88.000000   \n",
       "1503  245.062500  1.687500  34.875000  21.250000  13.625000  144.375000   \n",
       "1504  291.416667  1.750000  36.750000  24.916667  11.833333  138.916667   \n",
       "1505  218.263158  1.421053  29.000000  18.473684  10.526316  123.210526   \n",
       "1506  191.571429  0.952381  29.571429  16.000000  13.571429  112.285714   \n",
       "1507  225.500000  1.277778  30.833333  19.444444  11.388889  129.000000   \n",
       "1508  230.727273  1.590909  32.636364  19.681818  12.954545  127.545455   \n",
       "1509  254.117647  1.529412  30.882353  19.823529  11.058824  123.529412   \n",
       "1510  240.863636  1.500000  36.272727  22.181818  14.090909  139.500000   \n",
       "1511  225.764706  1.529412  31.470588  19.352941  12.117647  144.176471   \n",
       "1512  226.000000  1.333333  30.000000  15.666667  14.333333  150.333333   \n",
       "1513   16.000000  0.000000   4.000000   2.000000   2.000000   13.000000   \n",
       "1514  206.090909  1.409091  26.954545  16.909091  10.045455  105.681818   \n",
       "1515  105.833333  0.333333  17.833333  11.333333   6.500000   60.333333   \n",
       "1516    0.000000  0.000000   0.000000   0.000000   0.000000    0.000000   \n",
       "\n",
       "              6  \n",
       "0     21.916522  \n",
       "1     23.295652  \n",
       "2      5.180000  \n",
       "3     17.768182  \n",
       "4     17.729091  \n",
       "5      1.000000  \n",
       "6     18.760909  \n",
       "7     21.570435  \n",
       "8     -0.150000  \n",
       "9     16.925455  \n",
       "10    30.557273  \n",
       "11    19.927826  \n",
       "12    17.685714  \n",
       "13    12.740952  \n",
       "14    23.518750  \n",
       "15     6.177143  \n",
       "16    18.373636  \n",
       "17    23.670435  \n",
       "18    11.525714  \n",
       "19    13.688235  \n",
       "20     9.900000  \n",
       "21    17.816364  \n",
       "22    21.839091  \n",
       "23    -0.100000  \n",
       "24    13.104000  \n",
       "25     8.775000  \n",
       "26    13.529000  \n",
       "27    24.380909  \n",
       "28     3.944000  \n",
       "29    18.290000  \n",
       "...         ...  \n",
       "1487  16.790909  \n",
       "1488   4.853333  \n",
       "1489  19.019091  \n",
       "1490   8.393333  \n",
       "1491  15.850000  \n",
       "1492  19.384444  \n",
       "1493  15.518667  \n",
       "1494  21.275455  \n",
       "1495   5.313333  \n",
       "1496  27.670476  \n",
       "1497  20.692727  \n",
       "1498  21.275556  \n",
       "1499   5.387273  \n",
       "1500  15.581538  \n",
       "1501  23.286087  \n",
       "1502  12.260000  \n",
       "1503  16.833750  \n",
       "1504  20.248333  \n",
       "1505  17.988421  \n",
       "1506  12.858095  \n",
       "1507  17.131111  \n",
       "1508  17.320000  \n",
       "1509  18.888235  \n",
       "1510  18.216364  \n",
       "1511  17.783529  \n",
       "1512  17.740000  \n",
       "1513  -1.360000  \n",
       "1514  21.389091  \n",
       "1515   5.683333  \n",
       "1516   1.060000  \n",
       "\n",
       "[1517 rows x 7 columns]"
      ]
     },
     "execution_count": 89,
     "metadata": {},
     "output_type": "execute_result"
    }
   ],
   "source": [
    "X_train"
   ]
  },
  {
   "cell_type": "code",
   "execution_count": 90,
   "metadata": {
    "collapsed": true
   },
   "outputs": [],
   "source": [
    "#Extract feature names for column names\n",
    "def getFeatNames(feats):\n",
    "    feat_names=[]\n",
    "    \n",
    "    for feat in feats[0]:\n",
    "        feat_names = feat_names + ['player_%s' % feat]\n",
    "    for feat in feats[1]:\n",
    "        feat_names = feat_names + ['team_%s' % feat]\n",
    "    for feat in feats[2]:\n",
    "        feat_names = feat_names + ['opp_%s' % feat]\n",
    "    for feat in feats[3]:\n",
    "        feat_names = feat_names + [feat]        \n",
    "    return feat_names"
   ]
  },
  {
   "cell_type": "code",
   "execution_count": 91,
   "metadata": {
    "collapsed": false
   },
   "outputs": [
    {
     "data": {
      "text/html": [
       "<div>\n",
       "<table border=\"1\" class=\"dataframe\">\n",
       "  <thead>\n",
       "    <tr style=\"text-align: right;\">\n",
       "      <th></th>\n",
       "      <th>player_passing_yds</th>\n",
       "      <th>player_passing_tds</th>\n",
       "      <th>player_passing_att</th>\n",
       "      <th>player_passing_cmp</th>\n",
       "      <th>player_passing_incmp</th>\n",
       "      <th>player_passing_cmp_air_yds</th>\n",
       "      <th>AvgFantasyPoints</th>\n",
       "    </tr>\n",
       "  </thead>\n",
       "  <tbody>\n",
       "    <tr>\n",
       "      <th>0</th>\n",
       "      <td>315.521739</td>\n",
       "      <td>1.608696</td>\n",
       "      <td>44.565217</td>\n",
       "      <td>27.000000</td>\n",
       "      <td>17.565217</td>\n",
       "      <td>176.434783</td>\n",
       "      <td>21.916522</td>\n",
       "    </tr>\n",
       "    <tr>\n",
       "      <th>1</th>\n",
       "      <td>285.869565</td>\n",
       "      <td>2.086957</td>\n",
       "      <td>37.347826</td>\n",
       "      <td>25.000000</td>\n",
       "      <td>12.347826</td>\n",
       "      <td>161.565217</td>\n",
       "      <td>23.295652</td>\n",
       "    </tr>\n",
       "    <tr>\n",
       "      <th>2</th>\n",
       "      <td>73.764706</td>\n",
       "      <td>0.352941</td>\n",
       "      <td>12.058824</td>\n",
       "      <td>7.647059</td>\n",
       "      <td>4.411765</td>\n",
       "      <td>36.235294</td>\n",
       "      <td>5.180000</td>\n",
       "    </tr>\n",
       "    <tr>\n",
       "      <th>3</th>\n",
       "      <td>219.318182</td>\n",
       "      <td>1.681818</td>\n",
       "      <td>30.000000</td>\n",
       "      <td>17.500000</td>\n",
       "      <td>12.500000</td>\n",
       "      <td>121.954545</td>\n",
       "      <td>17.768182</td>\n",
       "    </tr>\n",
       "    <tr>\n",
       "      <th>4</th>\n",
       "      <td>250.272727</td>\n",
       "      <td>1.454545</td>\n",
       "      <td>36.272727</td>\n",
       "      <td>23.454545</td>\n",
       "      <td>12.818182</td>\n",
       "      <td>121.636364</td>\n",
       "      <td>17.729091</td>\n",
       "    </tr>\n",
       "  </tbody>\n",
       "</table>\n",
       "</div>"
      ],
      "text/plain": [
       "   player_passing_yds  player_passing_tds  player_passing_att  \\\n",
       "0          315.521739            1.608696           44.565217   \n",
       "1          285.869565            2.086957           37.347826   \n",
       "2           73.764706            0.352941           12.058824   \n",
       "3          219.318182            1.681818           30.000000   \n",
       "4          250.272727            1.454545           36.272727   \n",
       "\n",
       "   player_passing_cmp  player_passing_incmp  player_passing_cmp_air_yds  \\\n",
       "0           27.000000             17.565217                  176.434783   \n",
       "1           25.000000             12.347826                  161.565217   \n",
       "2            7.647059              4.411765                   36.235294   \n",
       "3           17.500000             12.500000                  121.954545   \n",
       "4           23.454545             12.818182                  121.636364   \n",
       "\n",
       "   AvgFantasyPoints  \n",
       "0         21.916522  \n",
       "1         23.295652  \n",
       "2          5.180000  \n",
       "3         17.768182  \n",
       "4         17.729091  "
      ]
     },
     "execution_count": 91,
     "metadata": {},
     "output_type": "execute_result"
    }
   ],
   "source": [
    "X_train.columns=getFeatNames(all_feats)\n",
    "X_cv.columns=getFeatNames(all_feats)\n",
    "X_train.head()"
   ]
  },
  {
   "cell_type": "code",
   "execution_count": 92,
   "metadata": {
    "collapsed": true
   },
   "outputs": [],
   "source": [
    "#Scale the features to help with fitting\n",
    "\n",
    "#Get min and max of each feature in from the data set\n",
    "def getExtremeOfFeat(feat,feat_type):\n",
    "    #Player feats\n",
    "    feat_list = POSsamples.apply(lambda x: x['%s Avg Stats' % feat_type][stat_order.index(feat)],axis=1).tolist()\n",
    "\n",
    "    return (max(feat_list),min(feat_list))\n",
    "\n",
    "def scaleFeat(featFrame,feats):\n",
    "    \n",
    "    #player feats\n",
    "    for feat in feats[0]:\n",
    "        (max_feat,min_feat)=getExtremeOfFeat(feat,'Player')\n",
    "        featFrame['player_%s' % feat]= (featFrame['player_%s' % feat] - min_feat)/(max_feat-min_feat)\n",
    "    \n",
    "    #team feats\n",
    "    for feat in feats[1]:\n",
    "        (max_feat,min_feat)=getExtremeOfFeat(feat,'Team')\n",
    "        featFrame['team_%s' % feat]= (featFrame['team_%s' % feat] - min_feat)/(max_feat-min_feat)\n",
    "    \n",
    "    #opp feats\n",
    "    for feat in feats[2]:\n",
    "        (max_feat,min_feat)=getExtremeOfFeat(feat,'Opp')\n",
    "        featFrame['opp_%s' % feat]= (featFrame['opp_%s' % feat] - min_feat)/(max_feat-min_feat)\n",
    "\n",
    "   \n",
    "    #fantasy point feats\n",
    "    for feat in feats[3]:\n",
    "        max_feat=max(POSsamples[feat])\n",
    "        min_feat=min(POSsamples[feat])\n",
    "        featFrame[feat]= (featFrame[feat] - min_feat)/(max_feat-min_feat)\n",
    "        \n",
    "       \n",
    "    return featFrame"
   ]
  },
  {
   "cell_type": "code",
   "execution_count": 93,
   "metadata": {
    "collapsed": false
   },
   "outputs": [
    {
     "data": {
      "text/html": [
       "<div>\n",
       "<table border=\"1\" class=\"dataframe\">\n",
       "  <thead>\n",
       "    <tr style=\"text-align: right;\">\n",
       "      <th></th>\n",
       "      <th>player_passing_yds</th>\n",
       "      <th>player_passing_tds</th>\n",
       "      <th>player_passing_att</th>\n",
       "      <th>player_passing_cmp</th>\n",
       "      <th>player_passing_incmp</th>\n",
       "      <th>player_passing_cmp_air_yds</th>\n",
       "      <th>AvgFantasyPoints</th>\n",
       "    </tr>\n",
       "  </thead>\n",
       "  <tbody>\n",
       "    <tr>\n",
       "      <th>0</th>\n",
       "      <td>0.738927</td>\n",
       "      <td>0.402174</td>\n",
       "      <td>0.810277</td>\n",
       "      <td>0.750000</td>\n",
       "      <td>0.763705</td>\n",
       "      <td>0.658431</td>\n",
       "      <td>0.653355</td>\n",
       "    </tr>\n",
       "    <tr>\n",
       "      <th>1</th>\n",
       "      <td>0.669484</td>\n",
       "      <td>0.521739</td>\n",
       "      <td>0.679051</td>\n",
       "      <td>0.694444</td>\n",
       "      <td>0.536862</td>\n",
       "      <td>0.603562</td>\n",
       "      <td>0.690811</td>\n",
       "    </tr>\n",
       "    <tr>\n",
       "      <th>2</th>\n",
       "      <td>0.172751</td>\n",
       "      <td>0.088235</td>\n",
       "      <td>0.219251</td>\n",
       "      <td>0.212418</td>\n",
       "      <td>0.191816</td>\n",
       "      <td>0.141090</td>\n",
       "      <td>0.198805</td>\n",
       "    </tr>\n",
       "    <tr>\n",
       "      <th>3</th>\n",
       "      <td>0.513626</td>\n",
       "      <td>0.420455</td>\n",
       "      <td>0.545455</td>\n",
       "      <td>0.486111</td>\n",
       "      <td>0.543478</td>\n",
       "      <td>0.457397</td>\n",
       "      <td>0.540689</td>\n",
       "    </tr>\n",
       "    <tr>\n",
       "      <th>4</th>\n",
       "      <td>0.586119</td>\n",
       "      <td>0.363636</td>\n",
       "      <td>0.659504</td>\n",
       "      <td>0.651515</td>\n",
       "      <td>0.557312</td>\n",
       "      <td>0.456223</td>\n",
       "      <td>0.539628</td>\n",
       "    </tr>\n",
       "  </tbody>\n",
       "</table>\n",
       "</div>"
      ],
      "text/plain": [
       "   player_passing_yds  player_passing_tds  player_passing_att  \\\n",
       "0            0.738927            0.402174            0.810277   \n",
       "1            0.669484            0.521739            0.679051   \n",
       "2            0.172751            0.088235            0.219251   \n",
       "3            0.513626            0.420455            0.545455   \n",
       "4            0.586119            0.363636            0.659504   \n",
       "\n",
       "   player_passing_cmp  player_passing_incmp  player_passing_cmp_air_yds  \\\n",
       "0            0.750000              0.763705                    0.658431   \n",
       "1            0.694444              0.536862                    0.603562   \n",
       "2            0.212418              0.191816                    0.141090   \n",
       "3            0.486111              0.543478                    0.457397   \n",
       "4            0.651515              0.557312                    0.456223   \n",
       "\n",
       "   AvgFantasyPoints  \n",
       "0          0.653355  \n",
       "1          0.690811  \n",
       "2          0.198805  \n",
       "3          0.540689  \n",
       "4          0.539628  "
      ]
     },
     "execution_count": 93,
     "metadata": {},
     "output_type": "execute_result"
    }
   ],
   "source": [
    "scaleFeat(X_train,all_feats)\n",
    "scaleFeat(X_cv,all_feats)\n",
    "X_train.head()"
   ]
  },
  {
   "cell_type": "code",
   "execution_count": 94,
   "metadata": {
    "collapsed": false
   },
   "outputs": [],
   "source": [
    "#Get outcome for the stat we are predicting\n",
    "def getStatRes(row,stat):\n",
    "    return row['Stat Outcome'][stat_order.index(stat)]\n",
    "\n",
    "#Get outcome for the stat we are predicting\n",
    "def getPointRes(row):\n",
    "    return row['FantasyPoints']"
   ]
  },
  {
   "cell_type": "code",
   "execution_count": 95,
   "metadata": {
    "collapsed": false
   },
   "outputs": [],
   "source": [
    "Y_train=POS_training.apply(getPointRes,axis=1)\n",
    "Y_cv=POS_cv.apply(getPointRes,axis=1)"
   ]
  },
  {
   "cell_type": "code",
   "execution_count": 96,
   "metadata": {
    "collapsed": false
   },
   "outputs": [
    {
     "name": "stdout",
     "output_type": "stream",
     "text": [
      "MSE: 9.37064017715\n",
      "Average Points: 17.5070143416\n",
      "Correlation:  (0.41103081963386556, 1.2631936112201067e-32)\n"
     ]
    },
    {
     "data": {
      "image/png": "[encoded data removed]",
      "text/plain": [
       "<matplotlib.figure.Figure at 0x1255acd50>"
      ]
     },
     "metadata": {},
     "output_type": "display_data"
    }
   ],
   "source": [
    "#Train a Linear regression model\n",
    "from sklearn.datasets import load_boston\n",
    "from sklearn.linear_model import LinearRegression\n",
    "\n",
    "lm = LinearRegression(fit_intercept=False, normalize=False, copy_X=True, n_jobs=-1)\n",
    "lm.fit(X_train,Y_train)\n",
    "\n",
    "#Check performance on CV data\n",
    "plt.scatter(Y_cv, lm.predict(X_cv))\n",
    "plt.xlabel(\"True Points\")\n",
    "plt.ylabel(\"Predicted Points\")\n",
    "\n",
    "\n",
    "#Calculate mean squared error\n",
    "mse = np.mean((Y_cv - lm.predict(X_cv)) **2)\n",
    "print 'MSE:', np.sqrt(mse)\n",
    "print 'Average Points:', np.mean(Y_cv)\n",
    "print 'Correlation: ', pearsonr(Y_cv,lm.predict(X_cv))"
   ]
  },
  {
   "cell_type": "markdown",
   "metadata": {},
   "source": [
    "# Try Support Vector Regression"
   ]
  },
  {
   "cell_type": "code",
   "execution_count": 97,
   "metadata": {
    "collapsed": false
   },
   "outputs": [
    {
     "name": "stdout",
     "output_type": "stream",
     "text": [
      "[LibSVM]MSE: 9.7726360924\n",
      "Average Yardage: 17.5070143416\n",
      "Correlation:  (0.38242952970973199, 4.052415366489651e-28)\n"
     ]
    },
    {
     "data": {
      "image/png": "[encoded data removed]",
      "text/plain": [
       "<matplotlib.figure.Figure at 0x1210e3710>"
      ]
     },
     "metadata": {},
     "output_type": "display_data"
    }
   ],
   "source": [
    "from sklearn.svm import SVR\n",
    "svr_rbf = SVR(kernel='rbf', C=1e3, gamma=0.1)\n",
    "svr_lin = SVR(kernel='linear', C=1e3)\n",
    "svr_poly = SVR(kernel='poly', C=1e3, degree=2)\n",
    "from sklearn import svm\n",
    "\n",
    "\n",
    "lm=SVR(kernel='rbf', degree=2, gamma='auto', \\\n",
    "       coef0=0, tol=0.1, C=0.1, epsilon=0.1,\\\n",
    "       shrinking=True, cache_size=200, verbose=True, max_iter=-1)\n",
    "\n",
    "lm.fit(X_train,Y_train)\n",
    "\n",
    "\n",
    "#Check performance on CV data\n",
    "plt.scatter(Y_cv, lm.predict(X_cv))\n",
    "plt.xlabel(\"True Receiving Yards\")\n",
    "plt.ylabel(\"Predicted Reveiving Yards\")\n",
    "\n",
    "\n",
    "#Calculate mean squared error\n",
    "mse = np.mean((Y_cv - lm.predict(X_cv)) **2)\n",
    "print 'MSE:', np.sqrt(mse)\n",
    "print 'Average Yardage:', np.mean(Y_cv)\n",
    "print 'Correlation: ', pearsonr(Y_cv,lm.predict(X_cv))\n"
   ]
  },
  {
   "cell_type": "markdown",
   "metadata": {},
   "source": [
    "# Try Bayesian Ridge Regression"
   ]
  },
  {
   "cell_type": "code",
   "execution_count": 98,
   "metadata": {
    "collapsed": false
   },
   "outputs": [
    {
     "name": "stdout",
     "output_type": "stream",
     "text": [
      "Convergence after  10  iterations\n",
      "MSE: 9.24023409721\n",
      "Average Yardage: 17.5070143416\n",
      "Correlation:  (0.41759362686918078, 1.009504840336025e-33)\n"
     ]
    },
    {
     "data": {
      "image/png": "[encoded data removed]",
      "text/plain": [
       "<matplotlib.figure.Figure at 0x1254e1bd0>"
      ]
     },
     "metadata": {},
     "output_type": "display_data"
    }
   ],
   "source": [
    "from sklearn.linear_model import BayesianRidge\n",
    "\n",
    "lm = BayesianRidge(n_iter=500, tol=0.0001, alpha_1=1e-10, \\\n",
    "                    alpha_2=1e-12, lambda_1=1e-06, lambda_2=1e-06,\\\n",
    "                    compute_score=False, fit_intercept=True, normalize=False,\\\n",
    "                    copy_X=True, verbose=True)\n",
    "\n",
    "lm.fit(X_train,Y_train)\n",
    "\n",
    "#Check performance on CV data\n",
    "plt.scatter(Y_cv, lm.predict(X_cv))\n",
    "plt.xlabel(\"True Receiving Yards\")\n",
    "plt.ylabel(\"Predicted Reveiving Yards\")\n",
    "\n",
    "#Calculate mean squared error\n",
    "mse = np.mean((Y_cv - lm.predict(X_cv)) **2)\n",
    "print 'MSE:', np.sqrt(mse)\n",
    "print 'Average Yardage:', np.mean(Y_cv)\n",
    "print 'Correlation: ', pearsonr(Y_cv,lm.predict(X_cv))\n"
   ]
  },
  {
   "cell_type": "markdown",
   "metadata": {},
   "source": [
    "# Try Elastic Net"
   ]
  },
  {
   "cell_type": "code",
   "execution_count": null,
   "metadata": {
    "collapsed": false
   },
   "outputs": [],
   "source": [
    "from sklearn.linear_model import ElasticNet\n",
    "\n",
    "lm = ElasticNet(alpha=1.0, l1_ratio=0.5, fit_intercept=True, \\\n",
    "                normalize=False, precompute=False, max_iter=10000,\\\n",
    "                copy_X=True, tol=0.001, warm_start=False, positive=False,\\\n",
    "                random_state=None, selection='cyclic')\n",
    "\n",
    "lm.fit(X_train,Y_train)\n",
    "\n",
    "#Check performance on CV data\n",
    "plt.scatter(Y_cv, lm.predict(X_cv))\n",
    "plt.xlabel(\"True Receiving Yards\")\n",
    "plt.ylabel(\"Predicted Reveiving Yards\")\n",
    "\n",
    "\n",
    "#Calculate mean squared error\n",
    "mse = np.mean((Y_cv - lm.predict(X_cv)) **2)\n",
    "print 'MSE:', np.sqrt(mse)\n",
    "print 'Average Yardage:', np.mean(Y_cv)\n",
    "print 'Correlation: ', pearsonr(Y_cv,lm.predict(X_cv))\n",
    "\n"
   ]
  },
  {
   "cell_type": "code",
   "execution_count": null,
   "metadata": {
    "collapsed": true
   },
   "outputs": [],
   "source": []
  }
 ],
 "metadata": {
  "anaconda-cloud": {},
  "kernelspec": {
   "display_name": "Python [py27]",
   "language": "python",
   "name": "Python [py27]"
  },
  "language_info": {
   "codemirror_mode": {
    "name": "ipython",
    "version": 2
   },
   "file_extension": ".py",
   "mimetype": "text/x-python",
   "name": "python",
   "nbconvert_exporter": "python",
   "pygments_lexer": "ipython2",
   "version": "2.7.12"
  }
 },
 "nbformat": 4,
 "nbformat_minor": 0
}
