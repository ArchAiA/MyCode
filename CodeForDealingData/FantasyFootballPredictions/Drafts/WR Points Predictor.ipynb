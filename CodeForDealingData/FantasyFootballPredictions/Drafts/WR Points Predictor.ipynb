{
 "cells": [
  {
   "cell_type": "code",
   "execution_count": 1,
   "metadata": {
    "collapsed": false
   },
   "outputs": [
    {
     "name": "stderr",
     "output_type": "stream",
     "text": [
      "/Users/richardknoche/anaconda/envs/py27/lib/python2.7/site-packages/matplotlib/__init__.py:1035: UserWarning: Duplicate key in file \"/Users/richardknoche/.matplotlib/matplotlibrc\", line #2\n",
      "  (fname, cnt))\n"
     ]
    }
   ],
   "source": [
    "import matplotlib.pyplot as plt\n",
    "import matplotlib\n",
    "%matplotlib inline\n",
    "import numpy as np\n",
    "from scipy.stats.stats import pearsonr \n",
    "import math"
   ]
  },
  {
   "cell_type": "code",
   "execution_count": 2,
   "metadata": {
    "collapsed": false
   },
   "outputs": [],
   "source": [
    "import pandas as pd\n",
    "import pickle\n",
    "\n",
    "samples=pd.read_csv('TrainingSamples.csv')\n",
    "samples.drop('Unnamed: 0', axis=1, inplace=True)\n",
    "\n",
    "with open(\"stat_order.pickle\",'rb') as f:\n",
    "    stat_order=pickle.load(f)"
   ]
  },
  {
   "cell_type": "markdown",
   "metadata": {},
   "source": [
    "Next, lets remove the first year of football data (since the averages will be bad) and extract all of the WR players"
   ]
  },
  {
   "cell_type": "code",
   "execution_count": 3,
   "metadata": {
    "collapsed": true
   },
   "outputs": [],
   "source": [
    "POSsamples=samples[(samples['Inferred Position']==\"WR\") & (samples['Week']>17)].reset_index(drop=True)"
   ]
  },
  {
   "cell_type": "code",
   "execution_count": 4,
   "metadata": {
    "collapsed": false
   },
   "outputs": [
    {
     "data": {
      "text/plain": [
       "13195"
      ]
     },
     "execution_count": 4,
     "metadata": {},
     "output_type": "execute_result"
    }
   ],
   "source": [
    "len(POSsamples)"
   ]
  },
  {
   "cell_type": "markdown",
   "metadata": {},
   "source": [
    "All of our lists got saved as strings in csv format, so lets convert them back to lists"
   ]
  },
  {
   "cell_type": "code",
   "execution_count": 5,
   "metadata": {
    "collapsed": false
   },
   "outputs": [],
   "source": [
    "all_lists = ['Opp Avg Stats','Opp Stat Std','Opp Avg Stats v Team','Opp Stat Std v Team',\\\n",
    "             'Opp Players','Player Avg Stats','Player Stat Std','Player Avg Stats v Opp',\\\n",
    "             'Player Stat Std v Opp','Team Avg Stats','Team Stat Std','Team Avg v Opp',\\\n",
    "             'Team Stat Std v Opp','Stat Outcome']\n",
    "\n",
    "for list in all_lists:\n",
    "    POSsamples[list] = POSsamples[list].apply(eval)"
   ]
  },
  {
   "cell_type": "markdown",
   "metadata": {},
   "source": [
    "Next, lets remove any players that have \"nan\" stats"
   ]
  },
  {
   "cell_type": "code",
   "execution_count": 6,
   "metadata": {
    "collapsed": false
   },
   "outputs": [],
   "source": [
    "POSsamples['No Player Stats'] = POSsamples.apply(lambda x: math.isnan(x['Player Avg Stats'][0]), axis = 1)"
   ]
  },
  {
   "cell_type": "code",
   "execution_count": 7,
   "metadata": {
    "collapsed": false
   },
   "outputs": [],
   "source": [
    "POSsamples=POSsamples[POSsamples['No Player Stats']==False].reset_index(drop=True)"
   ]
  },
  {
   "cell_type": "code",
   "execution_count": 8,
   "metadata": {
    "collapsed": false
   },
   "outputs": [
    {
     "data": {
      "text/plain": [
       "12848"
      ]
     },
     "execution_count": 8,
     "metadata": {},
     "output_type": "execute_result"
    }
   ],
   "source": [
    "len(POSsamples)"
   ]
  },
  {
   "cell_type": "markdown",
   "metadata": {},
   "source": [
    "Now, let's calculate the fantasy points each player got in each sample incase we need to fall back to predicting points instead of stats."
   ]
  },
  {
   "cell_type": "code",
   "execution_count": 9,
   "metadata": {
    "collapsed": true
   },
   "outputs": [],
   "source": [
    "point_dict={\n",
    "    'passing_yds': 0.04,\n",
    "    'passing_tds': 6,\n",
    "    'passing_int': -2,\n",
    "    'passing_twoptm': 2,\n",
    "    'rushing_yds': 0.1,\n",
    "    'rushing_tds': 6,\n",
    "    'rushing_twoptm': 2,\n",
    "    'receiving_yds': 0.1,\n",
    "    'receiving_rec': 1,\n",
    "    'receiving_tds': 6,\n",
    "    'receiving_twoptm': 2,\n",
    "    'kickret_tds': 6,\n",
    "    'puntret_tds': 6,\n",
    "    'fumbles_rec_tds': 6,\n",
    "    'fumbles_lost': -2,\n",
    "    'defense_int_tds': 6,\n",
    "    'defense_frec_tds': 6,\n",
    "    'defense_misc_tds': 6,\n",
    "    'defense_sk': 1,\n",
    "    'defense_puntblk': 2,\n",
    "    'defense_fgblk': 2,\n",
    "    'defense_xpblk': 2,\n",
    "    'defense_int': 2,\n",
    "    'defense_frec': 2,\n",
    "    'defense_safe': 2,\n",
    "    #No 2 pnt return data\n",
    "    #No 1 pnt safety data\n",
    "    #Need to figure out how to deal with defense points allowed and yds allowed\n",
    "    'kicking_xpmade': 1,\n",
    "    'kicking_fgmissed': -1,\n",
    "    #Need to handle kicking yardage \n",
    "}"
   ]
  },
  {
   "cell_type": "code",
   "execution_count": 10,
   "metadata": {
    "collapsed": true
   },
   "outputs": [],
   "source": [
    "def CalcFantasyPoints(row):\n",
    "    all_stats =  row['Stat Outcome']\n",
    "\n",
    "    points = 0\n",
    "    for stat in point_dict:\n",
    "        points += all_stats[stat_order.index(stat)] * point_dict[stat]\n",
    "\n",
    "    return points"
   ]
  },
  {
   "cell_type": "code",
   "execution_count": 11,
   "metadata": {
    "collapsed": false
   },
   "outputs": [],
   "source": [
    "POSsamples['FantasyPoints']=POSsamples.apply(CalcFantasyPoints,axis=1)"
   ]
  },
  {
   "cell_type": "code",
   "execution_count": 12,
   "metadata": {
    "collapsed": false
   },
   "outputs": [
    {
     "data": {
      "image/png": "[encoded data removed]",
      "text/plain": [
       "<matplotlib.figure.Figure at 0x11a36a8d0>"
      ]
     },
     "metadata": {},
     "output_type": "display_data"
    }
   ],
   "source": [
    "tarHist=np.hstack(POSsamples['FantasyPoints'].tolist())\n",
    "plt.hist(tarHist, bins=range(-10,51,1))\n",
    "plt.show()"
   ]
  },
  {
   "cell_type": "code",
   "execution_count": 13,
   "metadata": {
    "collapsed": true
   },
   "outputs": [],
   "source": [
    "def CalcAvgFantasyPoints(row):\n",
    "    all_stats =  row['Player Avg Stats']\n",
    "\n",
    "    points = 0\n",
    "    for stat in point_dict:\n",
    "        points += all_stats[stat_order.index(stat)] * point_dict[stat]\n",
    "\n",
    "    return points"
   ]
  },
  {
   "cell_type": "code",
   "execution_count": 14,
   "metadata": {
    "collapsed": true
   },
   "outputs": [],
   "source": [
    "POSsamples['AvgFantasyPoints']=POSsamples.apply(CalcAvgFantasyPoints,axis=1)"
   ]
  },
  {
   "cell_type": "code",
   "execution_count": 15,
   "metadata": {
    "collapsed": false
   },
   "outputs": [
    {
     "data": {
      "image/png": "[encoded data removed]",
      "text/plain": [
       "<matplotlib.figure.Figure at 0x1222f73d0>"
      ]
     },
     "metadata": {},
     "output_type": "display_data"
    }
   ],
   "source": [
    "tarHist=np.hstack(POSsamples['AvgFantasyPoints'].tolist())\n",
    "plt.hist(tarHist, bins=range(-10,51,1))\n",
    "plt.show()"
   ]
  },
  {
   "cell_type": "code",
   "execution_count": 16,
   "metadata": {
    "collapsed": true
   },
   "outputs": [],
   "source": [
    "def CalcAvgVOppFantasyPoints(row):\n",
    "    all_stats =  row['Player Avg Stats v Opp']\n",
    "\n",
    "    points = 0\n",
    "    for stat in point_dict:\n",
    "        points += all_stats[stat_order.index(stat)] * point_dict[stat]\n",
    "\n",
    "    return points"
   ]
  },
  {
   "cell_type": "code",
   "execution_count": 17,
   "metadata": {
    "collapsed": false
   },
   "outputs": [],
   "source": [
    "POSsamples['AvgVOppFantasyPoints']=POSsamples.apply(CalcAvgVOppFantasyPoints,axis=1)"
   ]
  },
  {
   "cell_type": "markdown",
   "metadata": {},
   "source": [
    "# Examining feature correlations for fantasy points\n",
    "\n",
    "Let's loop over each player's, team's, and opponents stats and see which are coorelated with the final outcome"
   ]
  },
  {
   "cell_type": "code",
   "execution_count": 18,
   "metadata": {
    "collapsed": true
   },
   "outputs": [],
   "source": [
    "def CalcCorrPoints(x_stat_type):\n",
    "    #x_stat is a stat in stat_order, such as \"receiving_yds\"\n",
    "    #x_stat_type is \"Player\" or \"Team\" or \"Opp\"\n",
    "    for x_stat in stat_order:\n",
    "        x_dfColumn = '%s Avg Stats' % x_stat_type\n",
    "\n",
    "        all_x_stats =  POSsamples[x_dfColumn] \n",
    "        y_stats =  POSsamples['FantasyPoints'] \n",
    "\n",
    "        x_stats = all_x_stats.apply(lambda x: x[stat_order.index(x_stat)])\n",
    "\n",
    "        if abs(pearsonr(x_stats, y_stats)[0]) > 0.2:\n",
    "            print x_stat_type, x_stat, \"Correlation:\", pearsonr(x_stats, y_stats)[0]\n"
   ]
  },
  {
   "cell_type": "code",
   "execution_count": 19,
   "metadata": {
    "collapsed": false
   },
   "outputs": [
    {
     "name": "stdout",
     "output_type": "stream",
     "text": [
      "Player receiving_yds Correlation: 0.512456223465\n",
      "Player receiving_rec Correlation: 0.497932900464\n",
      "Player receiving_tds Correlation: 0.395759924426\n",
      "Player receiving_tar Correlation: 0.493222860617\n",
      "Player receiving_yac_yds Correlation: 0.445650459077\n"
     ]
    }
   ],
   "source": [
    "CalcCorrPoints('Player')\n",
    "CalcCorrPoints('Team')    \n",
    "CalcCorrPoints('Opp')"
   ]
  },
  {
   "cell_type": "code",
   "execution_count": 20,
   "metadata": {
    "collapsed": false
   },
   "outputs": [
    {
     "name": "stdout",
     "output_type": "stream",
     "text": [
      "Avg Points Correlation: 0.51429890105\n"
     ]
    }
   ],
   "source": [
    "y_stats =  POSsamples['FantasyPoints'] \n",
    "x_stats = POSsamples['AvgFantasyPoints'] \n",
    "print \"Avg Points Correlation:\", pearsonr(x_stats, y_stats)[0]"
   ]
  },
  {
   "cell_type": "code",
   "execution_count": 21,
   "metadata": {
    "collapsed": false
   },
   "outputs": [
    {
     "name": "stdout",
     "output_type": "stream",
     "text": [
      "Avg Points Correlation: 0.322043323986\n"
     ]
    }
   ],
   "source": [
    "v_opp_data = POSsamples[POSsamples['AvgVOppFantasyPoints'].apply(lambda x: not math.isnan(x))]\n",
    "y_stats =  v_opp_data['FantasyPoints'] \n",
    "x_stats = v_opp_data['AvgVOppFantasyPoints'] \n",
    "print \"Avg Points Correlation:\", pearsonr(x_stats, y_stats)[0]"
   ]
  },
  {
   "cell_type": "markdown",
   "metadata": {},
   "source": [
    "# Training a predictor\n",
    "\n",
    "Okay, for now lets use the seven features that have abs(correlation) > 0.1 to training our predictor.  We might add more features based on our CV results later.\n",
    "\n",
    "First, we need to split our sample into training, CV, and testing sets.  Let's randomly order our dataframe, using the same seed so that we get the same order every time we run this code."
   ]
  },
  {
   "cell_type": "code",
   "execution_count": 22,
   "metadata": {
    "collapsed": false
   },
   "outputs": [],
   "source": [
    "np.random.seed(42)\n",
    "POSsamples=POSsamples.reindex(np.random.permutation(POSsamples.index))\n",
    "POSsamples.reset_index(inplace=True)"
   ]
  },
  {
   "cell_type": "markdown",
   "metadata": {},
   "source": [
    "Now lets put half of the samples in training, a quarter in CV, and a quarter in test."
   ]
  },
  {
   "cell_type": "code",
   "execution_count": 23,
   "metadata": {
    "collapsed": false
   },
   "outputs": [],
   "source": [
    "POS_training = POSsamples.ix[:round(len(POSsamples)/2)]\n",
    "POS_cv = POSsamples.ix[round(len(POSsamples)/2): round(len(POSsamples)/2) + round(len(POSsamples)/4)]\n",
    "POS_test = POSsamples.ix[round(len(POSsamples)/2) + round(len(POSsamples)/4):]"
   ]
  },
  {
   "cell_type": "markdown",
   "metadata": {},
   "source": [
    "Now lets train a simple prediction model before trying anything fancy. First we'll try a linear regression model, then we'll try a nonlinear regression model, then we'll try a neural network.  As a reminder, here's the features that have a correlation with a player's receiving yard outcome"
   ]
  },
  {
   "cell_type": "markdown",
   "metadata": {},
   "source": [
    "# Figure out how to add average fantasy points to this lsit"
   ]
  },
  {
   "cell_type": "code",
   "execution_count": 24,
   "metadata": {
    "collapsed": true
   },
   "outputs": [],
   "source": [
    "\n",
    "#Specify the stat of each player,team, or opponent column\n",
    "player_feats=['receiving_yds','receiving_rec','receiving_tar','receiving_yac_yds','fumbles_rec_tds','receiving_twoptm','fumbles_lost']\n",
    "team_feats=[]\n",
    "opp_feats=[]\n",
    "\n",
    "#Specify the column that holds fantasy point totals\n",
    "point_feats=['AvgFantasyPoints']\n",
    "\n",
    "all_feats=[player_feats,team_feats,opp_feats,point_feats]"
   ]
  },
  {
   "cell_type": "code",
   "execution_count": 25,
   "metadata": {
    "collapsed": true
   },
   "outputs": [],
   "source": [
    "#Extract the features we want\n",
    "def getFeats(row,feats):\n",
    "    feat_df=pd.DataFrame()\n",
    "    feat_list=[]\n",
    "    \n",
    "    #Player feats\n",
    "    feat_list= [row['Player Avg Stats'][stat_order.index(feat)] for feat in feats[0]]\n",
    "\n",
    "    #Team feats\n",
    "    feat_list = feat_list + [row['Team Avg Stats'][stat_order.index(feat)] for feat in feats[1]]\n",
    "\n",
    "    #Opponent feats\n",
    "    feat_list = feat_list + [row['Opp Avg Stats'][stat_order.index(feat)] for feat in feats[2]]\n",
    "\n",
    "    #Fantasy Point feats\n",
    "    feat_list = feat_list + [row[feat] for feat in feats[3]]\n",
    "    \n",
    "    return feat_list"
   ]
  },
  {
   "cell_type": "code",
   "execution_count": 26,
   "metadata": {
    "collapsed": false
   },
   "outputs": [],
   "source": [
    "X_train=pd.DataFrame(POS_training.apply(getFeats,args=[all_feats],axis=1).tolist())\n",
    "X_cv=pd.DataFrame(POS_cv.apply(getFeats,args=[all_feats],axis=1).tolist())"
   ]
  },
  {
   "cell_type": "code",
   "execution_count": 27,
   "metadata": {
    "collapsed": true
   },
   "outputs": [],
   "source": [
    "#Extract feature names for column names\n",
    "def getFeatNames(feats):\n",
    "    feat_names=[]\n",
    "    \n",
    "    for feat in feats[0]:\n",
    "        feat_names = feat_names + ['player_%s' % feat]\n",
    "    for feat in feats[1]:\n",
    "        feat_names = feat_names + ['team_%s' % feat]\n",
    "    for feat in feats[2]:\n",
    "        feat_names = feat_names + ['opp_%s' % feat]\n",
    "    for feat in feats[3]:\n",
    "        feat_names = feat_names + [feat]        \n",
    "    return feat_names"
   ]
  },
  {
   "cell_type": "code",
   "execution_count": 28,
   "metadata": {
    "collapsed": false
   },
   "outputs": [
    {
     "data": {
      "text/html": [
       "<div>\n",
       "<table border=\"1\" class=\"dataframe\">\n",
       "  <thead>\n",
       "    <tr style=\"text-align: right;\">\n",
       "      <th></th>\n",
       "      <th>player_receiving_yds</th>\n",
       "      <th>player_receiving_rec</th>\n",
       "      <th>player_receiving_tar</th>\n",
       "      <th>player_receiving_yac_yds</th>\n",
       "      <th>player_fumbles_rec_tds</th>\n",
       "      <th>player_receiving_twoptm</th>\n",
       "      <th>player_fumbles_lost</th>\n",
       "      <th>AvgFantasyPoints</th>\n",
       "    </tr>\n",
       "  </thead>\n",
       "  <tbody>\n",
       "    <tr>\n",
       "      <th>0</th>\n",
       "      <td>43.181818</td>\n",
       "      <td>3.136364</td>\n",
       "      <td>5.954545</td>\n",
       "      <td>11.045455</td>\n",
       "      <td>0.0</td>\n",
       "      <td>0.000000</td>\n",
       "      <td>0.0</td>\n",
       "      <td>8.000000</td>\n",
       "    </tr>\n",
       "    <tr>\n",
       "      <th>1</th>\n",
       "      <td>50.250000</td>\n",
       "      <td>3.187500</td>\n",
       "      <td>5.187500</td>\n",
       "      <td>20.937500</td>\n",
       "      <td>0.0</td>\n",
       "      <td>0.000000</td>\n",
       "      <td>0.0</td>\n",
       "      <td>9.043750</td>\n",
       "    </tr>\n",
       "    <tr>\n",
       "      <th>2</th>\n",
       "      <td>76.333333</td>\n",
       "      <td>4.722222</td>\n",
       "      <td>6.888889</td>\n",
       "      <td>24.222222</td>\n",
       "      <td>0.0</td>\n",
       "      <td>0.000000</td>\n",
       "      <td>0.0</td>\n",
       "      <td>16.688889</td>\n",
       "    </tr>\n",
       "    <tr>\n",
       "      <th>3</th>\n",
       "      <td>26.000000</td>\n",
       "      <td>2.050000</td>\n",
       "      <td>3.500000</td>\n",
       "      <td>4.100000</td>\n",
       "      <td>0.0</td>\n",
       "      <td>0.050000</td>\n",
       "      <td>0.0</td>\n",
       "      <td>5.950000</td>\n",
       "    </tr>\n",
       "    <tr>\n",
       "      <th>4</th>\n",
       "      <td>80.772727</td>\n",
       "      <td>5.590909</td>\n",
       "      <td>10.090909</td>\n",
       "      <td>17.863636</td>\n",
       "      <td>0.0</td>\n",
       "      <td>0.045455</td>\n",
       "      <td>0.0</td>\n",
       "      <td>16.213636</td>\n",
       "    </tr>\n",
       "  </tbody>\n",
       "</table>\n",
       "</div>"
      ],
      "text/plain": [
       "   player_receiving_yds  player_receiving_rec  player_receiving_tar  \\\n",
       "0             43.181818              3.136364              5.954545   \n",
       "1             50.250000              3.187500              5.187500   \n",
       "2             76.333333              4.722222              6.888889   \n",
       "3             26.000000              2.050000              3.500000   \n",
       "4             80.772727              5.590909             10.090909   \n",
       "\n",
       "   player_receiving_yac_yds  player_fumbles_rec_tds  player_receiving_twoptm  \\\n",
       "0                 11.045455                     0.0                 0.000000   \n",
       "1                 20.937500                     0.0                 0.000000   \n",
       "2                 24.222222                     0.0                 0.000000   \n",
       "3                  4.100000                     0.0                 0.050000   \n",
       "4                 17.863636                     0.0                 0.045455   \n",
       "\n",
       "   player_fumbles_lost  AvgFantasyPoints  \n",
       "0                  0.0          8.000000  \n",
       "1                  0.0          9.043750  \n",
       "2                  0.0         16.688889  \n",
       "3                  0.0          5.950000  \n",
       "4                  0.0         16.213636  "
      ]
     },
     "execution_count": 28,
     "metadata": {},
     "output_type": "execute_result"
    }
   ],
   "source": [
    "X_train.columns=getFeatNames(all_feats)\n",
    "X_cv.columns=getFeatNames(all_feats)\n",
    "X_train.head()"
   ]
  },
  {
   "cell_type": "code",
   "execution_count": 29,
   "metadata": {
    "collapsed": true
   },
   "outputs": [],
   "source": [
    "#Scale the features to help with fitting\n",
    "\n",
    "#Get min and max of each feature in from the data set\n",
    "def getExtremeOfFeat(feat,feat_type):\n",
    "    #Player feats\n",
    "    feat_list = POSsamples.apply(lambda x: x['%s Avg Stats' % feat_type][stat_order.index(feat)],axis=1).tolist()\n",
    "\n",
    "    return (max(feat_list),min(feat_list))\n",
    "\n",
    "def scaleFeat(featFrame,feats):\n",
    "    \n",
    "    #player feats\n",
    "    for feat in feats[0]:\n",
    "        (max_feat,min_feat)=getExtremeOfFeat(feat,'Player')\n",
    "        featFrame['player_%s' % feat]= (featFrame['player_%s' % feat] - min_feat)/(max_feat-min_feat)\n",
    "    \n",
    "    #team feats\n",
    "    for feat in feats[1]:\n",
    "        (max_feat,min_feat)=getExtremeOfFeat(feat,'Team')\n",
    "        featFrame['team_%s' % feat]= (featFrame['team_%s' % feat] - min_feat)/(max_feat-min_feat)\n",
    "    \n",
    "    #opp feats\n",
    "    for feat in feats[2]:\n",
    "        (max_feat,min_feat)=getExtremeOfFeat(feat,'Opp')\n",
    "        featFrame['opp_%s' % feat]= (featFrame['opp_%s' % feat] - min_feat)/(max_feat-min_feat)\n",
    "\n",
    "   \n",
    "    #fantasy point feats\n",
    "    for feat in feats[3]:\n",
    "        max_feat=max(POSsamples[feat])\n",
    "        min_feat=min(POSsamples[feat])\n",
    "        featFrame[feat]= (featFrame[feat] - min_feat)/(max_feat-min_feat)\n",
    "        \n",
    "       \n",
    "    return featFrame"
   ]
  },
  {
   "cell_type": "code",
   "execution_count": 30,
   "metadata": {
    "collapsed": false
   },
   "outputs": [
    {
     "data": {
      "text/html": [
       "<div>\n",
       "<table border=\"1\" class=\"dataframe\">\n",
       "  <thead>\n",
       "    <tr style=\"text-align: right;\">\n",
       "      <th></th>\n",
       "      <th>player_receiving_yds</th>\n",
       "      <th>player_receiving_rec</th>\n",
       "      <th>player_receiving_tar</th>\n",
       "      <th>player_receiving_yac_yds</th>\n",
       "      <th>player_fumbles_rec_tds</th>\n",
       "      <th>player_receiving_twoptm</th>\n",
       "      <th>player_fumbles_lost</th>\n",
       "      <th>AvgFantasyPoints</th>\n",
       "    </tr>\n",
       "  </thead>\n",
       "  <tbody>\n",
       "    <tr>\n",
       "      <th>0</th>\n",
       "      <td>0.357999</td>\n",
       "      <td>0.356984</td>\n",
       "      <td>0.425325</td>\n",
       "      <td>0.182823</td>\n",
       "      <td>0.0</td>\n",
       "      <td>0.000000</td>\n",
       "      <td>0.0</td>\n",
       "      <td>0.325733</td>\n",
       "    </tr>\n",
       "    <tr>\n",
       "      <th>1</th>\n",
       "      <td>0.412791</td>\n",
       "      <td>0.362805</td>\n",
       "      <td>0.370536</td>\n",
       "      <td>0.292127</td>\n",
       "      <td>0.0</td>\n",
       "      <td>0.000000</td>\n",
       "      <td>0.0</td>\n",
       "      <td>0.359731</td>\n",
       "    </tr>\n",
       "    <tr>\n",
       "      <th>2</th>\n",
       "      <td>0.614987</td>\n",
       "      <td>0.537489</td>\n",
       "      <td>0.492063</td>\n",
       "      <td>0.328422</td>\n",
       "      <td>0.0</td>\n",
       "      <td>0.000000</td>\n",
       "      <td>0.0</td>\n",
       "      <td>0.608759</td>\n",
       "    </tr>\n",
       "    <tr>\n",
       "      <th>3</th>\n",
       "      <td>0.224806</td>\n",
       "      <td>0.233333</td>\n",
       "      <td>0.250000</td>\n",
       "      <td>0.106077</td>\n",
       "      <td>0.0</td>\n",
       "      <td>0.050000</td>\n",
       "      <td>0.0</td>\n",
       "      <td>0.258958</td>\n",
       "    </tr>\n",
       "    <tr>\n",
       "      <th>4</th>\n",
       "      <td>0.649401</td>\n",
       "      <td>0.636364</td>\n",
       "      <td>0.720779</td>\n",
       "      <td>0.258162</td>\n",
       "      <td>0.0</td>\n",
       "      <td>0.045455</td>\n",
       "      <td>0.0</td>\n",
       "      <td>0.593278</td>\n",
       "    </tr>\n",
       "  </tbody>\n",
       "</table>\n",
       "</div>"
      ],
      "text/plain": [
       "   player_receiving_yds  player_receiving_rec  player_receiving_tar  \\\n",
       "0              0.357999              0.356984              0.425325   \n",
       "1              0.412791              0.362805              0.370536   \n",
       "2              0.614987              0.537489              0.492063   \n",
       "3              0.224806              0.233333              0.250000   \n",
       "4              0.649401              0.636364              0.720779   \n",
       "\n",
       "   player_receiving_yac_yds  player_fumbles_rec_tds  player_receiving_twoptm  \\\n",
       "0                  0.182823                     0.0                 0.000000   \n",
       "1                  0.292127                     0.0                 0.000000   \n",
       "2                  0.328422                     0.0                 0.000000   \n",
       "3                  0.106077                     0.0                 0.050000   \n",
       "4                  0.258162                     0.0                 0.045455   \n",
       "\n",
       "   player_fumbles_lost  AvgFantasyPoints  \n",
       "0                  0.0          0.325733  \n",
       "1                  0.0          0.359731  \n",
       "2                  0.0          0.608759  \n",
       "3                  0.0          0.258958  \n",
       "4                  0.0          0.593278  "
      ]
     },
     "execution_count": 30,
     "metadata": {},
     "output_type": "execute_result"
    }
   ],
   "source": [
    "scaleFeat(X_train,all_feats)\n",
    "scaleFeat(X_cv,all_feats)\n",
    "X_train.head()"
   ]
  },
  {
   "cell_type": "code",
   "execution_count": 31,
   "metadata": {
    "collapsed": false
   },
   "outputs": [],
   "source": [
    "#Get outcome for the stat we are predicting\n",
    "def getStatRes(row,stat):\n",
    "    return row['Stat Outcome'][stat_order.index(stat)]\n",
    "\n",
    "#Get outcome for the stat we are predicting\n",
    "def getPointRes(row):\n",
    "    return row['FantasyPoints']"
   ]
  },
  {
   "cell_type": "code",
   "execution_count": 32,
   "metadata": {
    "collapsed": false
   },
   "outputs": [],
   "source": [
    "Y_train=POS_training.apply(getPointRes,axis=1)\n",
    "Y_cv=POS_cv.apply(getPointRes,axis=1)"
   ]
  },
  {
   "cell_type": "code",
   "execution_count": 96,
   "metadata": {
    "collapsed": false
   },
   "outputs": [
    {
     "name": "stdout",
     "output_type": "stream",
     "text": [
      "RMSE: 6.56681769171\n",
      "Mean Absolute Error:  0.00221683447363\n",
      "Mean Relative Error:  0.0191317304207\n",
      "Average Points: 8.3752194211\n",
      "Correlation:  (0.52316748451195394, 2.8012253901501684e-225)\n"
     ]
    },
    {
     "data": {
      "image/png": "[encoded data removed]",
      "text/plain": [
       "<matplotlib.figure.Figure at 0x118331690>"
      ]
     },
     "metadata": {},
     "output_type": "display_data"
    }
   ],
   "source": [
    "#Train a Linear regression model\n",
    "from sklearn.datasets import load_boston\n",
    "from sklearn.linear_model import LinearRegression\n",
    "\n",
    "lm = LinearRegression(fit_intercept=False, normalize=False, copy_X=True, n_jobs=-1)\n",
    "lm.fit(X_train,Y_train)\n",
    "\n",
    "#Check performance on CV data\n",
    "plt.scatter(Y_cv, lm.predict(X_cv))\n",
    "plt.xlabel(\"True Points\")\n",
    "plt.ylabel(\"Predicted Points\")\n",
    "\n",
    "\n",
    "#Calculate mean squared error\n",
    "mse = np.mean((Y_cv - lm.predict(X_cv)) **2)\n",
    "print 'RMSE:', np.sqrt(mse)\n",
    "print 'Mean Absolute Error: ', np.mean((Y_cv - lm.predict(X_cv)))\n",
    "print 'Mean Relative Error: ', np.mean((Y_cv - lm.predict(X_cv))/(lm.predict(X_cv)))\n",
    "print 'Average Points:', np.mean(Y_cv)\n",
    "print 'Correlation: ', pearsonr(Y_cv,lm.predict(X_cv))"
   ]
  },
  {
   "cell_type": "markdown",
   "metadata": {},
   "source": [
    "# Try Support Vector Regression"
   ]
  },
  {
   "cell_type": "code",
   "execution_count": 93,
   "metadata": {
    "collapsed": false
   },
   "outputs": [
    {
     "name": "stdout",
     "output_type": "stream",
     "text": [
      "[LibSVM]MSE: 6.69132608288\n",
      "Average Yardage: 8.3752194211\n",
      "Correlation:  (0.52319378143407347, 2.6357835086890941e-225)\n"
     ]
    },
    {
     "data": {
      "image/png": "[encoded data removed]",
      "text/plain": [
       "<matplotlib.figure.Figure at 0x12b600e10>"
      ]
     },
     "metadata": {},
     "output_type": "display_data"
    }
   ],
   "source": [
    "from sklearn.svm import SVR\n",
    "svr_rbf = SVR(kernel='rbf', C=1e3, gamma=0.1)\n",
    "svr_lin = SVR(kernel='linear', C=1e3)\n",
    "svr_poly = SVR(kernel='poly', C=1e3, degree=2)\n",
    "from sklearn import svm\n",
    "\n",
    "\n",
    "lm=SVR(kernel='poly', degree=2, gamma='auto', \\\n",
    "       coef0=1000, tol=0.0001, C=0.1, epsilon=1,\\\n",
    "       shrinking=True, cache_size=200, verbose=True, max_iter=-1)\n",
    "\n",
    "lm.fit(X_train,Y_train)\n",
    "\n",
    "\n",
    "#Check performance on CV data\n",
    "plt.scatter(Y_cv, lm.predict(X_cv))\n",
    "plt.xlabel(\"True Receiving Yards\")\n",
    "plt.ylabel(\"Predicted Reveiving Yards\")\n",
    "\n",
    "\n",
    "#Calculate mean squared error\n",
    "mse = np.mean((Y_cv - lm.predict(X_cv)) **2)\n",
    "print 'MSE:', np.sqrt(mse)\n",
    "print 'Average Yardage:', np.mean(Y_cv)\n",
    "print 'Correlation: ', pearsonr(Y_cv,lm.predict(X_cv))\n"
   ]
  },
  {
   "cell_type": "markdown",
   "metadata": {},
   "source": [
    "# Try Bayesian Ridge Regression"
   ]
  },
  {
   "cell_type": "code",
   "execution_count": 76,
   "metadata": {
    "collapsed": false
   },
   "outputs": [
    {
     "name": "stdout",
     "output_type": "stream",
     "text": [
      "Convergence after  4  iterations\n",
      "MSE: 6.56710229841\n",
      "Average Yardage: 8.3752194211\n",
      "Correlation:  (0.5231079262340772, 3.215273829954206e-225)\n"
     ]
    },
    {
     "data": {
      "image/png": "[encoded data removed]",
      "text/plain": [
       "<matplotlib.figure.Figure at 0x118347810>"
      ]
     },
     "metadata": {},
     "output_type": "display_data"
    }
   ],
   "source": [
    "from sklearn.linear_model import BayesianRidge\n",
    "\n",
    "lm = BayesianRidge(n_iter=100, tol=0.0001, alpha_1=1e10, \\\n",
    "                    alpha_2=1e0, lambda_1=1e06, lambda_2=1e-06,\\\n",
    "                    compute_score=False, fit_intercept=True, normalize=False,\\\n",
    "                    copy_X=True, verbose=True)\n",
    "\n",
    "lm.fit(X_train,Y_train)\n",
    "\n",
    "#Check performance on CV data\n",
    "plt.scatter(Y_cv, lm.predict(X_cv))\n",
    "plt.xlabel(\"True Receiving Yards\")\n",
    "plt.ylabel(\"Predicted Reveiving Yards\")\n",
    "\n",
    "#Calculate mean squared error\n",
    "mse = np.mean((Y_cv - lm.predict(X_cv)) **2)\n",
    "print 'MSE:', np.sqrt(mse)\n",
    "print 'Average Yardage:', np.mean(Y_cv)\n",
    "print 'Correlation: ', pearsonr(Y_cv,lm.predict(X_cv))\n"
   ]
  },
  {
   "cell_type": "markdown",
   "metadata": {},
   "source": [
    "# Try Elastic Net"
   ]
  },
  {
   "cell_type": "code",
   "execution_count": 64,
   "metadata": {
    "collapsed": false
   },
   "outputs": [
    {
     "name": "stdout",
     "output_type": "stream",
     "text": [
      "MSE: 6.56678203484\n",
      "Average Yardage: 8.3752194211\n",
      "Correlation:  0.523175769785\n"
     ]
    },
    {
     "data": {
      "image/png": "[encoded data removed]",
      "text/plain": [
       "<matplotlib.figure.Figure at 0x12e17bd50>"
      ]
     },
     "metadata": {},
     "output_type": "display_data"
    }
   ],
   "source": [
    "from sklearn.linear_model import ElasticNet\n",
    "\n",
    "lm = ElasticNet(alpha=0.0001, l1_ratio=1, fit_intercept=False, \\\n",
    "                normalize=False, precompute=False, max_iter=1000000,\\\n",
    "                copy_X=True, tol=0.01, warm_start=False, positive=False,\\\n",
    "                random_state=None, selection='cyclic')\n",
    "\n",
    "lm.fit(X_train,Y_train)\n",
    "\n",
    "#Check performance on CV data\n",
    "plt.scatter(Y_cv, lm.predict(X_cv))\n",
    "plt.xlabel(\"True Receiving Yards\")\n",
    "plt.ylabel(\"Predicted Reveiving Yards\")\n",
    "\n",
    "\n",
    "#Calculate mean squared error\n",
    "mse = np.mean((Y_cv - lm.predict(X_cv)) **2)\n",
    "print 'MSE:', np.sqrt(mse)\n",
    "print 'Average Yardage:', np.mean(Y_cv)\n",
    "print 'Correlation: ', pearsonr(Y_cv,lm.predict(X_cv))[0]\n",
    "\n"
   ]
  }
 ],
 "metadata": {
  "anaconda-cloud": {},
  "kernelspec": {
   "display_name": "Python [py27]",
   "language": "python",
   "name": "Python [py27]"
  },
  "language_info": {
   "codemirror_mode": {
    "name": "ipython",
    "version": 2
   },
   "file_extension": ".py",
   "mimetype": "text/x-python",
   "name": "python",
   "nbconvert_exporter": "python",
   "pygments_lexer": "ipython2",
   "version": "2.7.12"
  }
 },
 "nbformat": 4,
 "nbformat_minor": 0
}
