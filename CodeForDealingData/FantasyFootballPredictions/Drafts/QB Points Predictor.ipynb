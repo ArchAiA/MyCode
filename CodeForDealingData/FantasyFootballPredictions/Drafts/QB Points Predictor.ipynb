{
 "cells": [
  {
   "cell_type": "markdown",
   "metadata": {},
   "source": [
    "I'll try to build a QB stat predictor in this notebook. First lets load our full database"
   ]
  },
  {
   "cell_type": "code",
   "execution_count": 1,
   "metadata": {
    "collapsed": false
   },
   "outputs": [
    {
     "name": "stderr",
     "output_type": "stream",
     "text": [
      "/Users/richardknoche/anaconda/envs/py27/lib/python2.7/site-packages/matplotlib/__init__.py:1035: UserWarning: Duplicate key in file \"/Users/richardknoche/.matplotlib/matplotlibrc\", line #2\n",
      "  (fname, cnt))\n"
     ]
    }
   ],
   "source": [
    "import matplotlib.pyplot as plt\n",
    "import matplotlib\n",
    "%matplotlib inline\n",
    "import numpy as np\n",
    "from scipy.stats.stats import pearsonr \n",
    "import math"
   ]
  },
  {
   "cell_type": "code",
   "execution_count": 2,
   "metadata": {
    "collapsed": false
   },
   "outputs": [],
   "source": [
    "import pandas as pd\n",
    "import pickle\n",
    "\n",
    "samples=pd.read_csv('TrainingSamples.csv')\n",
    "samples.drop('Unnamed: 0', axis=1, inplace=True)\n",
    "\n",
    "with open(\"stat_order.pickle\",'rb') as f:\n",
    "    stat_order=pickle.load(f)"
   ]
  },
  {
   "cell_type": "markdown",
   "metadata": {},
   "source": [
    "Next, lets remove the first year of football data (since the averages will be bad) and extract all of the QB players"
   ]
  },
  {
   "cell_type": "code",
   "execution_count": 3,
   "metadata": {
    "collapsed": true
   },
   "outputs": [],
   "source": [
    "POSsamples=samples[(samples['Inferred Position']==\"QB\") & (samples['Week']>17)].reset_index(drop=True)"
   ]
  },
  {
   "cell_type": "code",
   "execution_count": 4,
   "metadata": {
    "collapsed": false
   },
   "outputs": [
    {
     "data": {
      "text/plain": [
       "3513"
      ]
     },
     "execution_count": 4,
     "metadata": {},
     "output_type": "execute_result"
    }
   ],
   "source": [
    "len(POSsamples)"
   ]
  },
  {
   "cell_type": "markdown",
   "metadata": {},
   "source": [
    "All of our lists got saved as strings in csv format, so lets convert them back to lists"
   ]
  },
  {
   "cell_type": "code",
   "execution_count": 5,
   "metadata": {
    "collapsed": false
   },
   "outputs": [],
   "source": [
    "all_lists = ['Opp Avg Stats','Opp Stat Std','Opp Avg Stats v Team','Opp Stat Std v Team',\\\n",
    "             'Opp Players','Player Avg Stats','Player Stat Std','Player Avg Stats v Opp',\\\n",
    "             'Player Stat Std v Opp','Team Avg Stats','Team Stat Std','Team Avg v Opp',\\\n",
    "             'Team Stat Std v Opp','Stat Outcome']\n",
    "\n",
    "for list in all_lists:\n",
    "    POSsamples[list] = POSsamples[list].apply(eval)"
   ]
  },
  {
   "cell_type": "markdown",
   "metadata": {},
   "source": [
    "Next, lets remove any players that have \"nan\" stats"
   ]
  },
  {
   "cell_type": "code",
   "execution_count": 6,
   "metadata": {
    "collapsed": false
   },
   "outputs": [],
   "source": [
    "POSsamples['No Player Stats'] = POSsamples.apply(lambda x: math.isnan(x['Player Avg Stats'][0]), axis = 1)"
   ]
  },
  {
   "cell_type": "code",
   "execution_count": 7,
   "metadata": {
    "collapsed": false
   },
   "outputs": [],
   "source": [
    "POSsamples=POSsamples[POSsamples['No Player Stats']==False].reset_index(drop=True)"
   ]
  },
  {
   "cell_type": "code",
   "execution_count": 8,
   "metadata": {
    "collapsed": false
   },
   "outputs": [
    {
     "data": {
      "text/plain": [
       "3414"
      ]
     },
     "execution_count": 8,
     "metadata": {},
     "output_type": "execute_result"
    }
   ],
   "source": [
    "len(POSsamples)"
   ]
  },
  {
   "cell_type": "markdown",
   "metadata": {},
   "source": [
    "Now, let's calculate the fantasy points each player got in each sample incase we need to fall back to predicting points instead of stats."
   ]
  },
  {
   "cell_type": "code",
   "execution_count": 9,
   "metadata": {
    "collapsed": true
   },
   "outputs": [],
   "source": [
    "point_dict={\n",
    "    'passing_yds': 0.04,\n",
    "    'passing_tds': 6,\n",
    "    'passing_int': -2,\n",
    "    'passing_twoptm': 2,\n",
    "    'rushing_yds': 0.1,\n",
    "    'rushing_tds': 6,\n",
    "    'rushing_twoptm': 2,\n",
    "    'receiving_yds': 0.1,\n",
    "    'receiving_rec': 1,\n",
    "    'receiving_tds': 6,\n",
    "    'receiving_twoptm': 2,\n",
    "    'kickret_tds': 6,\n",
    "    'puntret_tds': 6,\n",
    "    'fumbles_rec_tds': 6,\n",
    "    'fumbles_lost': -2,\n",
    "    'defense_int_tds': 6,\n",
    "    'defense_frec_tds': 6,\n",
    "    'defense_misc_tds': 6,\n",
    "    'defense_sk': 1,\n",
    "    'defense_puntblk': 2,\n",
    "    'defense_fgblk': 2,\n",
    "    'defense_xpblk': 2,\n",
    "    'defense_int': 2,\n",
    "    'defense_frec': 2,\n",
    "    'defense_safe': 2,\n",
    "    #No 2 pnt return data\n",
    "    #No 1 pnt safety data\n",
    "    #Need to figure out how to deal with defense points allowed and yds allowed\n",
    "    'kicking_xpmade': 1,\n",
    "    'kicking_fgmissed': -1,\n",
    "    #Need to handle kicking yardage \n",
    "}"
   ]
  },
  {
   "cell_type": "code",
   "execution_count": 10,
   "metadata": {
    "collapsed": true
   },
   "outputs": [],
   "source": [
    "def CalcFantasyPoints(row):\n",
    "    all_stats =  row['Stat Outcome']\n",
    "\n",
    "    points = 0\n",
    "    for stat in point_dict:\n",
    "        points += all_stats[stat_order.index(stat)] * point_dict[stat]\n",
    "\n",
    "    return points"
   ]
  },
  {
   "cell_type": "code",
   "execution_count": 11,
   "metadata": {
    "collapsed": false
   },
   "outputs": [],
   "source": [
    "POSsamples['FantasyPoints']=POSsamples.apply(CalcFantasyPoints,axis=1)"
   ]
  },
  {
   "cell_type": "code",
   "execution_count": 12,
   "metadata": {
    "collapsed": false
   },
   "outputs": [
    {
     "data": {
      "image/png": "[encoded data removed]",
      "text/plain": [
       "<matplotlib.figure.Figure at 0x1176d8d10>"
      ]
     },
     "metadata": {},
     "output_type": "display_data"
    }
   ],
   "source": [
    "tarHist=np.hstack(POSsamples['FantasyPoints'].tolist())\n",
    "plt.hist(tarHist, bins=range(-10,51,1))\n",
    "plt.show()"
   ]
  },
  {
   "cell_type": "code",
   "execution_count": 13,
   "metadata": {
    "collapsed": true
   },
   "outputs": [],
   "source": [
    "def CalcAvgFantasyPoints(row):\n",
    "    all_stats =  row['Player Avg Stats']\n",
    "\n",
    "    points = 0\n",
    "    for stat in point_dict:\n",
    "        points += all_stats[stat_order.index(stat)] * point_dict[stat]\n",
    "\n",
    "    return points"
   ]
  },
  {
   "cell_type": "code",
   "execution_count": 14,
   "metadata": {
    "collapsed": true
   },
   "outputs": [],
   "source": [
    "POSsamples['AvgFantasyPoints']=POSsamples.apply(CalcAvgFantasyPoints,axis=1)"
   ]
  },
  {
   "cell_type": "code",
   "execution_count": 15,
   "metadata": {
    "collapsed": false
   },
   "outputs": [
    {
     "data": {
      "image/png": "[encoded data removed]",
      "text/plain": [
       "<matplotlib.figure.Figure at 0x116c22d10>"
      ]
     },
     "metadata": {},
     "output_type": "display_data"
    }
   ],
   "source": [
    "tarHist=np.hstack(POSsamples['AvgFantasyPoints'].tolist())\n",
    "plt.hist(tarHist, bins=range(-10,51,1))\n",
    "plt.show()"
   ]
  },
  {
   "cell_type": "code",
   "execution_count": 16,
   "metadata": {
    "collapsed": true
   },
   "outputs": [],
   "source": [
    "def CalcAvgVOppFantasyPoints(row):\n",
    "    all_stats =  row['Player Avg Stats v Opp']\n",
    "\n",
    "    points = 0\n",
    "    for stat in point_dict:\n",
    "        points += all_stats[stat_order.index(stat)] * point_dict[stat]\n",
    "\n",
    "    return points"
   ]
  },
  {
   "cell_type": "code",
   "execution_count": 17,
   "metadata": {
    "collapsed": false
   },
   "outputs": [],
   "source": [
    "POSsamples['AvgVOppFantasyPoints']=POSsamples.apply(CalcAvgVOppFantasyPoints,axis=1)"
   ]
  },
  {
   "cell_type": "markdown",
   "metadata": {},
   "source": [
    "# Examining feature correlations for fantasy points\n",
    "\n",
    "Let's loop over each player's, team's, and opponents stats and see which are coorelated with the final outcome"
   ]
  },
  {
   "cell_type": "code",
   "execution_count": 18,
   "metadata": {
    "collapsed": true
   },
   "outputs": [],
   "source": [
    "def CalcCorrPoints(x_stat_type):\n",
    "    #x_stat is a stat in stat_order, such as \"receiving_yds\"\n",
    "    #x_stat_type is \"Player\" or \"Team\" or \"Opp\"\n",
    "    for x_stat in stat_order:\n",
    "        x_dfColumn = '%s Avg Stats' % x_stat_type\n",
    "\n",
    "        all_x_stats =  POSsamples[x_dfColumn] \n",
    "        y_stats =  POSsamples['FantasyPoints'] \n",
    "\n",
    "        x_stats = all_x_stats.apply(lambda x: x[stat_order.index(x_stat)])\n",
    "\n",
    "        if abs(pearsonr(x_stats, y_stats)[0]) > 0.2:\n",
    "            print x_stat_type, x_stat, \"Correlation:\", pearsonr(x_stats, y_stats)[0]\n"
   ]
  },
  {
   "cell_type": "code",
   "execution_count": 19,
   "metadata": {
    "collapsed": false
   },
   "outputs": [
    {
     "name": "stdout",
     "output_type": "stream",
     "text": [
      "Player passing_yds Correlation: 0.424779163249\n",
      "Player passing_tds Correlation: 0.439152098759\n",
      "Player passing_att Correlation: 0.379892501055\n",
      "Player passing_cmp Correlation: 0.409469023852\n",
      "Player passing_incmp Correlation: 0.28882593105\n",
      "Player passing_cmp_air_yds Correlation: 0.41123622011\n",
      "Team passing_tds Correlation: 0.209474584804\n",
      "Team receiving_tds Correlation: 0.205038967676\n"
     ]
    }
   ],
   "source": [
    "CalcCorrPoints('Player')\n",
    "CalcCorrPoints('Team')    \n",
    "CalcCorrPoints('Opp')"
   ]
  },
  {
   "cell_type": "code",
   "execution_count": 20,
   "metadata": {
    "collapsed": false
   },
   "outputs": [
    {
     "name": "stdout",
     "output_type": "stream",
     "text": [
      "Avg Points Correlation: 0.472411019743\n"
     ]
    }
   ],
   "source": [
    "y_stats =  POSsamples['FantasyPoints'] \n",
    "x_stats = POSsamples['AvgFantasyPoints'] \n",
    "print \"Avg Points Correlation:\", pearsonr(x_stats, y_stats)[0]"
   ]
  },
  {
   "cell_type": "code",
   "execution_count": 21,
   "metadata": {
    "collapsed": false
   },
   "outputs": [
    {
     "name": "stdout",
     "output_type": "stream",
     "text": [
      "Avg Points Correlation: 0.240370173239\n"
     ]
    }
   ],
   "source": [
    "v_opp_data = POSsamples[POSsamples['AvgVOppFantasyPoints'].apply(lambda x: not math.isnan(x))]\n",
    "y_stats =  v_opp_data['FantasyPoints'] \n",
    "x_stats = v_opp_data['AvgVOppFantasyPoints'] \n",
    "print \"Avg Points Correlation:\", pearsonr(x_stats, y_stats)[0]"
   ]
  },
  {
   "cell_type": "markdown",
   "metadata": {},
   "source": [
    "# Training a predictor\n",
    "\n",
    "Okay, for now lets use the seven features that have abs(correlation) > 0.1 to training our predictor.  We might add more features based on our CV results later.\n",
    "\n",
    "First, we need to split our sample into training, CV, and testing sets.  Let's randomly order our dataframe, using the same seed so that we get the same order every time we run this code."
   ]
  },
  {
   "cell_type": "code",
   "execution_count": 22,
   "metadata": {
    "collapsed": false
   },
   "outputs": [],
   "source": [
    "np.random.seed(42)\n",
    "POSsamples=POSsamples.reindex(np.random.permutation(POSsamples.index))\n",
    "POSsamples.reset_index(inplace=True)"
   ]
  },
  {
   "cell_type": "markdown",
   "metadata": {},
   "source": [
    "Now lets put half of the samples in training, a quarter in CV, and a quarter in test."
   ]
  },
  {
   "cell_type": "code",
   "execution_count": 23,
   "metadata": {
    "collapsed": false
   },
   "outputs": [],
   "source": [
    "POS_training = POSsamples.ix[:round(len(POSsamples)/2)]\n",
    "POS_cv = POSsamples.ix[round(len(POSsamples)/2): round(len(POSsamples)/2) + round(len(POSsamples)/4)]\n",
    "POS_test = POSsamples.ix[round(len(POSsamples)/2) + round(len(POSsamples)/4):]"
   ]
  },
  {
   "cell_type": "markdown",
   "metadata": {},
   "source": [
    "Now lets train a simple prediction model before trying anything fancy. First we'll try a linear regression model, then we'll try a nonlinear regression model, then we'll try a neural network.  As a reminder, here's the features that have a correlation with a player's receiving yard outcome"
   ]
  },
  {
   "cell_type": "markdown",
   "metadata": {},
   "source": [
    "# Figure out how to add average fantasy points to this lsit"
   ]
  },
  {
   "cell_type": "code",
   "execution_count": 24,
   "metadata": {
    "collapsed": true
   },
   "outputs": [],
   "source": [
    "\n",
    "#Specify the stat of each player,team, or opponent column\n",
    "player_feats=['passing_yds','passing_tds','passing_att','passing_cmp','passing_incmp','passing_cmp_air_yds']\n",
    "team_feats=[]\n",
    "opp_feats=[]\n",
    "\n",
    "#Specify the column that holds fantasy point totals\n",
    "point_feats=['AvgFantasyPoints']\n",
    "\n",
    "all_feats=[player_feats,team_feats,opp_feats,point_feats]"
   ]
  },
  {
   "cell_type": "code",
   "execution_count": 25,
   "metadata": {
    "collapsed": true
   },
   "outputs": [],
   "source": [
    "#Extract the features we want\n",
    "def getFeats(row,feats):\n",
    "    feat_df=pd.DataFrame()\n",
    "    feat_list=[]\n",
    "    \n",
    "    #Player feats\n",
    "    feat_list= [row['Player Avg Stats'][stat_order.index(feat)] for feat in feats[0]]\n",
    "\n",
    "    #Team feats\n",
    "    feat_list = feat_list + [row['Team Avg Stats'][stat_order.index(feat)] for feat in feats[1]]\n",
    "\n",
    "    #Opponent feats\n",
    "    feat_list = feat_list + [row['Opp Avg Stats'][stat_order.index(feat)] for feat in feats[2]]\n",
    "\n",
    "    #Fantasy Point feats\n",
    "    feat_list = feat_list + [row[feat] for feat in feats[3]]\n",
    "    \n",
    "    return feat_list"
   ]
  },
  {
   "cell_type": "code",
   "execution_count": 26,
   "metadata": {
    "collapsed": false
   },
   "outputs": [],
   "source": [
    "X_train=pd.DataFrame(POS_training.apply(getFeats,args=[all_feats],axis=1).tolist())\n",
    "X_cv=pd.DataFrame(POS_cv.apply(getFeats,args=[all_feats],axis=1).tolist())"
   ]
  },
  {
   "cell_type": "code",
   "execution_count": 27,
   "metadata": {
    "collapsed": true
   },
   "outputs": [],
   "source": [
    "#Extract feature names for column names\n",
    "def getFeatNames(feats):\n",
    "    feat_names=[]\n",
    "    \n",
    "    for feat in feats[0]:\n",
    "        feat_names = feat_names + ['player_%s' % feat]\n",
    "    for feat in feats[1]:\n",
    "        feat_names = feat_names + ['team_%s' % feat]\n",
    "    for feat in feats[2]:\n",
    "        feat_names = feat_names + ['opp_%s' % feat]\n",
    "    for feat in feats[3]:\n",
    "        feat_names = feat_names + [feat]        \n",
    "    return feat_names"
   ]
  },
  {
   "cell_type": "code",
   "execution_count": 28,
   "metadata": {
    "collapsed": false
   },
   "outputs": [
    {
     "data": {
      "text/html": [
       "<div>\n",
       "<table border=\"1\" class=\"dataframe\">\n",
       "  <thead>\n",
       "    <tr style=\"text-align: right;\">\n",
       "      <th></th>\n",
       "      <th>player_passing_yds</th>\n",
       "      <th>player_passing_tds</th>\n",
       "      <th>player_passing_att</th>\n",
       "      <th>player_passing_cmp</th>\n",
       "      <th>player_passing_incmp</th>\n",
       "      <th>player_passing_cmp_air_yds</th>\n",
       "      <th>AvgFantasyPoints</th>\n",
       "    </tr>\n",
       "  </thead>\n",
       "  <tbody>\n",
       "    <tr>\n",
       "      <th>0</th>\n",
       "      <td>315.521739</td>\n",
       "      <td>1.608696</td>\n",
       "      <td>44.565217</td>\n",
       "      <td>27.000000</td>\n",
       "      <td>17.565217</td>\n",
       "      <td>176.434783</td>\n",
       "      <td>21.916522</td>\n",
       "    </tr>\n",
       "    <tr>\n",
       "      <th>1</th>\n",
       "      <td>285.869565</td>\n",
       "      <td>2.086957</td>\n",
       "      <td>37.347826</td>\n",
       "      <td>25.000000</td>\n",
       "      <td>12.347826</td>\n",
       "      <td>161.565217</td>\n",
       "      <td>23.295652</td>\n",
       "    </tr>\n",
       "    <tr>\n",
       "      <th>2</th>\n",
       "      <td>73.764706</td>\n",
       "      <td>0.352941</td>\n",
       "      <td>12.058824</td>\n",
       "      <td>7.647059</td>\n",
       "      <td>4.411765</td>\n",
       "      <td>36.235294</td>\n",
       "      <td>5.180000</td>\n",
       "    </tr>\n",
       "    <tr>\n",
       "      <th>3</th>\n",
       "      <td>219.318182</td>\n",
       "      <td>1.681818</td>\n",
       "      <td>30.000000</td>\n",
       "      <td>17.500000</td>\n",
       "      <td>12.500000</td>\n",
       "      <td>121.954545</td>\n",
       "      <td>17.768182</td>\n",
       "    </tr>\n",
       "    <tr>\n",
       "      <th>4</th>\n",
       "      <td>250.272727</td>\n",
       "      <td>1.454545</td>\n",
       "      <td>36.272727</td>\n",
       "      <td>23.454545</td>\n",
       "      <td>12.818182</td>\n",
       "      <td>121.636364</td>\n",
       "      <td>17.729091</td>\n",
       "    </tr>\n",
       "  </tbody>\n",
       "</table>\n",
       "</div>"
      ],
      "text/plain": [
       "   player_passing_yds  player_passing_tds  player_passing_att  \\\n",
       "0          315.521739            1.608696           44.565217   \n",
       "1          285.869565            2.086957           37.347826   \n",
       "2           73.764706            0.352941           12.058824   \n",
       "3          219.318182            1.681818           30.000000   \n",
       "4          250.272727            1.454545           36.272727   \n",
       "\n",
       "   player_passing_cmp  player_passing_incmp  player_passing_cmp_air_yds  \\\n",
       "0           27.000000             17.565217                  176.434783   \n",
       "1           25.000000             12.347826                  161.565217   \n",
       "2            7.647059              4.411765                   36.235294   \n",
       "3           17.500000             12.500000                  121.954545   \n",
       "4           23.454545             12.818182                  121.636364   \n",
       "\n",
       "   AvgFantasyPoints  \n",
       "0         21.916522  \n",
       "1         23.295652  \n",
       "2          5.180000  \n",
       "3         17.768182  \n",
       "4         17.729091  "
      ]
     },
     "execution_count": 28,
     "metadata": {},
     "output_type": "execute_result"
    }
   ],
   "source": [
    "X_train.columns=getFeatNames(all_feats)\n",
    "X_cv.columns=getFeatNames(all_feats)\n",
    "X_train.head()"
   ]
  },
  {
   "cell_type": "code",
   "execution_count": 34,
   "metadata": {
    "collapsed": true
   },
   "outputs": [],
   "source": [
    "#Scale the features to help with fitting\n",
    "\n",
    "#Get min and max of each feature in from the data set\n",
    "def getExtremeOfFeat(feat,feat_type):\n",
    "    #Player feats\n",
    "    feat_list = POSsamples.apply(lambda x: x['%s Avg Stats' % feat_type][stat_order.index(feat)],axis=1).tolist()\n",
    "\n",
    "    return (max(feat_list),min(feat_list))\n",
    "\n",
    "def scaleFeat(featFrame,feats):\n",
    "    \n",
    "    #player feats\n",
    "    for feat in feats[0]:\n",
    "        (max_feat,min_feat)=getExtremeOfFeat(feat,'Player')\n",
    "        featFrame['player_%s' % feat]= (featFrame['player_%s' % feat] - min_feat)/(max_feat-min_feat)\n",
    "    \n",
    "    #team feats\n",
    "    for feat in feats[1]:\n",
    "        (max_feat,min_feat)=getExtremeOfFeat(feat,'Team')\n",
    "        featFrame['team_%s' % feat]= (featFrame['team_%s' % feat] - min_feat)/(max_feat-min_feat)\n",
    "    \n",
    "    #opp feats\n",
    "    for feat in feats[2]:\n",
    "        (max_feat,min_feat)=getExtremeOfFeat(feat,'Opp')\n",
    "        featFrame['opp_%s' % feat]= (featFrame['opp_%s' % feat] - min_feat)/(max_feat-min_feat)\n",
    "\n",
    "   \n",
    "    #fantasy point feats\n",
    "    for feat in feats[3]:\n",
    "        max_feat=max(POSsamples[feat])\n",
    "        min_feat=min(POSsamples[feat])\n",
    "        featFrame[feat]= (featFrame[feat] - min_feat)/(max_feat-min_feat)\n",
    "        \n",
    "       \n",
    "    return featFrame"
   ]
  },
  {
   "cell_type": "code",
   "execution_count": 35,
   "metadata": {
    "collapsed": false
   },
   "outputs": [
    {
     "data": {
      "text/html": [
       "<div>\n",
       "<table border=\"1\" class=\"dataframe\">\n",
       "  <thead>\n",
       "    <tr style=\"text-align: right;\">\n",
       "      <th></th>\n",
       "      <th>player_passing_yds</th>\n",
       "      <th>player_passing_tds</th>\n",
       "      <th>player_passing_att</th>\n",
       "      <th>player_passing_cmp</th>\n",
       "      <th>player_passing_incmp</th>\n",
       "      <th>player_passing_cmp_air_yds</th>\n",
       "      <th>AvgFantasyPoints</th>\n",
       "    </tr>\n",
       "  </thead>\n",
       "  <tbody>\n",
       "    <tr>\n",
       "      <th>0</th>\n",
       "      <td>0.738927</td>\n",
       "      <td>0.402174</td>\n",
       "      <td>0.810277</td>\n",
       "      <td>0.750000</td>\n",
       "      <td>0.763705</td>\n",
       "      <td>0.658431</td>\n",
       "      <td>0.653355</td>\n",
       "    </tr>\n",
       "    <tr>\n",
       "      <th>1</th>\n",
       "      <td>0.669484</td>\n",
       "      <td>0.521739</td>\n",
       "      <td>0.679051</td>\n",
       "      <td>0.694444</td>\n",
       "      <td>0.536862</td>\n",
       "      <td>0.603562</td>\n",
       "      <td>0.690811</td>\n",
       "    </tr>\n",
       "    <tr>\n",
       "      <th>2</th>\n",
       "      <td>0.172751</td>\n",
       "      <td>0.088235</td>\n",
       "      <td>0.219251</td>\n",
       "      <td>0.212418</td>\n",
       "      <td>0.191816</td>\n",
       "      <td>0.141090</td>\n",
       "      <td>0.198805</td>\n",
       "    </tr>\n",
       "    <tr>\n",
       "      <th>3</th>\n",
       "      <td>0.513626</td>\n",
       "      <td>0.420455</td>\n",
       "      <td>0.545455</td>\n",
       "      <td>0.486111</td>\n",
       "      <td>0.543478</td>\n",
       "      <td>0.457397</td>\n",
       "      <td>0.540689</td>\n",
       "    </tr>\n",
       "    <tr>\n",
       "      <th>4</th>\n",
       "      <td>0.586119</td>\n",
       "      <td>0.363636</td>\n",
       "      <td>0.659504</td>\n",
       "      <td>0.651515</td>\n",
       "      <td>0.557312</td>\n",
       "      <td>0.456223</td>\n",
       "      <td>0.539628</td>\n",
       "    </tr>\n",
       "  </tbody>\n",
       "</table>\n",
       "</div>"
      ],
      "text/plain": [
       "   player_passing_yds  player_passing_tds  player_passing_att  \\\n",
       "0            0.738927            0.402174            0.810277   \n",
       "1            0.669484            0.521739            0.679051   \n",
       "2            0.172751            0.088235            0.219251   \n",
       "3            0.513626            0.420455            0.545455   \n",
       "4            0.586119            0.363636            0.659504   \n",
       "\n",
       "   player_passing_cmp  player_passing_incmp  player_passing_cmp_air_yds  \\\n",
       "0            0.750000              0.763705                    0.658431   \n",
       "1            0.694444              0.536862                    0.603562   \n",
       "2            0.212418              0.191816                    0.141090   \n",
       "3            0.486111              0.543478                    0.457397   \n",
       "4            0.651515              0.557312                    0.456223   \n",
       "\n",
       "   AvgFantasyPoints  \n",
       "0          0.653355  \n",
       "1          0.690811  \n",
       "2          0.198805  \n",
       "3          0.540689  \n",
       "4          0.539628  "
      ]
     },
     "execution_count": 35,
     "metadata": {},
     "output_type": "execute_result"
    }
   ],
   "source": [
    "scaleFeat(X_train,all_feats)\n",
    "scaleFeat(X_cv,all_feats)\n",
    "X_train.head()"
   ]
  },
  {
   "cell_type": "code",
   "execution_count": 36,
   "metadata": {
    "collapsed": false
   },
   "outputs": [],
   "source": [
    "#Get outcome for the stat we are predicting\n",
    "def getStatRes(row,stat):\n",
    "    return row['Stat Outcome'][stat_order.index(stat)]\n",
    "\n",
    "#Get outcome for the stat we are predicting\n",
    "def getPointRes(row):\n",
    "    return row['FantasyPoints']"
   ]
  },
  {
   "cell_type": "code",
   "execution_count": 37,
   "metadata": {
    "collapsed": false
   },
   "outputs": [],
   "source": [
    "Y_train=POS_training.apply(getPointRes,axis=1)\n",
    "Y_cv=POS_cv.apply(getPointRes,axis=1)"
   ]
  },
  {
   "cell_type": "code",
   "execution_count": 42,
   "metadata": {
    "collapsed": false
   },
   "outputs": [
    {
     "name": "stdout",
     "output_type": "stream",
     "text": [
      "RMSE: 9.48078849003\n",
      "Mean Absolute Error:  1.04842742664\n",
      "Mean Relative Error:  0.137998625799\n",
      "Average Points: 16.8506323185\n",
      "Correlation:  (0.48800801958050904, 2.6454848125327015e-52)\n"
     ]
    },
    {
     "data": {
      "image/png": "[encoded data removed]",
      "text/plain": [
       "<matplotlib.figure.Figure at 0x121729850>"
      ]
     },
     "metadata": {},
     "output_type": "display_data"
    }
   ],
   "source": [
    "#Train a Linear regression model\n",
    "from sklearn.datasets import load_boston\n",
    "from sklearn.linear_model import LinearRegression\n",
    "\n",
    "lm = LinearRegression(fit_intercept=False, normalize=False, copy_X=True, n_jobs=-1)\n",
    "lm.fit(X_train,Y_train)\n",
    "\n",
    "#Check performance on CV data\n",
    "plt.scatter(Y_cv, lm.predict(X_cv))\n",
    "plt.xlabel(\"True Points\")\n",
    "plt.ylabel(\"Predicted Points\")\n",
    "\n",
    "\n",
    "#Calculate mean squared error\n",
    "mse = np.mean((Y_cv - lm.predict(X_cv)) **2)\n",
    "print 'RMSE:', np.sqrt(mse)\n",
    "print 'Mean Absolute Error: ', np.mean((Y_cv - lm.predict(X_cv)))\n",
    "print 'Mean Relative Error: ', np.mean((Y_cv - lm.predict(X_cv))/(lm.predict(X_cv)))\n",
    "print 'Average Points:', np.mean(Y_cv)\n",
    "print 'Correlation: ', pearsonr(Y_cv,lm.predict(X_cv))"
   ]
  },
  {
   "cell_type": "markdown",
   "metadata": {},
   "source": [
    "# Try Support Vector Regression"
   ]
  },
  {
   "cell_type": "code",
   "execution_count": 39,
   "metadata": {
    "collapsed": false
   },
   "outputs": [
    {
     "name": "stdout",
     "output_type": "stream",
     "text": [
      "[LibSVM]MSE: 10.1639442475\n",
      "Average Yardage: 16.8506323185\n",
      "Correlation:  (0.44965893384335132, 9.7762022028963687e-44)\n"
     ]
    },
    {
     "data": {
      "image/png": "[encoded data removed]",
      "text/plain": [
       "<matplotlib.figure.Figure at 0x121819810>"
      ]
     },
     "metadata": {},
     "output_type": "display_data"
    }
   ],
   "source": [
    "from sklearn.svm import SVR\n",
    "svr_rbf = SVR(kernel='rbf', C=1e3, gamma=0.1)\n",
    "svr_lin = SVR(kernel='linear', C=1e3)\n",
    "svr_poly = SVR(kernel='poly', C=1e3, degree=2)\n",
    "from sklearn import svm\n",
    "\n",
    "\n",
    "lm=SVR(kernel='rbf', degree=2, gamma='auto', \\\n",
    "       coef0=0, tol=0.1, C=0.1, epsilon=0.1,\\\n",
    "       shrinking=True, cache_size=200, verbose=True, max_iter=-1)\n",
    "\n",
    "lm.fit(X_train,Y_train)\n",
    "\n",
    "\n",
    "#Check performance on CV data\n",
    "plt.scatter(Y_cv, lm.predict(X_cv))\n",
    "plt.xlabel(\"True Receiving Yards\")\n",
    "plt.ylabel(\"Predicted Reveiving Yards\")\n",
    "\n",
    "\n",
    "#Calculate mean squared error\n",
    "mse = np.mean((Y_cv - lm.predict(X_cv)) **2)\n",
    "print 'MSE:', np.sqrt(mse)\n",
    "print 'Average Yardage:', np.mean(Y_cv)\n",
    "print 'Correlation: ', pearsonr(Y_cv,lm.predict(X_cv))\n"
   ]
  },
  {
   "cell_type": "markdown",
   "metadata": {},
   "source": [
    "# Try Bayesian Ridge Regression"
   ]
  },
  {
   "cell_type": "code",
   "execution_count": 40,
   "metadata": {
    "collapsed": false
   },
   "outputs": [
    {
     "name": "stdout",
     "output_type": "stream",
     "text": [
      "Convergence after  11  iterations\n",
      "MSE: 9.45573540664\n",
      "Average Yardage: 16.8506323185\n",
      "Correlation:  (0.48963005538192761, 1.0853882518321414e-52)\n"
     ]
    },
    {
     "data": {
      "image/png": "[encoded data removed]",
      "text/plain": [
       "<matplotlib.figure.Figure at 0x12171d310>"
      ]
     },
     "metadata": {},
     "output_type": "display_data"
    }
   ],
   "source": [
    "from sklearn.linear_model import BayesianRidge\n",
    "\n",
    "lm = BayesianRidge(n_iter=500, tol=0.0001, alpha_1=1e-10, \\\n",
    "                    alpha_2=1e-12, lambda_1=1e-06, lambda_2=1e-06,\\\n",
    "                    compute_score=False, fit_intercept=True, normalize=False,\\\n",
    "                    copy_X=True, verbose=True)\n",
    "\n",
    "lm.fit(X_train,Y_train)\n",
    "\n",
    "#Check performance on CV data\n",
    "plt.scatter(Y_cv, lm.predict(X_cv))\n",
    "plt.xlabel(\"True Receiving Yards\")\n",
    "plt.ylabel(\"Predicted Reveiving Yards\")\n",
    "\n",
    "#Calculate mean squared error\n",
    "mse = np.mean((Y_cv - lm.predict(X_cv)) **2)\n",
    "print 'MSE:', np.sqrt(mse)\n",
    "print 'Average Yardage:', np.mean(Y_cv)\n",
    "print 'Correlation: ', pearsonr(Y_cv,lm.predict(X_cv))\n"
   ]
  },
  {
   "cell_type": "markdown",
   "metadata": {},
   "source": [
    "# Try Elastic Net"
   ]
  },
  {
   "cell_type": "code",
   "execution_count": 41,
   "metadata": {
    "collapsed": false
   },
   "outputs": [
    {
     "name": "stdout",
     "output_type": "stream",
     "text": [
      "MSE: 10.6213466863\n",
      "Average Yardage: 16.8506323185\n",
      "Correlation:  (0.46215907109132315, 2.0710826847940063e-46)\n"
     ]
    },
    {
     "data": {
      "image/png": "[encoded data removed]",
      "text/plain": [
       "<matplotlib.figure.Figure at 0x121821190>"
      ]
     },
     "metadata": {},
     "output_type": "display_data"
    }
   ],
   "source": [
    "from sklearn.linear_model import ElasticNet\n",
    "\n",
    "lm = ElasticNet(alpha=1.0, l1_ratio=0.5, fit_intercept=True, \\\n",
    "                normalize=False, precompute=False, max_iter=10000,\\\n",
    "                copy_X=True, tol=0.001, warm_start=False, positive=False,\\\n",
    "                random_state=None, selection='cyclic')\n",
    "\n",
    "lm.fit(X_train,Y_train)\n",
    "\n",
    "#Check performance on CV data\n",
    "plt.scatter(Y_cv, lm.predict(X_cv))\n",
    "plt.xlabel(\"True Receiving Yards\")\n",
    "plt.ylabel(\"Predicted Reveiving Yards\")\n",
    "\n",
    "\n",
    "#Calculate mean squared error\n",
    "mse = np.mean((Y_cv - lm.predict(X_cv)) **2)\n",
    "print 'MSE:', np.sqrt(mse)\n",
    "print 'Average Yardage:', np.mean(Y_cv)\n",
    "print 'Correlation: ', pearsonr(Y_cv,lm.predict(X_cv))\n",
    "\n"
   ]
  },
  {
   "cell_type": "code",
   "execution_count": null,
   "metadata": {
    "collapsed": true
   },
   "outputs": [],
   "source": []
  }
 ],
 "metadata": {
  "anaconda-cloud": {},
  "kernelspec": {
   "display_name": "Python [py27]",
   "language": "python",
   "name": "Python [py27]"
  },
  "language_info": {
   "codemirror_mode": {
    "name": "ipython",
    "version": 2
   },
   "file_extension": ".py",
   "mimetype": "text/x-python",
   "name": "python",
   "nbconvert_exporter": "python",
   "pygments_lexer": "ipython2",
   "version": "2.7.12"
  }
 },
 "nbformat": 4,
 "nbformat_minor": 0
}
