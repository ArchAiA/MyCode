{
 "cells": [
  {
   "cell_type": "markdown",
   "metadata": {
    "nbpresent": {
     "id": "6200e0dd-d92f-490b-9a07-9e4ee051a254"
    }
   },
   "source": [
    "# Load and Clean the data"
   ]
  },
  {
   "cell_type": "code",
   "execution_count": 1,
   "metadata": {
    "collapsed": false,
    "nbpresent": {
     "id": "a15ead67-3ed7-49df-b042-40f9cec78337"
    }
   },
   "outputs": [
    {
     "name": "stderr",
     "output_type": "stream",
     "text": [
      "/Users/richardknoche/anaconda/envs/py27/lib/python2.7/site-packages/matplotlib/__init__.py:1035: UserWarning: Duplicate key in file \"/Users/richardknoche/.matplotlib/matplotlibrc\", line #2\n",
      "  (fname, cnt))\n"
     ]
    }
   ],
   "source": [
    "import numpy as np\n",
    "import pandas as pd\n",
    "import collections\n",
    "import matplotlib.pyplot as plt\n",
    "import matplotlib\n",
    "%matplotlib inline\n",
    "import numpy as np\n",
    "from scipy.stats.stats import pearsonr \n",
    "import math\n",
    "\n",
    "pos=\"QB\"\n",
    "\n",
    "plt.rcParams['figure.figsize'] = (20.0, 16.0)\n",
    "\n",
    "\n",
    "gameStats = pd.read_csv('gameStats_withFeats_v2.csv')\n",
    "gameStats.drop('Unnamed: 0', axis=1, inplace=True)\n"
   ]
  },
  {
   "cell_type": "markdown",
   "metadata": {
    "nbpresent": {
     "id": "2b62d22d-872b-42a9-b9c9-622e417bfb3a"
    }
   },
   "source": [
    "Next, lets remove the first two years of football data (since the averages will be bad) and extract all of the players of this position."
   ]
  },
  {
   "cell_type": "code",
   "execution_count": 2,
   "metadata": {
    "collapsed": false,
    "nbpresent": {
     "id": "b99982b5-d885-4adc-98c2-09bcb10820f6"
    }
   },
   "outputs": [],
   "source": [
    "POSsamples=gameStats[(gameStats['Inferred Position']==pos) & \\\n",
    "                   (gameStats['Week']>34) & (gameStats['NoStats']==False) & \\\n",
    "                   (gameStats['Player Benched']==False)].reset_index(drop=True)"
   ]
  },
  {
   "cell_type": "markdown",
   "metadata": {
    "nbpresent": {
     "id": "80237dc5-a806-4516-a697-2e6537120e49"
    }
   },
   "source": [
    "Next, remove any samples with NaN features"
   ]
  },
  {
   "cell_type": "code",
   "execution_count": 3,
   "metadata": {
    "collapsed": false,
    "nbpresent": {
     "id": "9f54d1c4-dfaf-4316-a86b-114b48b2463a"
    }
   },
   "outputs": [],
   "source": [
    "#If we have 8 weeks to average over, then we also have 34 and 17 weeks to average over\n",
    "#Note: it may not be a full 8,17,or 34 weeks if a lot of games are missing... not sure the best way to deal with that\n",
    "POSsamples=POSsamples[POSsamples['passing_yds_8weekAvg'].apply(lambda x: not math.isnan(x))]"
   ]
  },
  {
   "cell_type": "code",
   "execution_count": 4,
   "metadata": {
    "collapsed": false,
    "nbpresent": {
     "id": "7028b815-7266-462c-9d6e-e6d3df5d3a99"
    }
   },
   "outputs": [
    {
     "data": {
      "text/plain": [
       "2761"
      ]
     },
     "execution_count": 4,
     "metadata": {},
     "output_type": "execute_result"
    }
   ],
   "source": [
    "len(POSsamples)"
   ]
  },
  {
   "cell_type": "markdown",
   "metadata": {
    "nbpresent": {
     "id": "725e25a7-934e-43b4-8c2f-f4089171b13c"
    }
   },
   "source": [
    "# Look at feature correlations\n",
    "\n",
    "Let's loop over each player's, team's, and opponents stats and see which are coorelated with the final outcome"
   ]
  },
  {
   "cell_type": "code",
   "execution_count": 5,
   "metadata": {
    "collapsed": false,
    "nbpresent": {
     "id": "1226d0e9-51e4-48f9-890e-56433db1774e"
    }
   },
   "outputs": [
    {
     "name": "stdout",
     "output_type": "stream",
     "text": [
      "PriorSeasonPoints Correlation: 0.322642024212\n",
      "TwoPriorSeasonPoints Correlation: 0.274644097169\n",
      "passing_yds_8weekAvg Correlation: 0.3844906107\n",
      "passing_tds_8weekAvg Correlation: 0.379530992547\n",
      "passing_att_8weekAvg Correlation: 0.333324741134\n",
      "passing_cmp_8weekAvg Correlation: 0.364105316825\n",
      "passing_incmp_8weekAvg Correlation: 0.230890712088\n",
      "passing_cmp_air_yds_8weekAvg Correlation: 0.357229215239\n",
      "FantasyPoints_8weekAvg Correlation: 0.422635391474\n",
      "passing_yds_17weekAvg Correlation: 0.395522611642\n",
      "passing_tds_17weekAvg Correlation: 0.402798673647\n",
      "passing_att_17weekAvg Correlation: 0.341833502256\n",
      "passing_cmp_17weekAvg Correlation: 0.377514558649\n",
      "passing_incmp_17weekAvg Correlation: 0.233596514527\n",
      "passing_cmp_air_yds_17weekAvg Correlation: 0.376638665948\n",
      "FantasyPoints_17weekAvg Correlation: 0.438845848479\n",
      "passing_yds_34weekAvg Correlation: 0.382078472188\n",
      "passing_tds_34weekAvg Correlation: 0.393006835092\n",
      "passing_att_34weekAvg Correlation: 0.33087207937\n",
      "passing_cmp_34weekAvg Correlation: 0.366324856607\n",
      "passing_incmp_34weekAvg Correlation: 0.225481346648\n",
      "passing_cmp_air_yds_34weekAvg Correlation: 0.367712941905\n",
      "FantasyPoints_34weekAvg Correlation: 0.423752586422\n",
      "team_passing_yds_8weekAvg Correlation: 0.210975023983\n",
      "team_passing_tds_8weekAvg Correlation: 0.229858761912\n",
      "team_receiving_yds_8weekAvg Correlation: 0.210970202892\n",
      "team_receiving_tds_8weekAvg Correlation: 0.229858761912\n",
      "team_kicking_xpa_8weekAvg Correlation: 0.222875074651\n",
      "team_kicking_xpmade_8weekAvg Correlation: 0.218266614891\n",
      "team_FantasyPoints_8weekAvg Correlation: 0.252126374453\n",
      "team_passing_yds_17weekAvg Correlation: 0.219008160502\n",
      "team_passing_tds_17weekAvg Correlation: 0.233219051002\n",
      "team_receiving_yds_17weekAvg Correlation: 0.218882429786\n",
      "team_receiving_tds_17weekAvg Correlation: 0.233219051002\n",
      "team_kicking_xpa_17weekAvg Correlation: 0.213118386152\n",
      "team_kicking_xpmade_17weekAvg Correlation: 0.209893299096\n",
      "team_FantasyPoints_17weekAvg Correlation: 0.252100718618\n",
      "team_passing_yds_34weekAvg Correlation: 0.200870476537\n",
      "team_passing_tds_34weekAvg Correlation: 0.20722208994\n",
      "team_receiving_yds_34weekAvg Correlation: 0.200861804303\n",
      "team_receiving_tds_34weekAvg Correlation: 0.20722208994\n",
      "team_FantasyPoints_34weekAvg Correlation: 0.219139528588\n"
     ]
    }
   ],
   "source": [
    "all_features=['Week','At Home'] + list(POSsamples.columns[74:]) #Don't bother with more than 1 year averages\n",
    "\n",
    "def CalcCorrPoints():\n",
    "    #Look at Week, Team, At Home, passing_yds:\n",
    "    useful_features=[]\n",
    "    for stat in all_features:\n",
    "        x_stats =  POSsamples[stat] \n",
    "        y_stats =  POSsamples['FantasyPoints'] \n",
    "        if abs(pearsonr(x_stats, y_stats)[0]) > 0.2:\n",
    "            print stat, \"Correlation:\", pearsonr(x_stats, y_stats)[0]\n",
    "            useful_features.append(stat)\n",
    "            \n",
    "    return useful_features\n",
    "\n",
    "useful_features = CalcCorrPoints()"
   ]
  },
  {
   "cell_type": "code",
   "execution_count": 6,
   "metadata": {
    "collapsed": false,
    "nbpresent": {
     "id": "58564d4a-bc4e-4c76-88a9-5b163fabe340"
    }
   },
   "outputs": [
    {
     "data": {
      "text/plain": [
       "['PriorSeasonPoints',\n",
       " 'passing_yds_8weekAvg',\n",
       " 'passing_tds_8weekAvg',\n",
       " 'passing_att_8weekAvg',\n",
       " 'passing_cmp_8weekAvg',\n",
       " 'passing_incmp_8weekAvg',\n",
       " 'passing_cmp_air_yds_8weekAvg',\n",
       " 'FantasyPoints_8weekAvg',\n",
       " 'passing_yds_17weekAvg',\n",
       " 'passing_tds_17weekAvg',\n",
       " 'passing_att_17weekAvg',\n",
       " 'passing_cmp_17weekAvg',\n",
       " 'passing_incmp_17weekAvg',\n",
       " 'passing_cmp_air_yds_17weekAvg',\n",
       " 'FantasyPoints_17weekAvg']"
      ]
     },
     "execution_count": 6,
     "metadata": {},
     "output_type": "execute_result"
    }
   ],
   "source": [
    "#Remove features from two+ years ago\n",
    "unwanted_features = ['TwoPriorSeasonPoints']\n",
    "unwanted_types = ['team','opponent']\n",
    "\n",
    "final_features = []\n",
    "for feat in useful_features:\n",
    "    \n",
    "    #remove TwoPriorSeasonPoints as a feature\n",
    "    if feat not in unwanted_features:\n",
    "        \n",
    "        #remove team and opponent stats as features\n",
    "        if feat.split('_')[0] not in unwanted_types:\n",
    "\n",
    "            #remove team and opponent stats as features\n",
    "            if feat.split('_')[-1][:2] != '34':\n",
    "                final_features.append(feat)        \n",
    "        \n",
    "final_features                       "
   ]
  },
  {
   "cell_type": "markdown",
   "metadata": {
    "nbpresent": {
     "id": "b9f9bff0-ab52-40b9-a654-d4a3a8eaf3ac"
    }
   },
   "source": [
    "# Training a prediction model \n",
    "\n",
    "Before we begin, lets remove any zero fantasy point games from out data, since it's likely the player was injured or benched during that game.  We don't want to take that into account in our model.\n"
   ]
  },
  {
   "cell_type": "code",
   "execution_count": 7,
   "metadata": {
    "collapsed": false
   },
   "outputs": [],
   "source": [
    "POSsamples=POSsamples[POSsamples['FantasyPoints']!=0]"
   ]
  },
  {
   "cell_type": "markdown",
   "metadata": {},
   "source": [
    "\n",
    "First, we need to split our sample into training, CV, and testing sets.  Let's randomly order our dataframe, using the same seed so that we get the same order every time we run this code."
   ]
  },
  {
   "cell_type": "code",
   "execution_count": 8,
   "metadata": {
    "collapsed": true,
    "nbpresent": {
     "id": "461d7cdf-1890-4f8e-b709-a5acdd1ba9cb"
    }
   },
   "outputs": [],
   "source": [
    "#First, set aside one of the seasons evaluate how well we predict an entire season of games\n",
    "POSsamples_2014=POSsamples[POSsamples['Season']==6]\n",
    "POSsamples_2014=POSsamples_2014[POSsamples_2014['Player']!='Josh Gordon'] #delete josh gordon since he was suspended\n",
    "POSsamples=POSsamples[POSsamples['Season']!=6]"
   ]
  },
  {
   "cell_type": "code",
   "execution_count": 9,
   "metadata": {
    "collapsed": true,
    "nbpresent": {
     "id": "412b4618-79cf-406a-a971-da97f1c9d572"
    }
   },
   "outputs": [],
   "source": [
    "np.random.seed(42)\n",
    "POSsamples=POSsamples.reindex(np.random.permutation(POSsamples.index))\n",
    "POSsamples.reset_index(inplace=True)"
   ]
  },
  {
   "cell_type": "markdown",
   "metadata": {
    "nbpresent": {
     "id": "a8651bd2-efd4-4c5e-9632-016be24d69b8"
    }
   },
   "source": [
    "Now lets put half of the samples in training, a quarter in CV, and a quarter in test."
   ]
  },
  {
   "cell_type": "code",
   "execution_count": 10,
   "metadata": {
    "collapsed": true,
    "nbpresent": {
     "id": "55994da5-9928-4664-9816-6b3562cd240b"
    }
   },
   "outputs": [],
   "source": [
    "POS_training = POSsamples.ix[:round(len(POSsamples)/2)]\n",
    "POS_cv = POSsamples.ix[round(len(POSsamples)/2): round(len(POSsamples)/2) + round(len(POSsamples)/4)]\n",
    "POS_test = POSsamples.ix[round(len(POSsamples)/2) + round(len(POSsamples)/4):]"
   ]
  },
  {
   "cell_type": "code",
   "execution_count": 11,
   "metadata": {
    "collapsed": false,
    "nbpresent": {
     "id": "0d3b6571-8fed-4d4f-b784-394f7f9383ff"
    }
   },
   "outputs": [],
   "source": [
    "X_train = POS_training[final_features]\n",
    "X_cv = POS_cv[final_features]\n",
    "X_test = POS_test[final_features]"
   ]
  },
  {
   "cell_type": "code",
   "execution_count": 12,
   "metadata": {
    "collapsed": true
   },
   "outputs": [],
   "source": [
    "#Feature Scaling\n",
    "def getFeatMinMax():\n",
    "    featMinMax={}\n",
    "    \n",
    "    #player feats\n",
    "    for feat in final_features:\n",
    "        max_feat = max(POS_training[feat])\n",
    "        min_feat = min(POS_training[feat])\n",
    "        featMinMax[feat]= [min_feat,max_feat]\n",
    "        \n",
    "    return featMinMax\n",
    "\n",
    "featMinMax=getFeatMinMax()"
   ]
  },
  {
   "cell_type": "code",
   "execution_count": 13,
   "metadata": {
    "collapsed": false
   },
   "outputs": [],
   "source": [
    "#Save the features\n",
    "import cPickle\n",
    "cPickle.dump(final_features, open('%s_feature_list.pickle' % pos, 'wb')) \n",
    "\n",
    "\n",
    "#Save the feature scaling info\n",
    "import cPickle\n",
    "cPickle.dump(featMinMax, open('%s_feature_minmax.pickle' % pos, 'wb')) \n"
   ]
  },
  {
   "cell_type": "code",
   "execution_count": 14,
   "metadata": {
    "collapsed": false,
    "nbpresent": {
     "id": "f8fc6ccd-19e3-41b3-88c6-5c57166e0118"
    }
   },
   "outputs": [
    {
     "name": "stderr",
     "output_type": "stream",
     "text": [
      "/Users/richardknoche/anaconda/envs/py27/lib/python2.7/site-packages/ipykernel/__main__.py:7: SettingWithCopyWarning: \n",
      "A value is trying to be set on a copy of a slice from a DataFrame.\n",
      "Try using .loc[row_indexer,col_indexer] = value instead\n",
      "\n",
      "See the caveats in the documentation: http://pandas.pydata.org/pandas-docs/stable/indexing.html#indexing-view-versus-copy\n"
     ]
    },
    {
     "data": {
      "text/html": [
       "<div>\n",
       "<table border=\"1\" class=\"dataframe\">\n",
       "  <thead>\n",
       "    <tr style=\"text-align: right;\">\n",
       "      <th></th>\n",
       "      <th>PriorSeasonPoints</th>\n",
       "      <th>passing_yds_8weekAvg</th>\n",
       "      <th>passing_tds_8weekAvg</th>\n",
       "      <th>passing_att_8weekAvg</th>\n",
       "      <th>passing_cmp_8weekAvg</th>\n",
       "      <th>passing_incmp_8weekAvg</th>\n",
       "      <th>passing_cmp_air_yds_8weekAvg</th>\n",
       "      <th>FantasyPoints_8weekAvg</th>\n",
       "      <th>passing_yds_17weekAvg</th>\n",
       "      <th>passing_tds_17weekAvg</th>\n",
       "      <th>passing_att_17weekAvg</th>\n",
       "      <th>passing_cmp_17weekAvg</th>\n",
       "      <th>passing_incmp_17weekAvg</th>\n",
       "      <th>passing_cmp_air_yds_17weekAvg</th>\n",
       "      <th>FantasyPoints_17weekAvg</th>\n",
       "    </tr>\n",
       "  </thead>\n",
       "  <tbody>\n",
       "    <tr>\n",
       "      <th>0</th>\n",
       "      <td>0.912976</td>\n",
       "      <td>0.728044</td>\n",
       "      <td>0.437500</td>\n",
       "      <td>0.850394</td>\n",
       "      <td>0.842890</td>\n",
       "      <td>0.619565</td>\n",
       "      <td>0.698397</td>\n",
       "      <td>0.710557</td>\n",
       "      <td>0.720287</td>\n",
       "      <td>0.515625</td>\n",
       "      <td>0.829301</td>\n",
       "      <td>0.840671</td>\n",
       "      <td>0.586957</td>\n",
       "      <td>0.651052</td>\n",
       "      <td>0.800272</td>\n",
       "    </tr>\n",
       "    <tr>\n",
       "      <th>1</th>\n",
       "      <td>0.317498</td>\n",
       "      <td>0.395394</td>\n",
       "      <td>0.291667</td>\n",
       "      <td>0.545932</td>\n",
       "      <td>0.487003</td>\n",
       "      <td>0.471014</td>\n",
       "      <td>0.446894</td>\n",
       "      <td>0.478794</td>\n",
       "      <td>0.450500</td>\n",
       "      <td>0.272727</td>\n",
       "      <td>0.623656</td>\n",
       "      <td>0.545836</td>\n",
       "      <td>0.553360</td>\n",
       "      <td>0.514666</td>\n",
       "      <td>0.522259</td>\n",
       "    </tr>\n",
       "    <tr>\n",
       "      <th>2</th>\n",
       "      <td>0.007578</td>\n",
       "      <td>0.240281</td>\n",
       "      <td>0.150000</td>\n",
       "      <td>0.230971</td>\n",
       "      <td>0.205505</td>\n",
       "      <td>0.200000</td>\n",
       "      <td>0.201603</td>\n",
       "      <td>0.202972</td>\n",
       "      <td>0.240281</td>\n",
       "      <td>0.150000</td>\n",
       "      <td>0.236559</td>\n",
       "      <td>0.214675</td>\n",
       "      <td>0.200000</td>\n",
       "      <td>0.201603</td>\n",
       "      <td>0.218650</td>\n",
       "    </tr>\n",
       "    <tr>\n",
       "      <th>3</th>\n",
       "      <td>0.683846</td>\n",
       "      <td>0.757109</td>\n",
       "      <td>0.357143</td>\n",
       "      <td>0.845894</td>\n",
       "      <td>0.880734</td>\n",
       "      <td>0.559006</td>\n",
       "      <td>0.718294</td>\n",
       "      <td>0.539406</td>\n",
       "      <td>0.690135</td>\n",
       "      <td>0.500000</td>\n",
       "      <td>0.807796</td>\n",
       "      <td>0.828092</td>\n",
       "      <td>0.559783</td>\n",
       "      <td>0.707415</td>\n",
       "      <td>0.709025</td>\n",
       "    </tr>\n",
       "    <tr>\n",
       "      <th>4</th>\n",
       "      <td>0.554166</td>\n",
       "      <td>0.627969</td>\n",
       "      <td>0.428571</td>\n",
       "      <td>0.728909</td>\n",
       "      <td>0.747706</td>\n",
       "      <td>0.496894</td>\n",
       "      <td>0.588892</td>\n",
       "      <td>0.528907</td>\n",
       "      <td>0.581421</td>\n",
       "      <td>0.333333</td>\n",
       "      <td>0.732616</td>\n",
       "      <td>0.724528</td>\n",
       "      <td>0.542029</td>\n",
       "      <td>0.585838</td>\n",
       "      <td>0.496873</td>\n",
       "    </tr>\n",
       "  </tbody>\n",
       "</table>\n",
       "</div>"
      ],
      "text/plain": [
       "   PriorSeasonPoints  passing_yds_8weekAvg  passing_tds_8weekAvg  \\\n",
       "0           0.912976              0.728044              0.437500   \n",
       "1           0.317498              0.395394              0.291667   \n",
       "2           0.007578              0.240281              0.150000   \n",
       "3           0.683846              0.757109              0.357143   \n",
       "4           0.554166              0.627969              0.428571   \n",
       "\n",
       "   passing_att_8weekAvg  passing_cmp_8weekAvg  passing_incmp_8weekAvg  \\\n",
       "0              0.850394              0.842890                0.619565   \n",
       "1              0.545932              0.487003                0.471014   \n",
       "2              0.230971              0.205505                0.200000   \n",
       "3              0.845894              0.880734                0.559006   \n",
       "4              0.728909              0.747706                0.496894   \n",
       "\n",
       "   passing_cmp_air_yds_8weekAvg  FantasyPoints_8weekAvg  \\\n",
       "0                      0.698397                0.710557   \n",
       "1                      0.446894                0.478794   \n",
       "2                      0.201603                0.202972   \n",
       "3                      0.718294                0.539406   \n",
       "4                      0.588892                0.528907   \n",
       "\n",
       "   passing_yds_17weekAvg  passing_tds_17weekAvg  passing_att_17weekAvg  \\\n",
       "0               0.720287               0.515625               0.829301   \n",
       "1               0.450500               0.272727               0.623656   \n",
       "2               0.240281               0.150000               0.236559   \n",
       "3               0.690135               0.500000               0.807796   \n",
       "4               0.581421               0.333333               0.732616   \n",
       "\n",
       "   passing_cmp_17weekAvg  passing_incmp_17weekAvg  \\\n",
       "0               0.840671                 0.586957   \n",
       "1               0.545836                 0.553360   \n",
       "2               0.214675                 0.200000   \n",
       "3               0.828092                 0.559783   \n",
       "4               0.724528                 0.542029   \n",
       "\n",
       "   passing_cmp_air_yds_17weekAvg  FantasyPoints_17weekAvg  \n",
       "0                       0.651052                 0.800272  \n",
       "1                       0.514666                 0.522259  \n",
       "2                       0.201603                 0.218650  \n",
       "3                       0.707415                 0.709025  \n",
       "4                       0.585838                 0.496873  "
      ]
     },
     "execution_count": 14,
     "metadata": {},
     "output_type": "execute_result"
    }
   ],
   "source": [
    "#Feature Scaling\n",
    "def scaleFeat(featFrame):\n",
    "    \n",
    "    #player feats\n",
    "    for feat in final_features:\n",
    "        min_feat, max_feat = featMinMax[feat]\n",
    "        featFrame[feat]= (featFrame[feat] - min_feat)/(max_feat-min_feat)\n",
    "        \n",
    "    return featFrame\n",
    "\n",
    "scaleFeat(X_train)\n",
    "scaleFeat(X_cv)\n",
    "scaleFeat(X_test)\n",
    "X_train.head()"
   ]
  },
  {
   "cell_type": "code",
   "execution_count": 15,
   "metadata": {
    "collapsed": true,
    "nbpresent": {
     "id": "050af3cd-d73e-4428-bb1b-01a797e40e40"
    }
   },
   "outputs": [],
   "source": [
    "Y_train=POS_training['FantasyPoints']\n",
    "Y_cv=POS_cv['FantasyPoints']\n",
    "Y_test=POS_test['FantasyPoints']"
   ]
  },
  {
   "cell_type": "code",
   "execution_count": 16,
   "metadata": {
    "collapsed": false,
    "nbpresent": {
     "id": "08df7406-352a-44d0-83dd-ee7d1f9e3b21"
    }
   },
   "outputs": [
    {
     "name": "stdout",
     "output_type": "stream",
     "text": [
      "[LibSVM]RMSE: 8.95639208665\n",
      "Mean Absolute Error:  0.272635902437\n",
      "Mean Relative Error:  0.0102759476354\n",
      "Average Points: 17.2866179159\n",
      "Correlation:  0.484043965486\n"
     ]
    },
    {
     "data": {
      "image/png": "[encoded data removed]",
      "text/plain": [
       "<matplotlib.figure.Figure at 0x13089ba90>"
      ]
     },
     "metadata": {},
     "output_type": "display_data"
    }
   ],
   "source": [
    "from sklearn.svm import SVR\n",
    "\n",
    "from sklearn import svm\n",
    "from sklearn.datasets import load_boston\n",
    "from sklearn.linear_model import LinearRegression\n",
    "\n",
    "#SVM works better on CV \n",
    "#lm = LinearRegression(fit_intercept=False, normalize=False, copy_X=True, n_jobs=-1)\n",
    "#lm.fit(X_train,Y_train)\n",
    "\n",
    "lm=SVR(kernel='rbf', degree=1, gamma='auto', \\\n",
    "       coef0=1, tol=0.1, C=4.5, epsilon=1,\\\n",
    "       shrinking=True, cache_size=200, verbose=True, max_iter=-1)\n",
    "\n",
    "lm.fit(X_train,Y_train)\n",
    "\n",
    "\n",
    "#Check performance on CV data\n",
    "plt.scatter(Y_cv, lm.predict(X_cv))\n",
    "plt.xlabel(\"True Fantasy Points\")\n",
    "plt.ylabel(\"Predicted Fantasy Points\")\n",
    "\n",
    "\n",
    "#Calculate mean squared error\n",
    "mse = np.mean((Y_cv - lm.predict(X_cv)) **2)\n",
    "print 'RMSE:', np.sqrt(mse)\n",
    "print 'Mean Absolute Error: ', np.mean((Y_cv - lm.predict(X_cv)))\n",
    "print 'Mean Relative Error: ', np.mean((Y_cv - lm.predict(X_cv))/(lm.predict(X_cv)))\n",
    "print 'Average Points:', np.mean(Y_cv)\n",
    "print 'Correlation: ', pearsonr(Y_cv,lm.predict(X_cv))[0]"
   ]
  },
  {
   "cell_type": "markdown",
   "metadata": {},
   "source": [
    "# Save the Classifier \n"
   ]
  },
  {
   "cell_type": "code",
   "execution_count": 17,
   "metadata": {
    "collapsed": false
   },
   "outputs": [
    {
     "data": {
      "text/plain": [
       "['QB_predictor.pickle']"
      ]
     },
     "execution_count": 17,
     "metadata": {},
     "output_type": "execute_result"
    }
   ],
   "source": [
    "#Save the classifier\n",
    "from sklearn.externals import joblib\n",
    "joblib.dump(lm, '%s_predictor.pickle' % pos) \n"
   ]
  },
  {
   "cell_type": "markdown",
   "metadata": {
    "nbpresent": {
     "id": "89b6e688-948e-4433-bae9-cba059abceec"
    }
   },
   "source": [
    "# Evaluate performance on random test set"
   ]
  },
  {
   "cell_type": "code",
   "execution_count": 18,
   "metadata": {
    "collapsed": false
   },
   "outputs": [
    {
     "name": "stdout",
     "output_type": "stream",
     "text": [
      "RMSE: 9.28950004888\n",
      "Mean Absolute Error:  0.0794073369946\n",
      "Mean Relative Error:  0.0351123109814\n",
      "Average Points: 16.8693235832\n",
      "Correlation:  0.384715833798\n"
     ]
    },
    {
     "data": {
      "image/png": "[encoded data removed]",
      "text/plain": [
       "<matplotlib.figure.Figure at 0x1257beb10>"
      ]
     },
     "metadata": {},
     "output_type": "display_data"
    }
   ],
   "source": [
    "#Check performance on CV data\n",
    "plt.scatter(Y_test, lm.predict(X_test))\n",
    "plt.xlabel(\"True Fantasy Points\")\n",
    "plt.ylabel(\"Predicted Fantasy Points\")\n",
    "\n",
    "\n",
    "#Calculate mean squared error\n",
    "mse = np.mean((Y_test - lm.predict(X_test)) **2)\n",
    "print 'RMSE:', np.sqrt(mse)\n",
    "print 'Mean Absolute Error: ', np.mean((Y_test - lm.predict(X_test)))\n",
    "print 'Mean Relative Error: ', np.mean((Y_test - lm.predict(X_test))/(lm.predict(X_test)))\n",
    "print 'Average Points:', np.mean(Y_test)\n",
    "print 'Correlation: ', pearsonr(Y_test,lm.predict(X_test))[0]"
   ]
  },
  {
   "cell_type": "markdown",
   "metadata": {
    "nbpresent": {
     "id": "dc092847-a3f4-4b63-b47b-d03e5c32c78e"
    }
   },
   "source": [
    "# Performance in 2014, allowing predictor to update as season goes on"
   ]
  },
  {
   "cell_type": "code",
   "execution_count": 19,
   "metadata": {
    "collapsed": false,
    "nbpresent": {
     "id": "afe3a7c9-7ea3-48a6-8f52-6111d45a4dde"
    }
   },
   "outputs": [
    {
     "name": "stderr",
     "output_type": "stream",
     "text": [
      "/Users/richardknoche/anaconda/envs/py27/lib/python2.7/site-packages/ipykernel/__main__.py:7: SettingWithCopyWarning: \n",
      "A value is trying to be set on a copy of a slice from a DataFrame.\n",
      "Try using .loc[row_indexer,col_indexer] = value instead\n",
      "\n",
      "See the caveats in the documentation: http://pandas.pydata.org/pandas-docs/stable/indexing.html#indexing-view-versus-copy\n"
     ]
    }
   ],
   "source": [
    "features_2014 = POSsamples_2014[final_features]\n",
    "scaleFeat(features_2014)\n",
    "predictions_2014 = lm.predict(features_2014)\n",
    "results_2014=POSsamples_2014['FantasyPoints']"
   ]
  },
  {
   "cell_type": "code",
   "execution_count": 20,
   "metadata": {
    "collapsed": false,
    "nbpresent": {
     "id": "bf524dcc-18b5-40f2-86a4-5b60849c87b1"
    }
   },
   "outputs": [
    {
     "name": "stdout",
     "output_type": "stream",
     "text": [
      "RMSE: 9.52336891613\n",
      "Mean Absolute Error:  0.0935063499525\n",
      "Mean Relative Error:  0.0237139812739\n",
      "Average Points: 17.4613818182\n",
      "Correlation:  0.401742143053\n"
     ]
    },
    {
     "data": {
      "image/png": "[encoded data removed]",
      "text/plain": [
       "<matplotlib.figure.Figure at 0x130ffab90>"
      ]
     },
     "metadata": {},
     "output_type": "display_data"
    }
   ],
   "source": [
    "#Check performance on each prediction\n",
    "plt.scatter(results_2014,predictions_2014)\n",
    "plt.xlabel(\"True Fantasy Points\")\n",
    "plt.ylabel(\"Predicted Fantasy Points\")\n",
    "\n",
    "mse = np.mean((results_2014 - predictions_2014) **2)\n",
    "print 'RMSE:', np.sqrt(mse)\n",
    "print 'Mean Absolute Error: ', np.mean((results_2014 - predictions_2014))\n",
    "print 'Mean Relative Error: ', np.mean((results_2014 - predictions_2014)/(predictions_2014))\n",
    "print 'Average Points:', np.mean(results_2014)\n",
    "print 'Correlation: ', pearsonr(results_2014,predictions_2014)[0]"
   ]
  },
  {
   "cell_type": "code",
   "execution_count": 21,
   "metadata": {
    "collapsed": false,
    "nbpresent": {
     "id": "2b06d908-9cc3-471d-af8d-0d26d06aa24d"
    }
   },
   "outputs": [],
   "source": [
    "POSsamples_2014['PredictedFantasyPoints']=predictions_2014\n",
    "\n",
    "season_totals=POSsamples_2014.groupby('PlayerID').sum()['FantasyPoints'].tolist()\n",
    "predicted_season_totals=POSsamples_2014.groupby('PlayerID').sum()['PredictedFantasyPoints'].tolist()\n"
   ]
  },
  {
   "cell_type": "code",
   "execution_count": 22,
   "metadata": {
    "collapsed": false,
    "nbpresent": {
     "id": "7b3e6cbc-f5e6-4d9a-bc99-bf12bee82950"
    }
   },
   "outputs": [
    {
     "name": "stdout",
     "output_type": "stream",
     "text": [
      "RMSE: 26.870384994\n",
      "Mean Absolute Error:  0.829491814094\n",
      "Mean Relative Error:  -0.091979530064\n",
      "Average Points: 154.899354839\n",
      "Correlation:  0.982022221797\n"
     ]
    },
    {
     "data": {
      "image/png": "[encoded data removed]",
      "text/plain": [
       "<matplotlib.figure.Figure at 0x11839c310>"
      ]
     },
     "metadata": {},
     "output_type": "display_data"
    }
   ],
   "source": [
    "#Check performance on each prediction with predictions updating throughout the season\n",
    "plt.scatter(season_totals,predicted_season_totals)\n",
    "plt.xlabel(\"True Season Totals\")\n",
    "plt.ylabel(\"Predicted Season Totals\")\n",
    "\n",
    "season_totals=np.array(season_totals)\n",
    "predicted_season_totals=np.array(predicted_season_totals)\n",
    "mse = np.mean((season_totals - predicted_season_totals) **2)\n",
    "print 'RMSE:', np.sqrt(mse)\n",
    "print 'Mean Absolute Error: ', np.mean((season_totals - predicted_season_totals))\n",
    "print 'Mean Relative Error: ', np.mean((season_totals - predicted_season_totals)/(predicted_season_totals))\n",
    "print 'Average Points:', np.mean(season_totals)\n",
    "print 'Correlation: ', pearsonr(season_totals,predicted_season_totals)[0]"
   ]
  },
  {
   "cell_type": "code",
   "execution_count": 23,
   "metadata": {
    "collapsed": false,
    "nbpresent": {
     "id": "baafdd42-d6c2-40c6-a6fb-2239214e9e18"
    }
   },
   "outputs": [
    {
     "data": {
      "image/png": "[encoded data removed]",
      "text/plain": [
       "<matplotlib.figure.Figure at 0x130cf04d0>"
      ]
     },
     "metadata": {},
     "output_type": "display_data"
    }
   ],
   "source": [
    "#Plot histogram of prediction errors\n",
    "errors_2014 = season_totals-predicted_season_totals\n",
    "\n",
    "tarHist=np.hstack(errors_2014)\n",
    "plt.hist(tarHist, bins=range(-60,150,5))\n",
    "plt.xlabel('Actual - Predicted')\n",
    "plt.show()"
   ]
  },
  {
   "cell_type": "markdown",
   "metadata": {
    "nbpresent": {
     "id": "1b24cdb9-d0b4-4e1c-840f-e19c098f5110"
    }
   },
   "source": [
    "# Performance in 2014 test season"
   ]
  },
  {
   "cell_type": "code",
   "execution_count": 24,
   "metadata": {
    "collapsed": true,
    "nbpresent": {
     "id": "e5f099cd-6980-4174-aa9a-3fd1c9333f2e"
    }
   },
   "outputs": [],
   "source": [
    "#load stat database\n",
    "stat_db = pd.read_csv('gameStats_withFeats_v2.csv')\n",
    "stat_db.drop('Unnamed: 0', axis=1, inplace=True)\n",
    "\n",
    "\n",
    "aggregate_stats=['defense_int_tds','defense_misc_tds','defense_sk','defense_frec_tds',\\\n",
    "               'defense_frec_tds','defense_puntblk','defense_fgblk',\\\n",
    "               'defense_xpblk','defense_int','defense_frec','defense_safe',\\\n",
    "               'defense_ffum','defense_pass_def','defense_int_yds',\\\n",
    "               'defense_tkl_loss','defense_tkl_loss_yds']"
   ]
  },
  {
   "cell_type": "code",
   "execution_count": 25,
   "metadata": {
    "collapsed": false,
    "nbpresent": {
     "id": "20d8cea6-053c-4306-a06b-7e62f04b6a22"
    }
   },
   "outputs": [
    {
     "data": {
      "text/html": [
       "<div>\n",
       "<table border=\"1\" class=\"dataframe\">\n",
       "  <thead>\n",
       "    <tr style=\"text-align: right;\">\n",
       "      <th></th>\n",
       "      <th>PlayerID</th>\n",
       "    </tr>\n",
       "  </thead>\n",
       "  <tbody>\n",
       "    <tr>\n",
       "      <th>0</th>\n",
       "      <td>00-0021678</td>\n",
       "    </tr>\n",
       "    <tr>\n",
       "      <th>1</th>\n",
       "      <td>00-0027974</td>\n",
       "    </tr>\n",
       "    <tr>\n",
       "      <th>2</th>\n",
       "      <td>00-0023459</td>\n",
       "    </tr>\n",
       "    <tr>\n",
       "      <th>3</th>\n",
       "      <td>00-0029263</td>\n",
       "    </tr>\n",
       "    <tr>\n",
       "      <th>4</th>\n",
       "      <td>00-0026143</td>\n",
       "    </tr>\n",
       "  </tbody>\n",
       "</table>\n",
       "</div>"
      ],
      "text/plain": [
       "     PlayerID\n",
       "0  00-0021678\n",
       "1  00-0027974\n",
       "2  00-0023459\n",
       "3  00-0029263\n",
       "4  00-0026143"
      ]
     },
     "execution_count": 25,
     "metadata": {},
     "output_type": "execute_result"
    }
   ],
   "source": [
    "#SHOULD MAKE A DATAFRAME WITH AN ENTRY FOR EACH PLAYER, AND QUERY MY STATS DATABASE TO FILL IN EACH FEATURE\n",
    "df_2014 = pd.DataFrame()\n",
    "df_2014['PlayerID']=POSsamples_2014['PlayerID'].unique().tolist()\n",
    "df_2014.head(n=5)"
   ]
  },
  {
   "cell_type": "code",
   "execution_count": 26,
   "metadata": {
    "collapsed": false,
    "nbpresent": {
     "id": "f533cbe9-fa40-42c8-8e03-765a9d82b781"
    }
   },
   "outputs": [
    {
     "data": {
      "text/html": [
       "<div>\n",
       "<table border=\"1\" class=\"dataframe\">\n",
       "  <thead>\n",
       "    <tr style=\"text-align: right;\">\n",
       "      <th></th>\n",
       "      <th>PlayerID</th>\n",
       "      <th>Season</th>\n",
       "      <th>Week</th>\n",
       "      <th>Player</th>\n",
       "      <th>Team</th>\n",
       "    </tr>\n",
       "  </thead>\n",
       "  <tbody>\n",
       "    <tr>\n",
       "      <th>0</th>\n",
       "      <td>00-0021678</td>\n",
       "      <td>6</td>\n",
       "      <td>86</td>\n",
       "      <td>Tony Romo</td>\n",
       "      <td>DAL</td>\n",
       "    </tr>\n",
       "    <tr>\n",
       "      <th>1</th>\n",
       "      <td>00-0027974</td>\n",
       "      <td>6</td>\n",
       "      <td>86</td>\n",
       "      <td>Colin Kaepernick</td>\n",
       "      <td>SF</td>\n",
       "    </tr>\n",
       "    <tr>\n",
       "      <th>2</th>\n",
       "      <td>00-0023459</td>\n",
       "      <td>6</td>\n",
       "      <td>86</td>\n",
       "      <td>Aaron Rodgers</td>\n",
       "      <td>GB</td>\n",
       "    </tr>\n",
       "    <tr>\n",
       "      <th>3</th>\n",
       "      <td>00-0029263</td>\n",
       "      <td>6</td>\n",
       "      <td>86</td>\n",
       "      <td>Russell Wilson</td>\n",
       "      <td>SEA</td>\n",
       "    </tr>\n",
       "    <tr>\n",
       "      <th>4</th>\n",
       "      <td>00-0026143</td>\n",
       "      <td>6</td>\n",
       "      <td>86</td>\n",
       "      <td>Matt Ryan</td>\n",
       "      <td>ATL</td>\n",
       "    </tr>\n",
       "  </tbody>\n",
       "</table>\n",
       "</div>"
      ],
      "text/plain": [
       "     PlayerID  Season  Week            Player Team\n",
       "0  00-0021678       6    86         Tony Romo  DAL\n",
       "1  00-0027974       6    86  Colin Kaepernick   SF\n",
       "2  00-0023459       6    86     Aaron Rodgers   GB\n",
       "3  00-0029263       6    86    Russell Wilson  SEA\n",
       "4  00-0026143       6    86         Matt Ryan  ATL"
      ]
     },
     "execution_count": 26,
     "metadata": {},
     "output_type": "execute_result"
    }
   ],
   "source": [
    "'''All of this information should be collected from ESPN or something for 2016'''\n",
    "\n",
    "#Not sure how I'll get playerID from ESPN\n",
    "\n",
    "#Fill in season information - 2014 is season 6\n",
    "df_2014['Season']=6 \n",
    "\n",
    "#Fill in the week info following week 1 is first week in 2009\n",
    "df_2014['Week']=df_2014.apply(lambda row: (row['Season']-1)*17  + 1 ,axis=1)\n",
    "\n",
    "#Fill in player names\n",
    "def FillPlayers(row):\n",
    "    player_id=row['PlayerID']\n",
    "    player = gameStats[gameStats['PlayerID'] == player_id]['Player'].tolist()[0]\n",
    "    return player\n",
    "\n",
    "df_2014['Player']=df_2014.apply(FillPlayers,axis=1)\n",
    "\n",
    "#Fill in player teams\n",
    "def FillTeams(row):\n",
    "    player_id=row['PlayerID']\n",
    "    team = POSsamples_2014[POSsamples_2014['PlayerID'] == player_id]['Team'].tolist()[0]\n",
    "    return team\n",
    "\n",
    "df_2014['Team']=df_2014.apply(FillTeams,axis=1)\n",
    "\n",
    "df_2014.head()"
   ]
  },
  {
   "cell_type": "code",
   "execution_count": 27,
   "metadata": {
    "collapsed": true,
    "nbpresent": {
     "id": "5ef565ac-0b71-4e8a-a3cb-1f55f97a3308"
    }
   },
   "outputs": [],
   "source": [
    "'''All of this information needs to be collected from stat database'''\n",
    "\n",
    "#Fill in previous season's fantasy points\n",
    "def FindSeasonScore(row,seasons_prior):\n",
    "    player=row['Player']\n",
    "    player_id=row['PlayerID']\n",
    "    season = row['Season']-seasons_prior\n",
    "    tot_points = gameStats[(gameStats['Player']==player) & (gameStats['PlayerID']==player_id) & \\\n",
    "              (gameStats['Season']==season)]['FantasyPoints'].sum()\n",
    "        \n",
    "    return tot_points\n",
    "\n",
    "df_2014['PriorSeasonPoints']=df_2014.apply(FindSeasonScore,args=[1] ,axis=1)\n",
    "df_2014['TwoPriorSeasonPoints']=df_2014.apply(FindSeasonScore,args=[2] ,axis=1)"
   ]
  },
  {
   "cell_type": "code",
   "execution_count": 28,
   "metadata": {
    "collapsed": false,
    "nbpresent": {
     "id": "f078387d-ce51-4885-936e-326e7d0de589"
    }
   },
   "outputs": [],
   "source": [
    "#Fill in the player's average fantasy stats\n",
    "def FindPlayerAverage(row,num_weeks,opp=None):\n",
    "    #Finds average stats of a player over the last num_weeks\n",
    "    #Can specify and opponent to determine average against a specific opponent\n",
    "    #Ignored weeks where the player had zero stats (assuming they didn't play)\n",
    "    player=row['Player']\n",
    "    player_id=row['PlayerID']\n",
    "    current_week=row['Week']\n",
    "    \n",
    "    start_week = current_week - num_weeks\n",
    "\n",
    "    #Only use games against the opponent\n",
    "    if opp:\n",
    "        means = gameStats[(gameStats['Player']==player) & \\\n",
    "                  (gameStats['PlayerID']==player_id) & \\\n",
    "                  (gameStats['Week']>=start_week) & \\\n",
    "                  (gameStats['NoStats']==False) & \\\n",
    "                  (gameStats['Opponent']==opp) & \\\n",
    "                  (gameStats['Week']<current_week)].ix[:,'passing_yds':'FantasyPoints'].mean()\n",
    "\n",
    "    else:\n",
    "        means = gameStats[(gameStats['Player']==player) & \\\n",
    "                  (gameStats['PlayerID']==player_id) & \\\n",
    "                  (gameStats['Week']>=start_week) & \\\n",
    "                  (gameStats['NoStats']==False) & \\\n",
    "                  (gameStats['Week']<current_week)].ix[:,'passing_yds':'FantasyPoints'].mean()\n",
    "        \n",
    "    return means\n",
    "\n",
    "\n",
    "num_weeks=8\n",
    "avgStats = df_2014.apply(FindPlayerAverage,args=[num_weeks],axis=1)\n",
    "avgStats.columns = [('%s_%dweekAvg' % (column,num_weeks)) for column in avgStats.columns]\n",
    "df_2014 = pd.concat([df_2014,avgStats],axis=1)\n",
    "\n",
    "num_weeks=17\n",
    "avgStats = df_2014.apply(FindPlayerAverage,args=[num_weeks],axis=1)\n",
    "avgStats.columns = [('%s_%dweekAvg' % (column,num_weeks)) for column in avgStats.columns]\n",
    "df_2014 = pd.concat([df_2014,avgStats],axis=1)\n",
    "\n",
    "num_weeks=34\n",
    "avgStats = df_2014.apply(FindPlayerAverage,args=[num_weeks],axis=1)\n",
    "avgStats.columns = [('%s_%dweekAvg' % (column,num_weeks)) for column in avgStats.columns]\n",
    "df_2014 = pd.concat([df_2014,avgStats],axis=1)\n"
   ]
  },
  {
   "cell_type": "code",
   "execution_count": 29,
   "metadata": {
    "collapsed": false,
    "nbpresent": {
     "id": "a512b74b-c913-47b8-a9d3-59923633060b"
    }
   },
   "outputs": [],
   "source": [
    "def FindTeamAverage(row,num_weeks,opp=None):\n",
    "    team=row['Team']\n",
    "    current_week=row['Week']\n",
    "    \n",
    "    start_week = current_week - num_weeks\n",
    "\n",
    "    #Only use games against the opponent\n",
    "    if opp:\n",
    "        means = gameStats[(gameStats['Team']==team) & \\\n",
    "                  (gameStats['Week']>=start_week) & \\\n",
    "                  (gameStats['Opponent']==opp) & \\\n",
    "                  (gameStats['Week']<current_week)].groupby(['Week']).sum().ix[:,'passing_yds':'FantasyPoints'].mean()\n",
    "\n",
    "    else:\n",
    "        means = gameStats[(gameStats['Team']==team) & \\\n",
    "                  (gameStats['Week']>=start_week) & \\\n",
    "                  (gameStats['Week']<current_week)].groupby(['Week']).sum().ix[:,'passing_yds':'FantasyPoints'].mean()\n",
    "    \n",
    "    for key in aggregate_stats:\n",
    "        means[key]=means[key]/2 #get rid of double counting\n",
    "    \n",
    "    return means\n",
    "\n",
    "#8 week average (0.5 season)\n",
    "num_weeks=8\n",
    "avgStats = df_2014.apply(FindTeamAverage,args=[num_weeks],axis=1)\n",
    "avgStats.columns = [('team_%s_%dweekAvg' % (column,num_weeks)) for column in avgStats.columns]\n",
    "df_2014 = pd.concat([df_2014,avgStats],axis=1)\n",
    "\n",
    "#17 week average (1 season)\n",
    "num_weeks=17\n",
    "avgStats = df_2014.apply(FindTeamAverage,args=[num_weeks],axis=1)\n",
    "avgStats.columns = [('team_%s_%dweekAvg' % (column,num_weeks)) for column in avgStats.columns]\n",
    "df_2014 = pd.concat([df_2014,avgStats],axis=1)\n",
    "\n",
    "#34 week average (2 season)\n",
    "num_weeks=34\n",
    "avgStats = df_2014.apply(FindTeamAverage,args=[num_weeks],axis=1)\n",
    "avgStats.columns = [('team_%s_%dweekAvg' % (column,num_weeks)) for column in avgStats.columns]\n",
    "df_2014 = pd.concat([df_2014,avgStats],axis=1)"
   ]
  },
  {
   "cell_type": "code",
   "execution_count": 30,
   "metadata": {
    "collapsed": true,
    "nbpresent": {
     "id": "99d4ca94-a34c-4341-ba37-8e68baeae3ce"
    }
   },
   "outputs": [],
   "source": [
    "#Not filling in opponent informaton for season predictions since it isn't a useful feature\n",
    "#If I did inlucde it, I'd have to predict each week one by one based on who the team was playing\n",
    "#Then add all predictions, instead of multiplying the first week prediction by 16"
   ]
  },
  {
   "cell_type": "code",
   "execution_count": 31,
   "metadata": {
    "collapsed": true,
    "nbpresent": {
     "id": "a2d5cc0c-90cc-4e01-ab8f-9baece26400a"
    }
   },
   "outputs": [],
   "source": [
    "#NOTE: HAVE TO SAVE A COPY OF THE ORIGINAL DATA SET WE TRAINED ON SO THAT WE CAN GET THE SAME SCALING EVERY TIME\n",
    "def FillPredictions(row):\n",
    "    features = row[final_features]\n",
    "    if True in [math.isnan(entry) for entry in features]:\n",
    "        return None\n",
    "    else:\n",
    "        scaleFeat(features)   \n",
    "        prediction = lm.predict(features.reshape(1,-1))[0]\n",
    "        return prediction\n",
    "    \n",
    "df_2014['PredictedWeekOnePoints']=df_2014.apply(FillPredictions,axis=1)\n",
    "df_2014['PredictedSeasonPoints']=df_2014['PredictedWeekOnePoints']*16"
   ]
  },
  {
   "cell_type": "code",
   "execution_count": 32,
   "metadata": {
    "collapsed": false,
    "nbpresent": {
     "id": "77850be3-d0c4-4fbe-a3b6-463aee98790f"
    }
   },
   "outputs": [],
   "source": [
    "#Fill in actual outcomes (not needed in 2016 implementation)\n",
    "season_points=[]\n",
    "for player_id in df_2014['PlayerID']:\n",
    "    season_points.append(POSsamples_2014[POSsamples_2014['PlayerID']==player_id]['FantasyPoints'].sum())\n",
    "    \n",
    "df_2014['ActualSeasonPoints']=season_points"
   ]
  },
  {
   "cell_type": "code",
   "execution_count": 33,
   "metadata": {
    "collapsed": false,
    "nbpresent": {
     "id": "032fab6c-4548-4625-8fa0-a129c5580eba"
    }
   },
   "outputs": [
    {
     "name": "stdout",
     "output_type": "stream",
     "text": [
      "RMSE: 130.041115462\n",
      "Mean Absolute Error:  72.9666771472\n",
      "Mean Relative Error:  -0.900892402856\n",
      "Average Points: 253.874232703\n",
      "Correlation:  0.673356572592\n"
     ]
    },
    {
     "data": {
      "image/png": "[encoded data removed]",
      "text/plain": [
       "<matplotlib.figure.Figure at 0x11ded4290>"
      ]
     },
     "metadata": {},
     "output_type": "display_data"
    }
   ],
   "source": [
    "has_pred = df_2014['PredictedSeasonPoints'].apply(lambda x: not math.isnan(x))\n",
    "x=df_2014[has_pred]['ActualSeasonPoints'].tolist()\n",
    "y=df_2014[has_pred]['PredictedSeasonPoints'].tolist()\n",
    "x=np.array(x)\n",
    "y=np.array(y)\n",
    "\n",
    "#Check performance on each prediction based on stats at start of the season\n",
    "plt.scatter(x,y)\n",
    "plt.xlabel(\"True Season Totals\")\n",
    "plt.ylabel(\"Predicted Season Totals At Start of Season\")\n",
    "\n",
    "mse = np.mean((x - y) **2)\n",
    "print 'RMSE:', np.sqrt(mse)\n",
    "print 'Mean Absolute Error: ', np.mean((y - x))\n",
    "print 'Mean Relative Error: ', np.mean((y - x)/(x))\n",
    "print 'Average Points:', np.mean(y)\n",
    "print 'Correlation: ', pearsonr(y,x)[0]"
   ]
  },
  {
   "cell_type": "code",
   "execution_count": 34,
   "metadata": {
    "collapsed": false,
    "nbpresent": {
     "id": "cb93aadc-4944-4fb9-a45b-aa69556bfb46"
    }
   },
   "outputs": [
    {
     "name": "stderr",
     "output_type": "stream",
     "text": [
      "/Users/richardknoche/anaconda/envs/py27/lib/python2.7/site-packages/ipykernel/__main__.py:3: FutureWarning: sort(columns=....) is deprecated, use sort_values(by=.....)\n",
      "  app.launch_new_instance()\n"
     ]
    }
   ],
   "source": [
    "#Compare to http://www.fftoday.com/stats/playerstats.php?Season=2014&GameWeek=&PosID=30&LeagueID=107644\n",
    "#Make easy to use lists of the predictions\n",
    "season_ranking = df_2014.sort(['PredictedSeasonPoints'],ascending=[False]).reset_index()\n",
    "\n",
    "predicted_points = season_ranking['PredictedSeasonPoints'].tolist()\n",
    "predicted_points = [points for points in predicted_points if not math.isnan(points)]\n",
    "ranks = range(len(predicted_points))\n",
    "players = season_ranking['Player'].tolist()\n",
    "players = players[:len(predicted_points)]\n"
   ]
  },
  {
   "cell_type": "code",
   "execution_count": 35,
   "metadata": {
    "collapsed": false,
    "nbpresent": {
     "id": "79972e9e-d0bd-4212-a1ed-5466cd54ae06"
    }
   },
   "outputs": [
    {
     "data": {
      "image/png": "[encoded data removed]",
      "text/plain": [
       "<matplotlib.figure.Figure at 0x11ded4dd0>"
      ]
     },
     "metadata": {},
     "output_type": "display_data"
    }
   ],
   "source": [
    "#CLUSTER THE RESULTS TO PRODUCE TIERS\n",
    "\n",
    "from sklearn.cluster import KMeans\n",
    "reduced_data= np.array(zip(predicted_points,ranks))\n",
    "kmeans = KMeans(n_clusters=10)\n",
    "kmeans.fit(reduced_data)\n",
    "\n",
    "# Step size of the mesh. Decrease to increase the quality of the VQ.\n",
    "h = 0.1     # point in the mesh [x_min, m_max]x[y_min, y_max].\n",
    "\n",
    "# Plot the decision boundary. For that, we will assign a color to each\n",
    "x_min, x_max = reduced_data[:, 0].min() - 1, reduced_data[:, 0].max() + 1\n",
    "y_min, y_max = reduced_data[:, 1].min() - 1, reduced_data[:, 1].max() + 1\n",
    "xx, yy = np.meshgrid(np.arange(x_min, x_max, h), np.arange(y_min, y_max, h))\n",
    "\n",
    "# Obtain labels for each point in mesh. Use last trained model.\n",
    "Z = kmeans.predict(np.c_[xx.ravel(), yy.ravel()])\n",
    "    \n",
    "# Put the result into a color plot\n",
    "Z = Z.reshape(xx.shape)\n",
    "plt.figure(1)\n",
    "plt.clf()\n",
    "plt.imshow(Z, interpolation='nearest',\n",
    "           extent=(xx.min(), xx.max(), yy.min(), yy.max()),\n",
    "           cmap=plt.cm.Paired,\n",
    "           aspect='auto', origin='lower')\n",
    "\n",
    "plt.plot(reduced_data[:, 0], reduced_data[:, 1], 'k.', markersize=5)\n",
    "# Plot the centroids as a white X\n",
    "centroids = kmeans.cluster_centers_\n",
    "plt.scatter(centroids[:, 0], centroids[:, 1],\n",
    "            marker='x', s=169, linewidths=3,\n",
    "            color='w', zorder=10)\n",
    "plt.title('K-means clustering of Player Tiers')\n",
    "plt.xlim(x_min, x_max)\n",
    "plt.ylim(y_min, y_max)\n",
    "plt.xticks(())\n",
    "plt.yticks(())\n",
    "plt.gca().invert_yaxis()\n",
    "plt.show()\n"
   ]
  },
  {
   "cell_type": "code",
   "execution_count": 36,
   "metadata": {
    "collapsed": false
   },
   "outputs": [
    {
     "data": {
      "text/plain": [
       "45"
      ]
     },
     "execution_count": 36,
     "metadata": {},
     "output_type": "execute_result"
    }
   ],
   "source": [
    "len(players)"
   ]
  },
  {
   "cell_type": "code",
   "execution_count": 37,
   "metadata": {
    "collapsed": false,
    "nbpresent": {
     "id": "9f19c2a7-baa9-4da3-8755-0de6cbf1c81d"
    },
    "scrolled": false
   },
   "outputs": [
    {
     "data": {
      "image/png": "[encoded data removed]",
      "text/plain": [
       "<matplotlib.figure.Figure at 0x11b78bd10>"
      ]
     },
     "metadata": {},
     "output_type": "display_data"
    }
   ],
   "source": [
    "num_players=40\n",
    "\n",
    "current_color=kmeans.labels_[0]\n",
    "new_color=max(kmeans.labels_)+1\n",
    "final_colors=[]\n",
    "for color in kmeans.labels_:\n",
    "    if color==current_color:\n",
    "        final_colors.append(new_color)\n",
    "    else:\n",
    "        current_color = color\n",
    "        new_color=new_color+1\n",
    "        final_colors.append(new_color)\n",
    "        \n",
    "norm = matplotlib.colors.Normalize(vmin=min(final_colors), vmax=max(final_colors), clip=True)\n",
    "colors=matplotlib.cm.ScalarMappable(norm=norm, cmap=matplotlib.cm.spectral).to_rgba(final_colors)\n",
    "\n",
    "plt.scatter(predicted_points[:num_players],ranks[:num_players],c=colors[:num_players])\n",
    "plt.xlabel(\"Predicted Fantasy Points\",size=40)\n",
    "plt.ylabel(\"Rank\",size=40)\n",
    "plt.title(\"2014 Season Predictions\",size=40)\n",
    "plt.ylim([-5,num_players+1])\n",
    "plt.xlim([predicted_points[num_players]*0.9,predicted_points[0]*1.1])\n",
    "\n",
    "for idx, player in enumerate(players[:num_players]):\n",
    "    plt.annotate(player, (predicted_points[idx]+2,ranks[idx]), va='center', size=14, color=colors[idx])\n",
    "    \n",
    "plt.gca().invert_yaxis()\n",
    "plt.grid()\n",
    "plt.show()"
   ]
  },
  {
   "cell_type": "code",
   "execution_count": null,
   "metadata": {
    "collapsed": true
   },
   "outputs": [],
   "source": []
  },
  {
   "cell_type": "code",
   "execution_count": null,
   "metadata": {
    "collapsed": true
   },
   "outputs": [],
   "source": []
  }
 ],
 "metadata": {
  "anaconda-cloud": {},
  "kernelspec": {
   "display_name": "Python [py27]",
   "language": "python",
   "name": "Python [py27]"
  },
  "language_info": {
   "codemirror_mode": {
    "name": "ipython",
    "version": 2
   },
   "file_extension": ".py",
   "mimetype": "text/x-python",
   "name": "python",
   "nbconvert_exporter": "python",
   "pygments_lexer": "ipython2",
   "version": "2.7.12"
  },
  "nbpresent": {
   "slides": {
    "04c19127-5952-4f79-9b38-94f350271193": {
     "id": "04c19127-5952-4f79-9b38-94f350271193",
     "prev": "5d4cde28-c474-4c9d-83f7-aefbd244cd33",
     "regions": {
      "11fce5df-5ac0-43b9-a166-15eae96151d6": {
       "attrs": {
        "height": 0.8,
        "width": 0.8,
        "x": 0.1,
        "y": 0.1
       },
       "content": {
        "cell": "10511106-ff27-4a9f-8862-53e537c1315f",
        "part": "whole"
       },
       "id": "11fce5df-5ac0-43b9-a166-15eae96151d6"
      }
     }
    },
    "0ce1925e-b65e-47f7-b5b7-2080a2bb2eb4": {
     "id": "0ce1925e-b65e-47f7-b5b7-2080a2bb2eb4",
     "prev": "2416030f-f512-41a0-ad72-caaa105c3d5e",
     "regions": {
      "8d6d1c10-fbbd-45a4-95ab-dd6c3165ad80": {
       "attrs": {
        "height": 0.8,
        "width": 0.8,
        "x": 0.1,
        "y": 0.1
       },
       "content": {
        "cell": "0d3b6571-8fed-4d4f-b784-394f7f9383ff",
        "part": "whole"
       },
       "id": "8d6d1c10-fbbd-45a4-95ab-dd6c3165ad80"
      }
     }
    },
    "17970f09-34af-4bae-ab7c-0102f812e866": {
     "id": "17970f09-34af-4bae-ab7c-0102f812e866",
     "prev": "467c5c2c-043a-4a01-9868-57a65429f50f",
     "regions": {
      "61e27ed7-b1f1-4024-9ce3-c9176405d257": {
       "attrs": {
        "height": 0.8,
        "width": 0.8,
        "x": 0.1,
        "y": 0.1
       },
       "content": {
        "cell": "9f54d1c4-dfaf-4316-a86b-114b48b2463a",
        "part": "whole"
       },
       "id": "61e27ed7-b1f1-4024-9ce3-c9176405d257"
      }
     }
    },
    "20c1a67c-cf85-4880-a676-15a0407ab263": {
     "id": "20c1a67c-cf85-4880-a676-15a0407ab263",
     "prev": "324cfa90-8430-4090-b72f-3ce7a7d70a0b",
     "regions": {
      "994aacfe-e81e-470e-b484-96c49fa3c9d8": {
       "attrs": {
        "height": 0.8,
        "width": 0.8,
        "x": 0.1,
        "y": 0.1
       },
       "content": {
        "cell": "412b4618-79cf-406a-a971-da97f1c9d572",
        "part": "whole"
       },
       "id": "994aacfe-e81e-470e-b484-96c49fa3c9d8"
      }
     }
    },
    "2416030f-f512-41a0-ad72-caaa105c3d5e": {
     "id": "2416030f-f512-41a0-ad72-caaa105c3d5e",
     "prev": "cc7134cb-3c64-45f9-bf75-bd1845bec9f0",
     "regions": {
      "5b7bc0c6-657d-4157-a86d-39c7711b92cb": {
       "attrs": {
        "height": 0.8,
        "width": 0.8,
        "x": 0.1,
        "y": 0.1
       },
       "content": {
        "cell": "55994da5-9928-4664-9816-6b3562cd240b",
        "part": "whole"
       },
       "id": "5b7bc0c6-657d-4157-a86d-39c7711b92cb"
      }
     }
    },
    "25dd3cdb-6705-40a3-9ac5-5f2ab19a78e5": {
     "id": "25dd3cdb-6705-40a3-9ac5-5f2ab19a78e5",
     "prev": "5131d2b7-5018-4422-acff-2156e6dc770d",
     "regions": {
      "3dcb9a5b-9477-4bef-a260-980f1e55f5a3": {
       "attrs": {
        "height": 0.8,
        "width": 0.8,
        "x": 0.1,
        "y": 0.1
       },
       "content": {
        "cell": "32674feb-ff0d-43da-b0ad-85a28311c170",
        "part": "whole"
       },
       "id": "3dcb9a5b-9477-4bef-a260-980f1e55f5a3"
      }
     }
    },
    "2785c417-78a8-41ae-8463-34ff272d2b91": {
     "id": "2785c417-78a8-41ae-8463-34ff272d2b91",
     "prev": "55b6fc50-38bd-4897-a3e5-8d8f7e1142d8",
     "regions": {
      "b8d52a80-fd13-4c9f-a2f5-1bd034c33377": {
       "attrs": {
        "height": 0.8,
        "width": 0.8,
        "x": 0.1,
        "y": 0.1
       },
       "content": {
        "cell": "82d27cdd-18f0-4b56-b0ee-0e30324dcba0",
        "part": "whole"
       },
       "id": "b8d52a80-fd13-4c9f-a2f5-1bd034c33377"
      }
     }
    },
    "2bf94104-69c5-47bd-8f6f-aaa9f2213283": {
     "id": "2bf94104-69c5-47bd-8f6f-aaa9f2213283",
     "prev": "17970f09-34af-4bae-ab7c-0102f812e866",
     "regions": {
      "626e7259-f34a-4e1a-8981-cc10e42d9b33": {
       "attrs": {
        "height": 0.8,
        "width": 0.8,
        "x": 0.1,
        "y": 0.1
       },
       "content": {
        "cell": "7028b815-7266-462c-9d6e-e6d3df5d3a99",
        "part": "whole"
       },
       "id": "626e7259-f34a-4e1a-8981-cc10e42d9b33"
      }
     }
    },
    "2f3b155a-8a37-4ac1-b6cb-ebdf977013a7": {
     "id": "2f3b155a-8a37-4ac1-b6cb-ebdf977013a7",
     "prev": "2785c417-78a8-41ae-8463-34ff272d2b91",
     "regions": {
      "7951c1f3-2d66-47b3-aa17-088eb363bc0f": {
       "attrs": {
        "height": 0.8,
        "width": 0.8,
        "x": 0.1,
        "y": 0.1
       },
       "content": {
        "cell": "d0c0129c-05d9-4826-8493-40e144ca15fb",
        "part": "whole"
       },
       "id": "7951c1f3-2d66-47b3-aa17-088eb363bc0f"
      }
     }
    },
    "31711fbb-6629-444f-8399-2fc8889d74dd": {
     "id": "31711fbb-6629-444f-8399-2fc8889d74dd",
     "prev": "5620782c-5fa0-48ce-9c5e-236d2bf2520a",
     "regions": {
      "ffe25173-afc5-4eb0-ab6f-ba7d9ef46c2e": {
       "attrs": {
        "height": 0.8,
        "width": 0.8,
        "x": 0.1,
        "y": 0.1
       },
       "content": {
        "cell": "e5f099cd-6980-4174-aa9a-3fd1c9333f2e",
        "part": "whole"
       },
       "id": "ffe25173-afc5-4eb0-ab6f-ba7d9ef46c2e"
      }
     }
    },
    "324cfa90-8430-4090-b72f-3ce7a7d70a0b": {
     "id": "324cfa90-8430-4090-b72f-3ce7a7d70a0b",
     "prev": "db661a8d-dd6e-4f79-8f5e-2ecd2017f68c",
     "regions": {
      "ede9c399-a4bb-4197-8226-55c8a3e563c2": {
       "attrs": {
        "height": 0.8,
        "width": 0.8,
        "x": 0.1,
        "y": 0.1
       },
       "content": {
        "cell": "461d7cdf-1890-4f8e-b709-a5acdd1ba9cb",
        "part": "whole"
       },
       "id": "ede9c399-a4bb-4197-8226-55c8a3e563c2"
      }
     }
    },
    "34f695f0-2a4d-4317-8360-b8f7706e8495": {
     "id": "34f695f0-2a4d-4317-8360-b8f7706e8495",
     "prev": "9c6deb27-4527-4d61-baeb-005020ef6bcb",
     "regions": {
      "dd197f25-b8f3-47ea-adca-714d5889be38": {
       "attrs": {
        "height": 0.8,
        "width": 0.8,
        "x": 0.1,
        "y": 0.1
       },
       "content": {
        "cell": "79972e9e-d0bd-4212-a1ed-5466cd54ae06",
        "part": "whole"
       },
       "id": "dd197f25-b8f3-47ea-adca-714d5889be38"
      }
     }
    },
    "3ea4925e-9952-458d-9cbd-183e1518c880": {
     "id": "3ea4925e-9952-458d-9cbd-183e1518c880",
     "prev": "0ce1925e-b65e-47f7-b5b7-2080a2bb2eb4",
     "regions": {
      "78377592-f77c-4ba8-bd0c-a5f862856d3b": {
       "attrs": {
        "height": 0.8,
        "width": 0.8,
        "x": 0.1,
        "y": 0.1
       },
       "content": {
        "cell": "31ce3f02-2d31-4536-9966-66f25020f2ba",
        "part": "whole"
       },
       "id": "78377592-f77c-4ba8-bd0c-a5f862856d3b"
      }
     }
    },
    "437679fe-3741-4ead-ab48-ed10f91f7408": {
     "id": "437679fe-3741-4ead-ab48-ed10f91f7408",
     "prev": "e1161d2e-9620-4947-a928-9693a010a5fb",
     "regions": {
      "8719892b-073c-4c6f-a5e9-36176462659b": {
       "attrs": {
        "height": 0.8,
        "width": 0.8,
        "x": 0.1,
        "y": 0.1
       },
       "content": {
        "cell": "a512b74b-c913-47b8-a9d3-59923633060b",
        "part": "whole"
       },
       "id": "8719892b-073c-4c6f-a5e9-36176462659b"
      }
     }
    },
    "467c5c2c-043a-4a01-9868-57a65429f50f": {
     "id": "467c5c2c-043a-4a01-9868-57a65429f50f",
     "prev": "4e4d65e8-548a-406f-9e36-26c2fe8ad837",
     "regions": {
      "b452ead9-c4ee-42d9-9ec9-ca06632e2809": {
       "attrs": {
        "height": 0.8,
        "width": 0.8,
        "x": 0.1,
        "y": 0.1
       },
       "content": {
        "cell": "80237dc5-a806-4516-a697-2e6537120e49",
        "part": "whole"
       },
       "id": "b452ead9-c4ee-42d9-9ec9-ca06632e2809"
      }
     }
    },
    "4acb3b8f-6a27-4e7a-8442-0b99b81f6fe7": {
     "id": "4acb3b8f-6a27-4e7a-8442-0b99b81f6fe7",
     "prev": "d8edca53-72a5-4bbe-bac8-6ec90f2fbe5a",
     "regions": {
      "7d04a102-fb85-4f2a-aa64-82aa7288b467": {
       "attrs": {
        "height": 0.8,
        "width": 0.8,
        "x": 0.1,
        "y": 0.1
       },
       "content": {
        "cell": "a2d5cc0c-90cc-4e01-ab8f-9baece26400a",
        "part": "whole"
       },
       "id": "7d04a102-fb85-4f2a-aa64-82aa7288b467"
      }
     }
    },
    "4be93c86-e585-4d4a-a32d-711aee38bbd0": {
     "id": "4be93c86-e585-4d4a-a32d-711aee38bbd0",
     "prev": "04c19127-5952-4f79-9b38-94f350271193",
     "regions": {
      "1d3e8a03-61bf-4284-aa9b-2c38386da823": {
       "attrs": {
        "height": 0.8,
        "width": 0.8,
        "x": 0.1,
        "y": 0.1
       },
       "content": {
        "cell": "bfa8882b-2521-4aaf-8523-7944106154d1",
        "part": "whole"
       },
       "id": "1d3e8a03-61bf-4284-aa9b-2c38386da823"
      }
     }
    },
    "4e4d65e8-548a-406f-9e36-26c2fe8ad837": {
     "id": "4e4d65e8-548a-406f-9e36-26c2fe8ad837",
     "prev": "6d9b2790-90d5-4735-88c9-3be984fef3f2",
     "regions": {
      "92e2be6e-da70-4d94-983f-59fa49ec52d5": {
       "attrs": {
        "height": 0.8,
        "width": 0.8,
        "x": 0.1,
        "y": 0.1
       },
       "content": {
        "cell": "b99982b5-d885-4adc-98c2-09bcb10820f6",
        "part": "whole"
       },
       "id": "92e2be6e-da70-4d94-983f-59fa49ec52d5"
      }
     }
    },
    "4eb383d3-5135-418c-b119-48bc7ddd6b35": {
     "id": "4eb383d3-5135-418c-b119-48bc7ddd6b35",
     "prev": "fae3e1da-f994-44e9-82e4-8561fc76817b",
     "regions": {
      "90cf7fa8-fe2d-4a04-af24-e65d13d6345f": {
       "attrs": {
        "height": 0.8,
        "width": 0.8,
        "x": 0.1,
        "y": 0.1
       },
       "content": {
        "cell": "3431ea7f-bc78-4dab-9fb7-7436bc61ddb2",
        "part": "whole"
       },
       "id": "90cf7fa8-fe2d-4a04-af24-e65d13d6345f"
      }
     }
    },
    "5131d2b7-5018-4422-acff-2156e6dc770d": {
     "id": "5131d2b7-5018-4422-acff-2156e6dc770d",
     "prev": "2f3b155a-8a37-4ac1-b6cb-ebdf977013a7",
     "regions": {
      "89b8a877-280d-478b-8556-2ee2270c90dc": {
       "attrs": {
        "height": 0.8,
        "width": 0.8,
        "x": 0.1,
        "y": 0.1
       },
       "content": {
        "cell": "b09b274d-e2f4-4598-8462-e517b6690259",
        "part": "whole"
       },
       "id": "89b8a877-280d-478b-8556-2ee2270c90dc"
      }
     }
    },
    "55b6fc50-38bd-4897-a3e5-8d8f7e1142d8": {
     "id": "55b6fc50-38bd-4897-a3e5-8d8f7e1142d8",
     "prev": "fbda7490-5bb4-43e4-b18c-2f5f46c79c2d",
     "regions": {
      "9d53e2a8-7bd2-4785-a86b-5286c7c54bbb": {
       "attrs": {
        "height": 0.8,
        "width": 0.8,
        "x": 0.1,
        "y": 0.1
       },
       "content": {
        "cell": "08df7406-352a-44d0-83dd-ee7d1f9e3b21",
        "part": "whole"
       },
       "id": "9d53e2a8-7bd2-4785-a86b-5286c7c54bbb"
      }
     }
    },
    "5620782c-5fa0-48ce-9c5e-236d2bf2520a": {
     "id": "5620782c-5fa0-48ce-9c5e-236d2bf2520a",
     "prev": "8ff54ee4-c8d6-43ce-9a59-caa940f83c72",
     "regions": {
      "5bd7b986-b687-4cea-a2ad-3867fd04b0a1": {
       "attrs": {
        "height": 0.8,
        "width": 0.8,
        "x": 0.1,
        "y": 0.1
       },
       "content": {
        "cell": "1b24cdb9-d0b4-4e1c-840f-e19c098f5110",
        "part": "whole"
       },
       "id": "5bd7b986-b687-4cea-a2ad-3867fd04b0a1"
      }
     }
    },
    "58001f29-4ddf-4a98-836b-2337b397567b": {
     "id": "58001f29-4ddf-4a98-836b-2337b397567b",
     "prev": "b1850cae-c8ab-449b-b375-8d5d5e4fc5fa",
     "regions": {
      "91cc8d02-1d18-4fed-86f3-0089024216af": {
       "attrs": {
        "height": 0.8,
        "width": 0.8,
        "x": 0.1,
        "y": 0.1
       },
       "content": {
        "cell": "dc092847-a3f4-4b63-b47b-d03e5c32c78e",
        "part": "whole"
       },
       "id": "91cc8d02-1d18-4fed-86f3-0089024216af"
      }
     }
    },
    "5d10703a-13ee-4c61-880f-611f9279b15f": {
     "id": "5d10703a-13ee-4c61-880f-611f9279b15f",
     "prev": "ccc70699-e8d2-4502-b85f-ecff59a9a56e",
     "regions": {
      "4f47ee9b-1a52-4810-a8ef-71e97c0dba8b": {
       "attrs": {
        "height": 0.8,
        "width": 0.8,
        "x": 0.1,
        "y": 0.1
       },
       "content": {
        "cell": "a154763c-8509-40b8-b28b-2411c179ed72",
        "part": "whole"
       },
       "id": "4f47ee9b-1a52-4810-a8ef-71e97c0dba8b"
      }
     }
    },
    "5d4cde28-c474-4c9d-83f7-aefbd244cd33": {
     "id": "5d4cde28-c474-4c9d-83f7-aefbd244cd33",
     "prev": "65270d49-9ed6-4253-853f-8828bc977c59",
     "regions": {
      "56eb97fd-973b-4018-8399-cca6950e24b2": {
       "attrs": {
        "height": 0.8,
        "width": 0.8,
        "x": 0.1,
        "y": 0.1
       },
       "content": {
        "cell": "cccc4121-78c3-46d3-9131-0fa6e12241fc",
        "part": "whole"
       },
       "id": "56eb97fd-973b-4018-8399-cca6950e24b2"
      }
     }
    },
    "5f75b79e-2d5a-4f0d-b433-8fa2185ea8bc": {
     "id": "5f75b79e-2d5a-4f0d-b433-8fa2185ea8bc",
     "prev": "25dd3cdb-6705-40a3-9ac5-5f2ab19a78e5",
     "regions": {
      "27c390cf-4aac-439a-acfb-3edf29cffe27": {
       "attrs": {
        "height": 0.8,
        "width": 0.8,
        "x": 0.1,
        "y": 0.1
       },
       "content": {
        "cell": "89b6e688-948e-4433-bae9-cba059abceec",
        "part": "whole"
       },
       "id": "27c390cf-4aac-439a-acfb-3edf29cffe27"
      }
     }
    },
    "64a126a8-4362-4674-a4d8-b49872725114": {
     "id": "64a126a8-4362-4674-a4d8-b49872725114",
     "prev": "58001f29-4ddf-4a98-836b-2337b397567b",
     "regions": {
      "42584fc5-85ac-4d44-8d9e-fc5c4c61dfb8": {
       "attrs": {
        "height": 0.8,
        "width": 0.8,
        "x": 0.1,
        "y": 0.1
       },
       "content": {
        "cell": "afe3a7c9-7ea3-48a6-8f52-6111d45a4dde",
        "part": "whole"
       },
       "id": "42584fc5-85ac-4d44-8d9e-fc5c4c61dfb8"
      }
     }
    },
    "65270d49-9ed6-4253-853f-8828bc977c59": {
     "id": "65270d49-9ed6-4253-853f-8828bc977c59",
     "prev": "2bf94104-69c5-47bd-8f6f-aaa9f2213283",
     "regions": {
      "9ec27f3d-d643-4093-9ec3-14c1cd8f3c9b": {
       "attrs": {
        "height": 0.8,
        "width": 0.8,
        "x": 0.1,
        "y": 0.1
       },
       "content": {
        "cell": "f08428d0-f34f-4d25-a511-93eb09825ef6",
        "part": "whole"
       },
       "id": "9ec27f3d-d643-4093-9ec3-14c1cd8f3c9b"
      }
     }
    },
    "6d9b2790-90d5-4735-88c9-3be984fef3f2": {
     "id": "6d9b2790-90d5-4735-88c9-3be984fef3f2",
     "prev": "b6da1ef9-8812-4f35-8555-2d694b72423b",
     "regions": {
      "0a282c1d-1004-4e85-b53f-c8e861bf0732": {
       "attrs": {
        "height": 0.8,
        "width": 0.8,
        "x": 0.1,
        "y": 0.1
       },
       "content": {
        "cell": "2b62d22d-872b-42a9-b9c9-622e417bfb3a",
        "part": "whole"
       },
       "id": "0a282c1d-1004-4e85-b53f-c8e861bf0732"
      }
     }
    },
    "732f56a3-79d9-4c99-a969-fb77ef7cbe03": {
     "id": "732f56a3-79d9-4c99-a969-fb77ef7cbe03",
     "prev": "e977bbad-92b9-489d-8ec9-2702576592a1",
     "regions": {
      "1c4cc869-bd8c-4895-8ee4-cb6a653d3dad": {
       "attrs": {
        "height": 0.8,
        "width": 0.8,
        "x": 0.1,
        "y": 0.1
       },
       "content": {
        "cell": "58564d4a-bc4e-4c76-88a9-5b163fabe340",
        "part": "whole"
       },
       "id": "1c4cc869-bd8c-4895-8ee4-cb6a653d3dad"
      }
     }
    },
    "7d06b8f7-fa4a-4542-820e-293eccc8f7f6": {
     "id": "7d06b8f7-fa4a-4542-820e-293eccc8f7f6",
     "prev": "3ea4925e-9952-458d-9cbd-183e1518c880",
     "regions": {
      "92067dfa-b2cd-4e7e-b856-65e1683cd64e": {
       "attrs": {
        "height": 0.8,
        "width": 0.8,
        "x": 0.1,
        "y": 0.1
       },
       "content": {
        "cell": "f8fc6ccd-19e3-41b3-88c6-5c57166e0118",
        "part": "whole"
       },
       "id": "92067dfa-b2cd-4e7e-b856-65e1683cd64e"
      }
     }
    },
    "80a94e3d-68ad-4068-8b91-36c736014c05": {
     "id": "80a94e3d-68ad-4068-8b91-36c736014c05",
     "prev": "5d10703a-13ee-4c61-880f-611f9279b15f",
     "regions": {
      "d8e033d1-1076-4594-bc86-ee44243675be": {
       "attrs": {
        "height": 0.8,
        "width": 0.8,
        "x": 0.1,
        "y": 0.1
       },
       "content": {
        "cell": "725e25a7-934e-43b4-8c2f-f4089171b13c",
        "part": "whole"
       },
       "id": "d8e033d1-1076-4594-bc86-ee44243675be"
      }
     }
    },
    "8346bc6f-7fba-4d7f-b06c-f7e8117038ca": {
     "id": "8346bc6f-7fba-4d7f-b06c-f7e8117038ca",
     "prev": "f6659671-7fa2-4563-8589-c255d1ee018b",
     "regions": {
      "2d633cdd-1181-42c2-a2d1-61ff5f004038": {
       "attrs": {
        "height": 0.8,
        "width": 0.8,
        "x": 0.1,
        "y": 0.1
       },
       "content": {
        "cell": "5ef565ac-0b71-4e8a-a3cb-1f55f97a3308",
        "part": "whole"
       },
       "id": "2d633cdd-1181-42c2-a2d1-61ff5f004038"
      }
     }
    },
    "887302f0-23bc-47b6-a8c4-94d65b481c46": {
     "id": "887302f0-23bc-47b6-a8c4-94d65b481c46",
     "prev": "64a126a8-4362-4674-a4d8-b49872725114",
     "regions": {
      "bddde05a-46a4-4b8c-8331-d877b95dae42": {
       "attrs": {
        "height": 0.8,
        "width": 0.8,
        "x": 0.1,
        "y": 0.1
       },
       "content": {
        "cell": "bf524dcc-18b5-40f2-86a4-5b60849c87b1",
        "part": "whole"
       },
       "id": "bddde05a-46a4-4b8c-8331-d877b95dae42"
      }
     }
    },
    "8ff54ee4-c8d6-43ce-9a59-caa940f83c72": {
     "id": "8ff54ee4-c8d6-43ce-9a59-caa940f83c72",
     "prev": "e8e17cf2-08ba-4ec8-a43b-d3f3ae0eff02",
     "regions": {
      "40203b23-c24d-4ccf-b77d-bfafc9568332": {
       "attrs": {
        "height": 0.8,
        "width": 0.8,
        "x": 0.1,
        "y": 0.1
       },
       "content": {
        "cell": "baafdd42-d6c2-40c6-a6fb-2239214e9e18",
        "part": "whole"
       },
       "id": "40203b23-c24d-4ccf-b77d-bfafc9568332"
      }
     }
    },
    "9c6deb27-4527-4d61-baeb-005020ef6bcb": {
     "id": "9c6deb27-4527-4d61-baeb-005020ef6bcb",
     "prev": "bbc0d7b1-72c9-4654-97d3-9054c06f0d91",
     "regions": {
      "5a45e01c-cfe6-412d-bcad-941f7070b19c": {
       "attrs": {
        "height": 0.8,
        "width": 0.8,
        "x": 0.1,
        "y": 0.1
       },
       "content": {
        "cell": "cb93aadc-4944-4fb9-a45b-aa69556bfb46",
        "part": "whole"
       },
       "id": "5a45e01c-cfe6-412d-bcad-941f7070b19c"
      }
     }
    },
    "a8418a7b-77b1-4f6d-818b-14ba3c686862": {
     "id": "a8418a7b-77b1-4f6d-818b-14ba3c686862",
     "prev": "31711fbb-6629-444f-8399-2fc8889d74dd",
     "regions": {
      "37126c78-2c2d-4d82-ac93-046ba88418e2": {
       "attrs": {
        "height": 0.8,
        "width": 0.8,
        "x": 0.1,
        "y": 0.1
       },
       "content": {
        "cell": "20d8cea6-053c-4306-a06b-7e62f04b6a22",
        "part": "whole"
       },
       "id": "37126c78-2c2d-4d82-ac93-046ba88418e2"
      }
     }
    },
    "b1850cae-c8ab-449b-b375-8d5d5e4fc5fa": {
     "id": "b1850cae-c8ab-449b-b375-8d5d5e4fc5fa",
     "prev": "5f75b79e-2d5a-4f0d-b433-8fa2185ea8bc",
     "regions": {
      "a47c663a-50da-4ce0-9f30-dcd12201bf2e": {
       "attrs": {
        "height": 0.8,
        "width": 0.8,
        "x": 0.1,
        "y": 0.1
       },
       "content": {
        "cell": "b5174f65-1cb5-4c96-aead-386a09f8c375",
        "part": "whole"
       },
       "id": "a47c663a-50da-4ce0-9f30-dcd12201bf2e"
      }
     }
    },
    "b591ef3d-75c6-456f-aeec-01b49c072a59": {
     "id": "b591ef3d-75c6-456f-aeec-01b49c072a59",
     "prev": "fa1c5987-e48a-4392-8b3c-6a90b297a1d7",
     "regions": {
      "da58c366-fe1f-40db-83f0-f0cbf05ca2a9": {
       "attrs": {
        "height": 0.8,
        "width": 0.8,
        "x": 0.1,
        "y": 0.1
       },
       "content": {
        "cell": "2b06d908-9cc3-471d-af8d-0d26d06aa24d",
        "part": "whole"
       },
       "id": "da58c366-fe1f-40db-83f0-f0cbf05ca2a9"
      }
     }
    },
    "b6da1ef9-8812-4f35-8555-2d694b72423b": {
     "id": "b6da1ef9-8812-4f35-8555-2d694b72423b",
     "prev": null,
     "regions": {
      "11f62ed9-efcf-4bf2-8153-ded9b04f68f1": {
       "attrs": {
        "height": 0.8,
        "width": 0.8,
        "x": 0.1,
        "y": 0.1
       },
       "content": {
        "cell": "a15ead67-3ed7-49df-b042-40f9cec78337",
        "part": "whole"
       },
       "id": "11f62ed9-efcf-4bf2-8153-ded9b04f68f1"
      }
     }
    },
    "bbc0d7b1-72c9-4654-97d3-9054c06f0d91": {
     "id": "bbc0d7b1-72c9-4654-97d3-9054c06f0d91",
     "prev": "d3b5a0d6-8a63-48be-b11a-b99bfd5b8e7e",
     "regions": {
      "1d04c576-d34e-4969-87fd-e6984e5b5202": {
       "attrs": {
        "height": 0.8,
        "width": 0.8,
        "x": 0.1,
        "y": 0.1
       },
       "content": {
        "cell": "032fab6c-4548-4625-8fa0-a129c5580eba",
        "part": "whole"
       },
       "id": "1d04c576-d34e-4969-87fd-e6984e5b5202"
      }
     }
    },
    "c34cca81-5b26-46d3-b2f3-bad556c5ecd1": {
     "id": "c34cca81-5b26-46d3-b2f3-bad556c5ecd1",
     "prev": "34f695f0-2a4d-4317-8360-b8f7706e8495",
     "regions": {
      "314cfdb1-205a-4c21-b8b5-5b4f75b0d6fe": {
       "attrs": {
        "height": 0.8,
        "width": 0.8,
        "x": 0.1,
        "y": 0.1
       },
       "content": {
        "cell": "9f19c2a7-baa9-4da3-8755-0de6cbf1c81d",
        "part": "whole"
       },
       "id": "314cfdb1-205a-4c21-b8b5-5b4f75b0d6fe"
      }
     }
    },
    "c4e150b2-2e6b-4e22-9ff4-69a121091913": {
     "id": "c4e150b2-2e6b-4e22-9ff4-69a121091913",
     "prev": "c34cca81-5b26-46d3-b2f3-bad556c5ecd1",
     "regions": {
      "80d8f199-4b59-43f5-bec7-efc75c790263": {
       "attrs": {
        "height": 0.8,
        "width": 0.8,
        "x": 0.1,
        "y": 0.1
       },
       "content": {
        "cell": "a641522d-a33c-493f-912b-f8d2053f77aa",
        "part": "whole"
       },
       "id": "80d8f199-4b59-43f5-bec7-efc75c790263"
      }
     }
    },
    "cc7134cb-3c64-45f9-bf75-bd1845bec9f0": {
     "id": "cc7134cb-3c64-45f9-bf75-bd1845bec9f0",
     "prev": "20c1a67c-cf85-4880-a676-15a0407ab263",
     "regions": {
      "407803be-2f24-4e1a-b3cd-72be0e1b131c": {
       "attrs": {
        "height": 0.8,
        "width": 0.8,
        "x": 0.1,
        "y": 0.1
       },
       "content": {
        "cell": "a8651bd2-efd4-4c5e-9632-016be24d69b8",
        "part": "whole"
       },
       "id": "407803be-2f24-4e1a-b3cd-72be0e1b131c"
      }
     }
    },
    "ccc70699-e8d2-4502-b85f-ecff59a9a56e": {
     "id": "ccc70699-e8d2-4502-b85f-ecff59a9a56e",
     "prev": "4be93c86-e585-4d4a-a32d-711aee38bbd0",
     "regions": {
      "b4e94a58-cf55-4675-9cc8-b7b2d695c9cc": {
       "attrs": {
        "height": 0.8,
        "width": 0.8,
        "x": 0.1,
        "y": 0.1
       },
       "content": {
        "cell": "beb9d774-af37-414d-bc41-5502fbb58135",
        "part": "whole"
       },
       "id": "b4e94a58-cf55-4675-9cc8-b7b2d695c9cc"
      }
     }
    },
    "d3b5a0d6-8a63-48be-b11a-b99bfd5b8e7e": {
     "id": "d3b5a0d6-8a63-48be-b11a-b99bfd5b8e7e",
     "prev": "4acb3b8f-6a27-4e7a-8442-0b99b81f6fe7",
     "regions": {
      "be7601b2-2bba-4440-820e-0921c436f036": {
       "attrs": {
        "height": 0.8,
        "width": 0.8,
        "x": 0.1,
        "y": 0.1
       },
       "content": {
        "cell": "77850be3-d0c4-4fbe-a3b6-463aee98790f",
        "part": "whole"
       },
       "id": "be7601b2-2bba-4440-820e-0921c436f036"
      }
     }
    },
    "d8edca53-72a5-4bbe-bac8-6ec90f2fbe5a": {
     "id": "d8edca53-72a5-4bbe-bac8-6ec90f2fbe5a",
     "prev": "437679fe-3741-4ead-ab48-ed10f91f7408",
     "regions": {
      "d4b7ab68-d1a4-4c9d-a6ba-260746bf6655": {
       "attrs": {
        "height": 0.8,
        "width": 0.8,
        "x": 0.1,
        "y": 0.1
       },
       "content": {
        "cell": "99d4ca94-a34c-4341-ba37-8e68baeae3ce",
        "part": "whole"
       },
       "id": "d4b7ab68-d1a4-4c9d-a6ba-260746bf6655"
      }
     }
    },
    "db661a8d-dd6e-4f79-8f5e-2ecd2017f68c": {
     "id": "db661a8d-dd6e-4f79-8f5e-2ecd2017f68c",
     "prev": "732f56a3-79d9-4c99-a969-fb77ef7cbe03",
     "regions": {
      "329ed0f9-5402-4e35-97c3-8372b24c43da": {
       "attrs": {
        "height": 0.8,
        "width": 0.8,
        "x": 0.1,
        "y": 0.1
       },
       "content": {
        "cell": "b9f9bff0-ab52-40b9-a654-d4a3a8eaf3ac",
        "part": "whole"
       },
       "id": "329ed0f9-5402-4e35-97c3-8372b24c43da"
      }
     }
    },
    "e1161d2e-9620-4947-a928-9693a010a5fb": {
     "id": "e1161d2e-9620-4947-a928-9693a010a5fb",
     "prev": "8346bc6f-7fba-4d7f-b06c-f7e8117038ca",
     "regions": {
      "4f64cbf9-c7bd-47ff-9c0b-3f3334592f6d": {
       "attrs": {
        "height": 0.8,
        "width": 0.8,
        "x": 0.1,
        "y": 0.1
       },
       "content": {
        "cell": "f078387d-ce51-4885-936e-326e7d0de589",
        "part": "whole"
       },
       "id": "4f64cbf9-c7bd-47ff-9c0b-3f3334592f6d"
      }
     }
    },
    "e8e17cf2-08ba-4ec8-a43b-d3f3ae0eff02": {
     "id": "e8e17cf2-08ba-4ec8-a43b-d3f3ae0eff02",
     "prev": "b591ef3d-75c6-456f-aeec-01b49c072a59",
     "regions": {
      "23a7ad05-5d2d-4c8a-91fb-66e6acc15b76": {
       "attrs": {
        "height": 0.8,
        "width": 0.8,
        "x": 0.1,
        "y": 0.1
       },
       "content": {
        "cell": "7b3e6cbc-f5e6-4d9a-bc99-bf12bee82950",
        "part": "whole"
       },
       "id": "23a7ad05-5d2d-4c8a-91fb-66e6acc15b76"
      }
     }
    },
    "e977bbad-92b9-489d-8ec9-2702576592a1": {
     "id": "e977bbad-92b9-489d-8ec9-2702576592a1",
     "prev": "80a94e3d-68ad-4068-8b91-36c736014c05",
     "regions": {
      "113666db-6a14-4157-8ce6-d4b0c9c518db": {
       "attrs": {
        "height": 0.8,
        "width": 0.8,
        "x": 0.1,
        "y": 0.1
       },
       "content": {
        "cell": "1226d0e9-51e4-48f9-890e-56433db1774e",
        "part": "whole"
       },
       "id": "113666db-6a14-4157-8ce6-d4b0c9c518db"
      }
     }
    },
    "f6659671-7fa2-4563-8589-c255d1ee018b": {
     "id": "f6659671-7fa2-4563-8589-c255d1ee018b",
     "prev": "a8418a7b-77b1-4f6d-818b-14ba3c686862",
     "regions": {
      "471d02f1-b276-415f-a085-590f57419eff": {
       "attrs": {
        "height": 0.8,
        "width": 0.8,
        "x": 0.1,
        "y": 0.1
       },
       "content": {
        "cell": "f533cbe9-fa40-42c8-8e03-765a9d82b781",
        "part": "whole"
       },
       "id": "471d02f1-b276-415f-a085-590f57419eff"
      }
     }
    },
    "fa1c5987-e48a-4392-8b3c-6a90b297a1d7": {
     "id": "fa1c5987-e48a-4392-8b3c-6a90b297a1d7",
     "prev": "887302f0-23bc-47b6-a8c4-94d65b481c46",
     "regions": {
      "a7cb8c87-d870-43f0-8f16-b3b083dea06f": {
       "attrs": {
        "height": 0.8,
        "width": 0.8,
        "x": 0.1,
        "y": 0.1
       },
       "content": {
        "cell": "14a4e90f-035a-4c19-9336-44db913bb637",
        "part": "whole"
       },
       "id": "a7cb8c87-d870-43f0-8f16-b3b083dea06f"
      }
     }
    },
    "fae3e1da-f994-44e9-82e4-8561fc76817b": {
     "id": "fae3e1da-f994-44e9-82e4-8561fc76817b",
     "prev": "7d06b8f7-fa4a-4542-820e-293eccc8f7f6",
     "regions": {
      "d6b232fd-ccf7-44c0-9cd6-ef33e9ee63db": {
       "attrs": {
        "height": 0.8,
        "width": 0.8,
        "x": 0.1,
        "y": 0.1
       },
       "content": {
        "cell": "050af3cd-d73e-4428-bb1b-01a797e40e40",
        "part": "whole"
       },
       "id": "d6b232fd-ccf7-44c0-9cd6-ef33e9ee63db"
      }
     }
    },
    "fbda7490-5bb4-43e4-b18c-2f5f46c79c2d": {
     "id": "fbda7490-5bb4-43e4-b18c-2f5f46c79c2d",
     "prev": "4eb383d3-5135-418c-b119-48bc7ddd6b35",
     "regions": {
      "2e82c1bf-1399-467f-a7c1-ef9c6d5004a0": {
       "attrs": {
        "height": 0.8,
        "width": 0.8,
        "x": 0.1,
        "y": 0.1
       },
       "content": {
        "cell": "f4c2ba99-7ced-4775-9a74-835ad9ebefc5",
        "part": "whole"
       },
       "id": "2e82c1bf-1399-467f-a7c1-ef9c6d5004a0"
      }
     }
    }
   },
   "themes": {}
  }
 },
 "nbformat": 4,
 "nbformat_minor": 0
}
